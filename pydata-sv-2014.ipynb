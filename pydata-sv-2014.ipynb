{
 "metadata": {
  "celltoolbar": "Slideshow",
  "name": "",
  "signature": "sha256:4ad2d3443a46dc546d77dfb5de5eb469a20720c77929dae652c10ed12cd2fdcb"
 },
 "nbformat": 3,
 "nbformat_minor": 0,
 "worksheets": [
  {
   "cells": [
    {
     "cell_type": "markdown",
     "metadata": {
      "slideshow": {
       "slide_type": "slide"
      }
     },
     "source": [
      "# Functional Performance with Core Data Structures"
     ]
    },
    {
     "cell_type": "markdown",
     "metadata": {},
     "source": [
      "By Matthew Rocklin"
     ]
    },
    {
     "cell_type": "markdown",
     "metadata": {
      "slideshow": {
       "slide_type": "slide"
      }
     },
     "source": [
      "## TL; DR\n",
      "\n",
      "Pure Python is not always slow\n",
      "\n",
      "Python is a decent functional langauge"
     ]
    },
    {
     "cell_type": "markdown",
     "metadata": {
      "slideshow": {
       "slide_type": "slide"
      }
     },
     "source": [
      "# You think that Python is Slow"
     ]
    },
    {
     "cell_type": "code",
     "collapsed": false,
     "input": [
      "def matmul(X, Y):\n",
      "    \"\"\" Python Matrix Multiplication\n",
      "\n",
      "    >>> X = [[1, 0], [0, 1]]\n",
      "    >>> Y = [[1, 2], [3, 4]]\n",
      "    >>> matmul(X, Y)\n",
      "    [[1, 2], [3, 4]]\n",
      "    \n",
      "    >>> matmul(Y, Y)\n",
      "    [[7, 10], [15, 22]]\n",
      "    \"\"\"\n",
      "    Z = []\n",
      "    for i in xrange(len(X)):\n",
      "        row = []\n",
      "        for j in xrange(len(X[0])):\n",
      "            total = 0\n",
      "            for k in xrange(len(Y[0])):\n",
      "                total += X[i][k] * Y[k][j]\n",
      "            row.append(total)\n",
      "        Z.append(row)\n",
      "    return Z"
     ],
     "language": "python",
     "metadata": {},
     "outputs": [],
     "prompt_number": 1
    },
    {
     "cell_type": "markdown",
     "metadata": {
      "slideshow": {
       "slide_type": "subslide"
      }
     },
     "source": [
      "## Sometimes it is"
     ]
    },
    {
     "cell_type": "code",
     "collapsed": false,
     "input": [
      "n = 400\n",
      "X = [[i + j for i in range(n)] \n",
      "            for j in range(n)]"
     ],
     "language": "python",
     "metadata": {},
     "outputs": [],
     "prompt_number": 2
    },
    {
     "cell_type": "code",
     "collapsed": false,
     "input": [
      "%timeit matmul(X, X)"
     ],
     "language": "python",
     "metadata": {
      "slideshow": {
       "slide_type": "-"
      }
     },
     "outputs": [
      {
       "output_type": "stream",
       "stream": "stdout",
       "text": [
        "1 loops, best of 3: 10.4 s per loop\n"
       ]
      }
     ],
     "prompt_number": 3
    },
    {
     "cell_type": "code",
     "collapsed": false,
     "input": [
      "import numpy as np\n",
      "nX = np.array(X)\n",
      "\n",
      "% timeit nX.dot(nX)"
     ],
     "language": "python",
     "metadata": {},
     "outputs": [
      {
       "output_type": "stream",
       "stream": "stdout",
       "text": [
        "10 loops, best of 3: 99.5 ms per loop\n"
       ]
      }
     ],
     "prompt_number": 4
    },
    {
     "cell_type": "markdown",
     "metadata": {
      "slideshow": {
       "slide_type": "subslide"
      }
     },
     "source": [
      "Pure Python is 10x to 100x slower than C"
     ]
    },
    {
     "cell_type": "markdown",
     "metadata": {
      "slideshow": {
       "slide_type": "fragment"
      }
     },
     "source": [
      "... for numeric computation."
     ]
    },
    {
     "cell_type": "markdown",
     "metadata": {
      "slideshow": {
       "slide_type": "fragment"
      }
     },
     "source": [
      "But what about everything else?"
     ]
    },
    {
     "cell_type": "markdown",
     "metadata": {
      "slideshow": {
       "slide_type": "slide"
      }
     },
     "source": [
      "# Python core data structures are fast"
     ]
    },
    {
     "cell_type": "markdown",
     "metadata": {
      "slideshow": {
       "slide_type": "subslide"
      }
     },
     "source": [
      "## Frequency Counting"
     ]
    },
    {
     "cell_type": "code",
     "collapsed": false,
     "input": [
      "def frequencies(seq):\n",
      "    \"\"\" Count the number of occurences of each element in seq \"\"\"\n",
      "    d = dict()\n",
      "    for item in seq:\n",
      "        if item not in d:\n",
      "            d[item] = 1\n",
      "        else:\n",
      "            d[item] = d[item] + 1\n",
      "    return d\n",
      "\n",
      "data = ['Alice', 'Bob', 'Charlie', 'Dan', 'Edith', 'Frank'] * 1000000\n",
      "\n",
      "frequencies(data)"
     ],
     "language": "python",
     "metadata": {},
     "outputs": [
      {
       "metadata": {},
       "output_type": "pyout",
       "prompt_number": 5,
       "text": [
        "{'Alice': 1000000,\n",
        " 'Bob': 1000000,\n",
        " 'Charlie': 1000000,\n",
        " 'Dan': 1000000,\n",
        " 'Edith': 1000000,\n",
        " 'Frank': 1000000}"
       ]
      }
     ],
     "prompt_number": 5
    },
    {
     "cell_type": "markdown",
     "metadata": {
      "slideshow": {
       "slide_type": "subslide"
      }
     },
     "source": [
      "## Micro-Benchmark: Frequency Counting"
     ]
    },
    {
     "cell_type": "code",
     "collapsed": false,
     "input": [
      "timeit frequencies(data)"
     ],
     "language": "python",
     "metadata": {},
     "outputs": [
      {
       "output_type": "stream",
       "stream": "stdout",
       "text": [
        "1 loops, best of 3: 807 ms per loop\n"
       ]
      }
     ],
     "prompt_number": 6
    },
    {
     "cell_type": "code",
     "collapsed": false,
     "input": [
      "import collections\n",
      "%timeit collections.Counter(data)"
     ],
     "language": "python",
     "metadata": {
      "slideshow": {
       "slide_type": "fragment"
      }
     },
     "outputs": [
      {
       "output_type": "stream",
       "stream": "stdout",
       "text": [
        "1 loops, best of 3: 1.61 s per loop\n"
       ]
      }
     ],
     "prompt_number": 7
    },
    {
     "cell_type": "code",
     "collapsed": false,
     "input": [
      "import toolz\n",
      "%timeit toolz.frequencies(data)"
     ],
     "language": "python",
     "metadata": {
      "slideshow": {
       "slide_type": "fragment"
      }
     },
     "outputs": [
      {
       "output_type": "stream",
       "stream": "stdout",
       "text": [
        "1 loops, best of 3: 520 ms per loop\n"
       ]
      }
     ],
     "prompt_number": 8
    },
    {
     "cell_type": "code",
     "collapsed": true,
     "input": [
      "from pandas import Series\n",
      "series = Series(data)\n",
      "%timeit series.value_counts()"
     ],
     "language": "python",
     "metadata": {
      "slideshow": {
       "slide_type": "fragment"
      }
     },
     "outputs": [
      {
       "output_type": "stream",
       "stream": "stdout",
       "text": [
        "1 loops, best of 3: 295 ms per loop\n"
       ]
      }
     ],
     "prompt_number": 9
    },
    {
     "cell_type": "markdown",
     "metadata": {
      "slideshow": {
       "slide_type": "subslide"
      }
     },
     "source": [
      "## How does this compare with Java?"
     ]
    },
    {
     "cell_type": "markdown",
     "metadata": {
      "slideshow": {
       "slide_type": "-"
      }
     },
     "source": [
      "```\n",
      "import java.io.*;\n",
      "import java.util.*;\n",
      "\n",
      "public class Frequencies{\n",
      "\n",
      "    public static void main(String[] args) throws IOException{\n",
      "        // Open file for reading\n",
      "        List<String> data = new ArrayList<String>();\n",
      "        for(int i = 0; i < 1000000; i++)\n",
      "        {\n",
      "            data.add(\"Alice\");\n",
      "            data.add(\"Bob\");\n",
      "            data.add(\"Charlie\");\n",
      "            data.add(\"Dan\");\n",
      "            data.add(\"Edith\");\n",
      "            data.add(\"Frank\");\n",
      "        }\n",
      "\n",
      "        Map<String, Integer> result = new HashMap<String, Integer>();\n",
      "\n",
      "        // Start timer\n",
      "        final long startTime = System.nanoTime();\n",
      "\n",
      "        for(String item: data){\n",
      "            if (!result.containsKey(item))\n",
      "                result.put(item, 1);\n",
      "            else\n",
      "                result.put(item, result.get(item) + 1);\n",
      "        }\n",
      "        // End timer\n",
      "        final long endTime = System.nanoTime();\n",
      "\n",
      "        System.out.printf(\"Time elapsed: %f ms\\n\",\n",
      "                          (float)(endTime - startTime) / 1e6);\n",
      "    }\n",
      "}\n",
      "```"
     ]
    },
    {
     "cell_type": "code",
     "collapsed": false,
     "input": [
      " timeit frequencies(data)"
     ],
     "language": "python",
     "metadata": {
      "slideshow": {
       "slide_type": "subslide"
      }
     },
     "outputs": [
      {
       "output_type": "stream",
       "stream": "stdout",
       "text": [
        "1 loops, best of 3: 815 ms per loop\n"
       ]
      }
     ],
     "prompt_number": 10
    },
    {
     "cell_type": "code",
     "collapsed": false,
     "input": [
      "%timeit toolz.frequencies(data)"
     ],
     "language": "python",
     "metadata": {},
     "outputs": [
      {
       "output_type": "stream",
       "stream": "stdout",
       "text": [
        "1 loops, best of 3: 525 ms per loop\n"
       ]
      }
     ],
     "prompt_number": 11
    },
    {
     "cell_type": "code",
     "collapsed": true,
     "input": [
      "%timeit series.value_counts()"
     ],
     "language": "python",
     "metadata": {},
     "outputs": [
      {
       "output_type": "stream",
       "stream": "stdout",
       "text": [
        "1 loops, best of 3: 298 ms per loop\n"
       ]
      }
     ],
     "prompt_number": 12
    },
    {
     "cell_type": "code",
     "collapsed": false,
     "input": [
      "!java Frequencies"
     ],
     "language": "python",
     "metadata": {},
     "outputs": [
      {
       "output_type": "stream",
       "stream": "stdout",
       "text": [
        "Time elapsed: 205.301728 ms\r\n"
       ]
      }
     ],
     "prompt_number": 13
    },
    {
     "cell_type": "markdown",
     "metadata": {
      "slideshow": {
       "slide_type": "slide"
      }
     },
     "source": [
      "Yes, Python is slower, but not *that* much slower\n",
      "\n",
      "It's more like 2x-5x slower"
     ]
    },
    {
     "cell_type": "markdown",
     "metadata": {
      "slideshow": {
       "slide_type": "slide"
      }
     },
     "source": [
      "## Consider staying in Pure Python\n",
      "\n",
      "*   Simple accessible data structures\n",
      "*   Portability\n",
      "*   Library support\n",
      "*   Streaming data structures\n",
      "*   Easy parallelism"
     ]
    },
    {
     "cell_type": "markdown",
     "metadata": {
      "slideshow": {
       "slide_type": "fragment"
      }
     },
     "source": [
      "*   A great standard library for streaming analytics"
     ]
    },
    {
     "cell_type": "markdown",
     "metadata": {
      "slideshow": {
       "slide_type": "slide"
      }
     },
     "source": [
      "# Functional Standard Library"
     ]
    },
    {
     "cell_type": "code",
     "collapsed": false,
     "input": [
      "from toolz import *\n",
      "map = compose(list, map)\n",
      "filter = compose(list, filter)"
     ],
     "language": "python",
     "metadata": {
      "slideshow": {
       "slide_type": "skip"
      }
     },
     "outputs": [],
     "prompt_number": 14
    },
    {
     "cell_type": "code",
     "collapsed": false,
     "input": [
      "names = ['Alice', 'Bob', 'Charlie', 'Dan', 'Edith', 'Frank']\n",
      "groupby(len, names)"
     ],
     "language": "python",
     "metadata": {
      "slideshow": {
       "slide_type": "-"
      }
     },
     "outputs": [
      {
       "metadata": {},
       "output_type": "pyout",
       "prompt_number": 15,
       "text": [
        "{3: ['Bob', 'Dan'], 5: ['Alice', 'Edith', 'Frank'], 7: ['Charlie']}"
       ]
      }
     ],
     "prompt_number": 15
    },
    {
     "cell_type": "markdown",
     "metadata": {},
     "source": [
      "## Implemented in imperative by design languages\n",
      "\n",
      "*  Python: `itertools`, `functools`\n",
      "*  JavaScript: Underscore.js\n",
      "*  .NET:  LINQ\n",
      "*  Ruby:  Enumerable"
     ]
    },
    {
     "cell_type": "markdown",
     "metadata": {
      "slideshow": {
       "slide_type": "subslide"
      }
     },
     "source": [
      "## Python supports some functional concepts out of the box"
     ]
    },
    {
     "cell_type": "code",
     "collapsed": false,
     "input": [
      "def double(x):\n",
      "    return x * 2\n",
      "\n",
      "def iseven(n):\n",
      "    return n % 2 == 0\n",
      "\n",
      "def add(x, y):\n",
      "    return x + y"
     ],
     "language": "python",
     "metadata": {
      "slideshow": {
       "slide_type": "-"
      }
     },
     "outputs": [],
     "prompt_number": 16
    },
    {
     "cell_type": "code",
     "collapsed": true,
     "input": [
      "map(double, [1, 2, 3, 4, 5])"
     ],
     "language": "python",
     "metadata": {},
     "outputs": [
      {
       "metadata": {},
       "output_type": "pyout",
       "prompt_number": 17,
       "text": [
        "[2, 4, 6, 8, 10]"
       ]
      }
     ],
     "prompt_number": 17
    },
    {
     "cell_type": "code",
     "collapsed": false,
     "input": [
      "filter(iseven, [1, 2, 3, 4, 5])"
     ],
     "language": "python",
     "metadata": {},
     "outputs": [
      {
       "metadata": {},
       "output_type": "pyout",
       "prompt_number": 18,
       "text": [
        "[2, 4]"
       ]
      }
     ],
     "prompt_number": 18
    },
    {
     "cell_type": "code",
     "collapsed": false,
     "input": [
      "reduce(add, [1, 2, 3, 4, 5])  # sum, min, max, len, ..."
     ],
     "language": "python",
     "metadata": {},
     "outputs": [
      {
       "metadata": {},
       "output_type": "pyout",
       "prompt_number": 19,
       "text": [
        "15"
       ]
      }
     ],
     "prompt_number": 19
    },
    {
     "cell_type": "markdown",
     "metadata": {
      "slideshow": {
       "slide_type": "subslide"
      }
     },
     "source": [
      "## Extending `islice`"
     ]
    },
    {
     "cell_type": "code",
     "collapsed": false,
     "input": [
      "data = [1, 2, 3, 4, 5, 6, 7, 8, 9, 0]"
     ],
     "language": "python",
     "metadata": {
      "slideshow": {
       "slide_type": "-"
      }
     },
     "outputs": [],
     "prompt_number": 20
    },
    {
     "cell_type": "code",
     "collapsed": false,
     "input": [
      "list(take(5, data))"
     ],
     "language": "python",
     "metadata": {
      "slideshow": {
       "slide_type": "-"
      }
     },
     "outputs": [
      {
       "metadata": {},
       "output_type": "pyout",
       "prompt_number": 21,
       "text": [
        "[1, 2, 3, 4, 5]"
       ]
      }
     ],
     "prompt_number": 21
    },
    {
     "cell_type": "code",
     "collapsed": false,
     "input": [
      "list(drop(5, data))"
     ],
     "language": "python",
     "metadata": {},
     "outputs": [
      {
       "metadata": {},
       "output_type": "pyout",
       "prompt_number": 22,
       "text": [
        "[6, 7, 8, 9, 0]"
       ]
      }
     ],
     "prompt_number": 22
    },
    {
     "cell_type": "code",
     "collapsed": false,
     "input": [
      "list(interleave([[1, 2, 3], [100, 200, 300]]))"
     ],
     "language": "python",
     "metadata": {
      "slideshow": {
       "slide_type": "-"
      }
     },
     "outputs": [
      {
       "metadata": {},
       "output_type": "pyout",
       "prompt_number": 23,
       "text": [
        "[1, 100, 2, 200, 3, 300]"
       ]
      }
     ],
     "prompt_number": 23
    },
    {
     "cell_type": "code",
     "collapsed": false,
     "input": [
      "list(merge_sorted([1, 3, 5], [4, 5, 6], [1, 7, 9]))"
     ],
     "language": "python",
     "metadata": {},
     "outputs": [
      {
       "metadata": {},
       "output_type": "pyout",
       "prompt_number": 24,
       "text": [
        "[1, 1, 3, 4, 5, 5, 6, 7, 9]"
       ]
      }
     ],
     "prompt_number": 24
    },
    {
     "cell_type": "markdown",
     "metadata": {
      "slideshow": {
       "slide_type": "subslide"
      }
     },
     "source": [
      "## Memoization"
     ]
    },
    {
     "cell_type": "code",
     "collapsed": false,
     "input": [
      "@memoize\n",
      "def fib(n):\n",
      "    if n in (0, 1):\n",
      "        return n\n",
      "    else:\n",
      "        return fib(n - 1) + fib(n - 2)\n",
      "\n",
      "fib(100)"
     ],
     "language": "python",
     "metadata": {
      "slideshow": {
       "slide_type": "-"
      }
     },
     "outputs": [
      {
       "metadata": {},
       "output_type": "pyout",
       "prompt_number": 25,
       "text": [
        "354224848179261915075L"
       ]
      }
     ],
     "prompt_number": 25
    },
    {
     "cell_type": "markdown",
     "metadata": {
      "slideshow": {
       "slide_type": "subslide"
      }
     },
     "source": [
      "## Dictionary Munging"
     ]
    },
    {
     "cell_type": "code",
     "collapsed": false,
     "input": [
      "merge({1: 'one'}, {2: 'two'}, {3: 'three'})\n"
     ],
     "language": "python",
     "metadata": {
      "slideshow": {
       "slide_type": "-"
      }
     },
     "outputs": [
      {
       "metadata": {},
       "output_type": "pyout",
       "prompt_number": 26,
       "text": [
        "{1: 'one', 2: 'two', 3: 'three'}"
       ]
      }
     ],
     "prompt_number": 26
    },
    {
     "cell_type": "code",
     "collapsed": false,
     "input": [
      "merge_with(sum, {'Alice': 100, 'Bob': 200}, \n",
      "                {'Alice': 1, 'Bob': 2}, \n",
      "                {'Bob': -1000})"
     ],
     "language": "python",
     "metadata": {
      "slideshow": {
       "slide_type": "-"
      }
     },
     "outputs": [
      {
       "metadata": {},
       "output_type": "pyout",
       "prompt_number": 27,
       "text": [
        "{'Alice': 101, 'Bob': -798}"
       ]
      }
     ],
     "prompt_number": 27
    },
    {
     "cell_type": "markdown",
     "metadata": {
      "slideshow": {
       "slide_type": "subslide"
      }
     },
     "source": [
      "## Currying and Pipe (`->>`) "
     ]
    },
    {
     "cell_type": "code",
     "collapsed": false,
     "input": [
      "@curry\n",
      "def mul(x, y):\n",
      "    return x * y\n",
      "\n",
      "double = mul(2)\n",
      "\n",
      "double(5)"
     ],
     "language": "python",
     "metadata": {
      "slideshow": {
       "slide_type": "-"
      }
     },
     "outputs": [
      {
       "metadata": {},
       "output_type": "pyout",
       "prompt_number": 28,
       "text": [
        "10"
       ]
      }
     ],
     "prompt_number": 28
    },
    {
     "cell_type": "code",
     "collapsed": false,
     "input": [
      "pipe(3, double, double, str)"
     ],
     "language": "python",
     "metadata": {
      "slideshow": {
       "slide_type": "-"
      }
     },
     "outputs": [
      {
       "metadata": {},
       "output_type": "pyout",
       "prompt_number": 29,
       "text": [
        "'12'"
       ]
      }
     ],
     "prompt_number": 29
    },
    {
     "cell_type": "markdown",
     "metadata": {
      "slideshow": {
       "slide_type": "subslide"
      }
     },
     "source": [
      "## Wordcounting"
     ]
    },
    {
     "cell_type": "code",
     "collapsed": false,
     "input": [
      "from toolz.curried import map\n",
      "\n",
      "def stem(word):\n",
      "    \"\"\" Stem word to basic form\n",
      "    \n",
      "    >>> stem('Hello!')\n",
      "    'hello'\n",
      "    \"\"\"\n",
      "    return word.lower().rstrip(\",.!:;'-\\\"()_\").lstrip(\"()'\\\"_\")\n",
      "\n",
      "sentence = \"This cat jumped over this other cat!\"\n",
      "\n",
      "pipe(sentence, str.split, map(stem), frequencies)"
     ],
     "language": "python",
     "metadata": {
      "slideshow": {
       "slide_type": "-"
      }
     },
     "outputs": [
      {
       "metadata": {},
       "output_type": "pyout",
       "prompt_number": 30,
       "text": [
        "{'cat': 2, 'jumped': 1, 'other': 1, 'over': 1, 'this': 2}"
       ]
      }
     ],
     "prompt_number": 30
    },
    {
     "cell_type": "markdown",
     "metadata": {
      "slideshow": {
       "slide_type": "slide"
      }
     },
     "source": [
      "# Introducing PyToolz\n",
      "\n",
      "*A collection of functions*:  `itertoolz + functoolz + dicttoolz = toolz`\n",
      "\n",
      "*  **Composable**: They interoperate due to their use of core data structures.\n",
      "*  **Pure**: They don\u2019t change their inputs or rely on external state.\n",
      "*  **Lazy**: They don\u2019t run until absolutely necessary, allowing them to support large streaming data sets."
     ]
    },
    {
     "cell_type": "markdown",
     "metadata": {
      "slideshow": {
       "slide_type": "fragment"
      }
     },
     "source": [
      "*  **Low Tech**: They\u2019re just functions, no syntax or magic tricks to learn\n",
      "*  **Tuned**: They\u2019re profiled and optimized\n",
      "*  **Serializable**: They support common solutions for parallel computing"
     ]
    },
    {
     "cell_type": "markdown",
     "metadata": {
      "slideshow": {
       "slide_type": "fragment"
      }
     },
     "source": [
      "*  **Tested**:  100% coverage\n",
      "*  **Documented**:  Comprehensive docstrings.  Also see [toolz.readthedocs.org](toolz.readthedocs.org)\n",
      "*  **Mature Design**:  Inherits from long tradition of functional languages"
     ]
    },
    {
     "cell_type": "markdown",
     "metadata": {
      "slideshow": {
       "slide_type": "-"
      }
     },
     "source": [
      "```bash\n",
      "$ git shortlog -ns\n",
      "   368  Matthew Rocklin\n",
      "    64  Erik Welch\n",
      "    48  John Jacobsen\n",
      "    15  Graeme Coupar\n",
      "     5  han semaj\n",
      "     5  jcrichton\n",
      "     2  Julian\n",
      "     1  James Rowe\n",
      "     1  Leonid Shvechikov\n",
      "     1  Stefane Fermigier\n",
      "```"
     ]
    },
    {
     "cell_type": "markdown",
     "metadata": {
      "slideshow": {
       "slide_type": "slide"
      }
     },
     "source": [
      "## More Wordcounting \n",
      "\n",
      "We can write functional programming in a strange way"
     ]
    },
    {
     "cell_type": "code",
     "collapsed": false,
     "input": [
      "%%time\n",
      "pipe('data/tale-of-two-cities.txt', open, map(str.strip),   # Strip each line\n",
      "                                          map(str.split),   # Split each line to sequence of words\n",
      "                                          concat,           # Concatenate words to single sequence\n",
      "                                          map(stem),        # Stem each word\n",
      "                                          frequencies)      # Count frequencies"
     ],
     "language": "python",
     "metadata": {},
     "outputs": [
      {
       "output_type": "stream",
       "stream": "stdout",
       "text": [
        "CPU times: user 147 ms, sys: 2.14 ms, total: 149 ms\n",
        "Wall time: 148 ms\n"
       ]
      },
      {
       "metadata": {},
       "output_type": "pyout",
       "prompt_number": 31,
       "text": [
        "{'': 7,\n",
        " '#98]': 1,\n",
        " '$1': 1,\n",
        " '$5,000': 1,\n",
        " '*': 12,\n",
        " '***': 6,\n",
        " '*****': 12,\n",
        " '--and': 1,\n",
        " '--any': 1,\n",
        " '--at': 1,\n",
        " '--halloa': 1,\n",
        " '--here': 1,\n",
        " '--i': 1,\n",
        " '--in': 1,\n",
        " '--or': 1,\n",
        " '--rendered': 1,\n",
        " '--respecting': 1,\n",
        " '--wasted': 1,\n",
        " '1': 1,\n",
        " '1.a': 1,\n",
        " '1.b': 1,\n",
        " '1.c': 2,\n",
        " '1.d': 1,\n",
        " '1.e': 2,\n",
        " '1.e.1': 5,\n",
        " '1.e.2': 1,\n",
        " '1.e.3': 1,\n",
        " '1.e.4': 1,\n",
        " '1.e.5': 1,\n",
        " '1.e.6': 1,\n",
        " '1.e.7': 3,\n",
        " '1.e.8': 4,\n",
        " '1.e.9': 3,\n",
        " '1.f': 1,\n",
        " '1.f.1': 1,\n",
        " '1.f.2': 1,\n",
        " '1.f.3': 4,\n",
        " '1.f.4': 1,\n",
        " '1.f.5': 1,\n",
        " '1.f.6': 1,\n",
        " '1500': 1,\n",
        " '1757': 1,\n",
        " '1767': 2,\n",
        " '1792': 1,\n",
        " '1994': 1,\n",
        " '2': 1,\n",
        " '20%': 1,\n",
        " '2001': 1,\n",
        " '2009': 1,\n",
        " '2013]': 1,\n",
        " '21': 1,\n",
        " '27': 1,\n",
        " '28': 1,\n",
        " '3': 3,\n",
        " '30': 1,\n",
        " '4': 3,\n",
        " '4557': 1,\n",
        " '5': 1,\n",
        " '50': 1,\n",
        " '501(c)(3': 2,\n",
        " '596-1887': 1,\n",
        " '60': 1,\n",
        " '64-6221541': 1,\n",
        " '801': 1,\n",
        " '809': 1,\n",
        " '84116': 1,\n",
        " '90': 2,\n",
        " '98-8.txt': 1,\n",
        " '98-8.zip': 1,\n",
        " '99712': 1,\n",
        " '[ebook': 1,\n",
        " '[last': 1,\n",
        " 'a': 2980,\n",
        " 'a--a': 1,\n",
        " 'a-a-a-business': 1,\n",
        " 'a-a-matter': 1,\n",
        " 'a-buzz': 1,\n",
        " 'a-tiptoe': 1,\n",
        " 'aback': 1,\n",
        " 'abandon': 1,\n",
        " 'abandoned': 10,\n",
        " 'abandoning': 1,\n",
        " 'abandonment': 1,\n",
        " 'abashed': 1,\n",
        " 'abate': 1,\n",
        " 'abated': 1,\n",
        " 'abbaye': 4,\n",
        " 'abbaye--in': 1,\n",
        " 'abed': 2,\n",
        " 'abhorrence': 1,\n",
        " 'abide': 1,\n",
        " 'abided': 1,\n",
        " 'abiding': 1,\n",
        " 'abilities': 1,\n",
        " 'ability': 2,\n",
        " 'abject': 1,\n",
        " 'ablaze': 1,\n",
        " 'able': 17,\n",
        " 'aboard': 1,\n",
        " 'abode': 1,\n",
        " 'abolished': 2,\n",
        " 'abolished--expression': 1,\n",
        " 'abolishing': 1,\n",
        " 'abolition': 1,\n",
        " 'abominable': 2,\n",
        " 'abounding': 1,\n",
        " 'about': 167,\n",
        " 'about?': 2,\n",
        " 'above': 23,\n",
        " 'abreast': 2,\n",
        " 'abridge': 1,\n",
        " 'abroad': 2,\n",
        " 'abrupt': 3,\n",
        " 'abruptly': 1,\n",
        " 'absence': 8,\n",
        " 'absent': 5,\n",
        " 'absolute': 3,\n",
        " 'absolutely': 7,\n",
        " 'absolving': 1,\n",
        " 'absorbed': 4,\n",
        " 'absorption': 1,\n",
        " 'abstractedly': 1,\n",
        " 'abstraction': 3,\n",
        " 'absurd': 1,\n",
        " 'abundance': 1,\n",
        " 'abundant': 4,\n",
        " 'abuse': 1,\n",
        " 'abused': 1,\n",
        " 'abyss': 1,\n",
        " 'abyssinia': 1,\n",
        " 'accent': 2,\n",
        " 'accents': 1,\n",
        " 'accept': 5,\n",
        " 'acceptable': 1,\n",
        " 'acceptation': 1,\n",
        " 'accepted': 3,\n",
        " 'accepting': 1,\n",
        " 'access': 14,\n",
        " 'accessed': 1,\n",
        " 'accessible': 2,\n",
        " 'accessories': 1,\n",
        " 'accident': 2,\n",
        " 'accident--a': 1,\n",
        " 'accidental': 3,\n",
        " 'accidentally': 3,\n",
        " 'acclamation': 1,\n",
        " 'acclamations': 2,\n",
        " 'accommodation': 1,\n",
        " 'accompanied': 4,\n",
        " 'accompaniment': 2,\n",
        " 'accompany': 4,\n",
        " 'accompanying': 1,\n",
        " 'accomplices': 1,\n",
        " 'accomplished': 5,\n",
        " 'accomplishing': 1,\n",
        " 'accomplishments': 2,\n",
        " 'accord': 1,\n",
        " 'accordance': 4,\n",
        " 'accorded': 1,\n",
        " 'according': 10,\n",
        " 'accordingly': 6,\n",
        " 'accost': 1,\n",
        " 'accosted': 1,\n",
        " 'account': 19,\n",
        " 'account--it': 1,\n",
        " 'account--was': 1,\n",
        " 'accounts': 2,\n",
        " 'accoutred': 1,\n",
        " 'accumulated': 1,\n",
        " 'accumulating': 1,\n",
        " 'accurate': 1,\n",
        " 'accurately': 1,\n",
        " 'accursed': 4,\n",
        " 'accursed?': 1,\n",
        " 'accusation': 2,\n",
        " 'accused': 13,\n",
        " 'accustomed': 7,\n",
        " 'ace': 3,\n",
        " 'achieve': 1,\n",
        " 'achieved': 1,\n",
        " 'achievement': 1,\n",
        " 'achievements': 1,\n",
        " 'achieving': 1,\n",
        " 'acknowledge': 1,\n",
        " 'acknowledged': 5,\n",
        " 'acknowledgment': 2,\n",
        " 'acknowledgments?': 1,\n",
        " 'acoustical': 1,\n",
        " 'acquaintance': 1,\n",
        " 'acquainted': 2,\n",
        " 'acquiesced': 1,\n",
        " 'acquiescence': 1,\n",
        " 'acquired': 2,\n",
        " 'acquirements--a': 1,\n",
        " 'acquisition': 1,\n",
        " 'acquit': 1,\n",
        " 'acquittal': 1,\n",
        " 'acquitted': 3,\n",
        " 'acres': 1,\n",
        " 'across': 36,\n",
        " 'act': 11,\n",
        " 'acted': 9,\n",
        " 'action': 20,\n",
        " 'action--not': 1,\n",
        " 'actions': 1,\n",
        " 'active': 6,\n",
        " 'actively': 2,\n",
        " 'actor': 1,\n",
        " 'actual': 4,\n",
        " 'actually': 5,\n",
        " 'acute': 1,\n",
        " 'acuteness': 1,\n",
        " 'adam': 1,\n",
        " 'add': 7,\n",
        " 'added': 32,\n",
        " 'addition': 3,\n",
        " 'additional': 8,\n",
        " 'additionally': 2,\n",
        " 'additions': 3,\n",
        " 'address': 8,\n",
        " 'addressed': 7,\n",
        " 'addressed?': 1,\n",
        " 'addresses': 2,\n",
        " 'addressing': 5,\n",
        " 'adequately': 1,\n",
        " 'adieu': 3,\n",
        " 'adjacent': 5,\n",
        " 'adjective': 1,\n",
        " 'adjoining': 4,\n",
        " 'adjourned': 1,\n",
        " 'adjuration': 1,\n",
        " 'adjure': 1,\n",
        " 'adjured': 2,\n",
        " 'adjusted': 2,\n",
        " 'adjusting': 2,\n",
        " 'administered': 2,\n",
        " 'admirable': 4,\n",
        " 'admiration': 5,\n",
        " 'admire': 3,\n",
        " 'admired': 1,\n",
        " 'admirers': 1,\n",
        " 'admiring': 4,\n",
        " 'admission': 3,\n",
        " 'admit': 7,\n",
        " 'admittance': 1,\n",
        " 'admitted': 4,\n",
        " 'admonish': 1,\n",
        " 'admonitory': 1,\n",
        " 'adopted': 1,\n",
        " 'adorable': 1,\n",
        " 'adorn--the': 1,\n",
        " 'adorned': 1,\n",
        " 'adornments': 1,\n",
        " 'adust': 1,\n",
        " 'advance': 10,\n",
        " 'advanced': 9,\n",
        " 'advancing': 4,\n",
        " 'advancing?': 1,\n",
        " 'advantage': 5,\n",
        " 'advantages': 2,\n",
        " 'adventurous': 3,\n",
        " 'advice': 7,\n",
        " 'advisable': 1,\n",
        " 'advise': 6,\n",
        " 'advised': 3,\n",
        " 'adviser--a': 1,\n",
        " 'advocate': 2,\n",
        " \"advocate's\": 1,\n",
        " 'afar': 4,\n",
        " 'affably': 1,\n",
        " 'affair': 1,\n",
        " 'affairs': 12,\n",
        " 'affect': 3,\n",
        " 'affected': 4,\n",
        " 'affectingly': 1,\n",
        " 'affection': 6,\n",
        " 'affectionate': 6,\n",
        " 'affectionately': 3,\n",
        " 'affections': 3,\n",
        " 'affidavit': 1,\n",
        " 'affirmative': 2,\n",
        " 'afflicted': 6,\n",
        " 'affliction': 3,\n",
        " 'afford': 3,\n",
        " 'afforded': 1,\n",
        " 'affrighted': 1,\n",
        " 'afire': 1,\n",
        " 'afoot': 1,\n",
        " 'afore': 1,\n",
        " 'aforesaid': 2,\n",
        " 'afraid': 15,\n",
        " 'afraid?': 2,\n",
        " 'afresh': 4,\n",
        " 'after': 138,\n",
        " 'afternoon': 18,\n",
        " 'afterwards': 25,\n",
        " 'again': 225,\n",
        " 'again!--to': 1,\n",
        " 'again?': 2,\n",
        " 'against': 78,\n",
        " 'age': 20,\n",
        " 'aged': 2,\n",
        " 'agency': 1,\n",
        " 'agent': 2,\n",
        " 'ages': 4,\n",
        " 'aggerawayter': 2,\n",
        " 'aggerawayter?': 1,\n",
        " 'aggravated': 1,\n",
        " 'aggravation': 1,\n",
        " 'agicultooral': 1,\n",
        " 'agility': 1,\n",
        " 'agin': 6,\n",
        " 'agitated': 6,\n",
        " 'agitation': 9,\n",
        " 'agitation--a': 1,\n",
        " 'ago': 30,\n",
        " 'ago?': 2,\n",
        " 'agonised': 1,\n",
        " 'agony': 7,\n",
        " 'agree': 9,\n",
        " 'agreeable': 9,\n",
        " 'agreed': 5,\n",
        " 'agreement': 19,\n",
        " 'agreement--they': 1,\n",
        " 'ah': 23,\n",
        " 'aha': 1,\n",
        " 'ahead': 2,\n",
        " 'aid': 14,\n",
        " 'aids': 1,\n",
        " 'ailing': 1,\n",
        " 'aiming': 2,\n",
        " 'aims': 1,\n",
        " \"ain't\": 9,\n",
        " 'air': 67,\n",
        " 'airily': 1,\n",
        " 'airs': 2,\n",
        " 'airy': 2,\n",
        " 'ajar': 1,\n",
        " 'ak': 1,\n",
        " 'akin': 2,\n",
        " 'al-ways': 2,\n",
        " 'alacrity': 1,\n",
        " 'alarm': 5,\n",
        " 'alarm-bells': 1,\n",
        " 'alarmed': 4,\n",
        " 'alarming': 4,\n",
        " 'alarmingly': 1,\n",
        " 'alas': 2,\n",
        " 'albeit': 1,\n",
        " 'alcove': 1,\n",
        " 'ale': 1,\n",
        " 'ale-house': 1,\n",
        " 'ale-houses': 1,\n",
        " 'alert': 1,\n",
        " 'alexandre': 6,\n",
        " 'alienated': 1,\n",
        " 'alight': 2,\n",
        " 'alighted': 4,\n",
        " 'alighting': 1,\n",
        " 'alike': 6,\n",
        " 'alive': 10,\n",
        " 'all': 566,\n",
        " 'all?': 5,\n",
        " 'alleys': 1,\n",
        " 'allied': 1,\n",
        " 'allow': 4,\n",
        " 'allowance': 1,\n",
        " 'allowed': 4,\n",
        " 'allowing': 3,\n",
        " 'allusion': 2,\n",
        " 'allusions': 1,\n",
        " 'alluvial': 1,\n",
        " 'ally': 1,\n",
        " 'almost': 47,\n",
        " \"almost-child's\": 1,\n",
        " 'aloft': 2,\n",
        " 'alone': 49,\n",
        " 'alone--blinded': 1,\n",
        " 'alone--for': 1,\n",
        " 'alone?': 3,\n",
        " 'along': 42,\n",
        " 'aloud': 8,\n",
        " 'already': 41,\n",
        " 'already--banishing': 1,\n",
        " 'also': 30,\n",
        " 'altar': 3,\n",
        " 'alter': 3,\n",
        " 'alteration': 1,\n",
        " 'alterations': 1,\n",
        " 'altercation': 1,\n",
        " 'altered': 6,\n",
        " 'alternate': 1,\n",
        " 'alternating': 1,\n",
        " 'although': 16,\n",
        " 'altitude': 1,\n",
        " 'altogether': 13,\n",
        " 'always': 101,\n",
        " 'always--as': 1,\n",
        " 'always-vain': 1,\n",
        " 'am': 225,\n",
        " 'amazed': 3,\n",
        " 'amazement': 3,\n",
        " 'amazingly': 1,\n",
        " 'ambassadors': 1,\n",
        " 'ambition': 4,\n",
        " 'ambuscade': 1,\n",
        " 'amendment': 1,\n",
        " 'amends': 3,\n",
        " 'america': 3,\n",
        " 'americans': 1,\n",
        " 'amiable': 2,\n",
        " 'amiably': 1,\n",
        " 'amicably': 1,\n",
        " 'amidst': 3,\n",
        " 'amiss': 2,\n",
        " 'ammunition': 1,\n",
        " 'among': 106,\n",
        " 'amount': 1,\n",
        " 'ample': 1,\n",
        " 'amused': 3,\n",
        " 'an': 349,\n",
        " 'analyse': 1,\n",
        " 'anathematised': 1,\n",
        " 'anatomise': 1,\n",
        " 'ancestors': 1,\n",
        " 'ancestral': 1,\n",
        " 'anchor': 1,\n",
        " 'anchorage': 1,\n",
        " 'ancient': 10,\n",
        " 'and': 4993,\n",
        " 'and--but': 1,\n",
        " 'and--in': 1,\n",
        " 'and--miss': 1,\n",
        " 'anew': 7,\n",
        " 'angel': 1,\n",
        " \"angel's\": 1,\n",
        " 'angel?': 1,\n",
        " 'angels': 3,\n",
        " 'anger': 6,\n",
        " 'angering': 1,\n",
        " 'angle': 3,\n",
        " 'angrily': 3,\n",
        " 'angry': 15,\n",
        " 'anguish': 4,\n",
        " 'animal': 1,\n",
        " 'animals': 2,\n",
        " 'animated': 5,\n",
        " 'animosity': 2,\n",
        " 'aniseed': 1,\n",
        " 'ankles': 1,\n",
        " 'anna': 1,\n",
        " 'annihilated': 1,\n",
        " 'annihilation': 1,\n",
        " 'anniversary': 1,\n",
        " 'anno': 1,\n",
        " 'announce': 2,\n",
        " 'announced': 2,\n",
        " 'announcement': 2,\n",
        " 'announcing': 1,\n",
        " 'annoyed': 2,\n",
        " 'anon': 1,\n",
        " 'another': 131,\n",
        " \"another's\": 2,\n",
        " 'another--this': 1,\n",
        " 'another?': 1,\n",
        " 'answer': 51,\n",
        " 'answer--\"various': 1,\n",
        " 'answered': 53,\n",
        " 'answering': 10,\n",
        " 'answers': 2,\n",
        " 'ante-chambers': 1,\n",
        " 'antecedents': 2,\n",
        " 'anti-climax': 1,\n",
        " 'anticipate': 3,\n",
        " 'anticipating': 3,\n",
        " 'anticipation': 2,\n",
        " 'antipathies': 1,\n",
        " 'antipathy': 1,\n",
        " 'antiquity': 5,\n",
        " 'antoine': 49,\n",
        " \"antoine's\": 3,\n",
        " 'anxieties': 1,\n",
        " 'anxiety': 8,\n",
        " 'anxious': 16,\n",
        " 'anxiously': 2,\n",
        " 'any': 260,\n",
        " 'anybody': 8,\n",
        " \"anybody's\": 5,\n",
        " 'anyone': 5,\n",
        " 'anything': 56,\n",
        " 'anything?': 1,\n",
        " 'anyways': 1,\n",
        " 'anywhere': 6,\n",
        " 'apart': 16,\n",
        " 'apartment': 3,\n",
        " 'apartments': 2,\n",
        " 'aphorism': 1,\n",
        " 'apocryphal': 1,\n",
        " 'apologetic': 1,\n",
        " 'apology': 1,\n",
        " 'apostrophe': 1,\n",
        " 'apostrophise': 1,\n",
        " 'apostrophising': 1,\n",
        " 'apparatus': 1,\n",
        " 'apparent': 4,\n",
        " 'apparently': 6,\n",
        " 'apparition': 2,\n",
        " 'apparitions': 2,\n",
        " 'appeal': 7,\n",
        " 'appealed': 2,\n",
        " 'appealing': 3,\n",
        " 'appeals': 1,\n",
        " 'appear': 8,\n",
        " 'appearance': 29,\n",
        " 'appearances': 1,\n",
        " 'appeared': 21,\n",
        " 'appearing': 5,\n",
        " 'appears': 2,\n",
        " 'appellation': 1,\n",
        " 'applauding': 1,\n",
        " 'applause': 1,\n",
        " 'apple': 1,\n",
        " 'apples': 1,\n",
        " 'applicable': 3,\n",
        " 'application': 3,\n",
        " 'applied': 1,\n",
        " 'applies': 1,\n",
        " 'apply': 1,\n",
        " 'appointed': 8,\n",
        " 'appointment': 2,\n",
        " 'appointments': 1,\n",
        " 'appreciate': 1,\n",
        " 'appreciated': 1,\n",
        " 'appreciative': 2,\n",
        " 'apprehend': 2,\n",
        " 'apprehension': 5,\n",
        " 'apprehensions': 2,\n",
        " 'apprehensive': 1,\n",
        " 'apprised': 1,\n",
        " 'approach': 7,\n",
        " 'approached': 6,\n",
        " 'approaches': 1,\n",
        " 'approaching': 1,\n",
        " 'approbation': 1,\n",
        " 'appropriate': 1,\n",
        " 'approval': 3,\n",
        " 'approve?': 2,\n",
        " 'approved': 1,\n",
        " 'approved?': 1,\n",
        " 'approvingly': 2,\n",
        " 'aquiline': 3,\n",
        " 'arabian': 1,\n",
        " 'arch': 1,\n",
        " 'arched': 1,\n",
        " 'arches': 2,\n",
        " 'architecture': 3,\n",
        " 'archive': 13,\n",
        " 'ardent': 3,\n",
        " 'ardour': 2,\n",
        " 'are': 333,\n",
        " 'are!--perhaps': 1,\n",
        " 'area-railings': 1,\n",
        " 'argued': 3,\n",
        " 'argument': 1,\n",
        " 'argumentative': 1,\n",
        " 'arise': 6,\n",
        " 'arisen': 2,\n",
        " 'aristocrat': 10,\n",
        " 'aristocratic': 3,\n",
        " 'aristocrats': 2,\n",
        " 'arm': 60,\n",
        " \"arm's\": 1,\n",
        " 'arm--it': 1,\n",
        " 'arm-chair': 1,\n",
        " 'arm-chest': 2,\n",
        " 'armed': 14,\n",
        " 'armorial': 1,\n",
        " 'armoury': 1,\n",
        " 'arms': 48,\n",
        " 'arms?': 1,\n",
        " 'army': 3,\n",
        " 'arose': 19,\n",
        " 'around': 19,\n",
        " 'arouse': 1,\n",
        " 'arraigned': 1,\n",
        " 'arrange': 1,\n",
        " 'arranged': 5,\n",
        " 'arrangement': 7,\n",
        " 'arrangements': 9,\n",
        " 'arranging': 1,\n",
        " 'array': 1,\n",
        " 'arrears': 1,\n",
        " 'arrest': 3,\n",
        " 'arrested': 4,\n",
        " 'arrival': 7,\n",
        " 'arrive': 5,\n",
        " 'arrived': 14,\n",
        " 'arriving': 2,\n",
        " 'art': 6,\n",
        " 'artful': 1,\n",
        " 'article': 2,\n",
        " 'articles': 5,\n",
        " 'articulate': 1,\n",
        " 'artificially': 1,\n",
        " 'artless': 1,\n",
        " 'arts': 4,\n",
        " 'as': 1148,\n",
        " 'as-is': 1,\n",
        " 'ascended': 6,\n",
        " 'ascending': 2,\n",
        " 'ascents': 1,\n",
        " 'ascertain': 2,\n",
        " 'ascertained': 3,\n",
        " 'ascii': 2,\n",
        " 'ashamed': 4,\n",
        " 'ashantee': 1,\n",
        " 'ashes': 6,\n",
        " 'ashy': 2,\n",
        " 'aside': 23,\n",
        " 'ask': 61,\n",
        " 'asked': 85,\n",
        " 'asked?': 1,\n",
        " 'asking': 6,\n",
        " 'asks': 4,\n",
        " 'asleep': 21,\n",
        " 'aspect': 17,\n",
        " 'aspirations': 2,\n",
        " 'aspired': 1,\n",
        " 'assailant': 1,\n",
        " 'assassinated': 1,\n",
        " 'assassination': 1,\n",
        " 'assassins': 1,\n",
        " 'assault': 1,\n",
        " 'assemblage': 1,\n",
        " 'assemblages': 1,\n",
        " 'assemble': 1,\n",
        " 'assembled': 2,\n",
        " 'assembles': 1,\n",
        " 'assented': 5,\n",
        " 'assert': 2,\n",
        " 'asserted': 2,\n",
        " 'assertion': 1,\n",
        " 'asseveration': 1,\n",
        " 'assiduously': 1,\n",
        " 'assignation': 1,\n",
        " 'assigned': 2,\n",
        " 'assist': 5,\n",
        " 'assistance': 6,\n",
        " 'assisted': 12,\n",
        " 'assisting': 1,\n",
        " 'associated': 10,\n",
        " 'associating': 2,\n",
        " 'association': 6,\n",
        " 'associations': 5,\n",
        " 'assorted': 1,\n",
        " 'assume': 2,\n",
        " 'assumed': 4,\n",
        " 'assuming': 1,\n",
        " 'assumption': 2,\n",
        " 'assurance': 2,\n",
        " 'assurances': 2,\n",
        " 'assure': 6,\n",
        " 'assured': 4,\n",
        " 'assuredly': 3,\n",
        " 'assures': 1,\n",
        " 'astern': 1,\n",
        " 'astir': 1,\n",
        " 'astonished?': 2,\n",
        " 'astonishment': 3,\n",
        " 'astounded': 2,\n",
        " 'astounding': 1,\n",
        " 'astray': 1,\n",
        " 'asunder': 1,\n",
        " 'at': 1045,\n",
        " 'at?': 1,\n",
        " 'ate': 7,\n",
        " 'atheistical': 1,\n",
        " 'athirst': 1,\n",
        " 'atmosphere': 3,\n",
        " 'atmospheric': 1,\n",
        " 'atomics': 1,\n",
        " 'atonement': 1,\n",
        " 'atop': 1,\n",
        " 'atrocious': 1,\n",
        " 'attached': 10,\n",
        " 'attachment': 4,\n",
        " 'attack': 2,\n",
        " 'attack?': 1,\n",
        " 'attainable': 1,\n",
        " 'attained': 1,\n",
        " 'attainments': 1,\n",
        " 'attempt': 3,\n",
        " 'attempted': 2,\n",
        " 'attempts': 1,\n",
        " 'attend': 5,\n",
        " 'attendance': 3,\n",
        " 'attendant': 5,\n",
        " 'attendants': 1,\n",
        " 'attended': 10,\n",
        " 'attention': 20,\n",
        " 'attentive': 6,\n",
        " 'attentively': 5,\n",
        " 'attenuated': 1,\n",
        " 'attitude': 9,\n",
        " 'attorney-general': 12,\n",
        " \"attorney-general's\": 2,\n",
        " 'attract': 3,\n",
        " 'attracted': 5,\n",
        " 'attracting': 1,\n",
        " 'attraction': 3,\n",
        " 'attractive': 1,\n",
        " 'attributable': 1,\n",
        " 'attribute': 1,\n",
        " 'audible': 9,\n",
        " 'audibly': 2,\n",
        " 'audience': 7,\n",
        " 'auditory': 1,\n",
        " 'augment': 1,\n",
        " 'august': 2,\n",
        " 'august--he': 1,\n",
        " 'auspicious': 1,\n",
        " 'author': 1,\n",
        " 'authorised': 1,\n",
        " 'authoritative': 1,\n",
        " 'authorities': 3,\n",
        " 'authority': 10,\n",
        " 'autumn': 3,\n",
        " 'avail': 3,\n",
        " 'available': 2,\n",
        " 'avenge': 3,\n",
        " 'avenged': 1,\n",
        " 'avenue': 2,\n",
        " 'avenues': 2,\n",
        " 'aversion': 1,\n",
        " 'avert': 1,\n",
        " 'averted': 1,\n",
        " 'avocations': 1,\n",
        " 'avoid': 9,\n",
        " 'avoidance': 1,\n",
        " 'avoided': 1,\n",
        " 'avoiding': 1,\n",
        " 'avow': 1,\n",
        " 'avowal': 1,\n",
        " 'awaited': 7,\n",
        " 'awaiting': 5,\n",
        " 'awake': 7,\n",
        " 'awaken': 4,\n",
        " 'awakened': 4,\n",
        " 'awakening': 1,\n",
        " 'aware': 3,\n",
        " 'awaricious': 1,\n",
        " 'away': 134,\n",
        " 'away--for': 1,\n",
        " 'away--you': 1,\n",
        " 'away?': 1,\n",
        " 'awe': 1,\n",
        " 'awe-stricken': 2,\n",
        " 'awful': 8,\n",
        " 'awfulness': 1,\n",
        " 'awkward': 1,\n",
        " 'awoke': 5,\n",
        " 'awry': 2,\n",
        " 'axe': 9,\n",
        " 'axe--a': 1,\n",
        " 'axes': 2,\n",
        " 'ay': 5,\n",
        " 'b': 2,\n",
        " 'b-u-u-ust': 1,\n",
        " 'babble': 1,\n",
        " 'babel': 1,\n",
        " 'babies': 1,\n",
        " 'baby': 5,\n",
        " 'bacchanalian': 2,\n",
        " 'bachelor': 6,\n",
        " 'bachelor-fashion': 1,\n",
        " 'back': 134,\n",
        " 'backgammon': 1,\n",
        " 'background': 1,\n",
        " 'backs': 2,\n",
        " 'backward': 2,\n",
        " 'backwards': 3,\n",
        " 'bad': 42,\n",
        " \"bad's\": 1,\n",
        " 'bad?': 1,\n",
        " 'baffled': 2,\n",
        " 'bag': 2,\n",
        " 'bah': 3,\n",
        " 'bailey': 20,\n",
        " 'bailiff': 1,\n",
        " 'baker': 1,\n",
        " \"baker's\": 1,\n",
        " 'bakers': 1,\n",
        " 'balance': 1,\n",
        " 'balanced': 1,\n",
        " 'balances': 1,\n",
        " 'bald': 1,\n",
        " 'ball': 6,\n",
        " 'ball--when': 1,\n",
        " 'ballad': 1,\n",
        " 'balustrades': 2,\n",
        " 'band': 1,\n",
        " 'bandages': 1,\n",
        " 'banished': 2,\n",
        " 'bank': 47,\n",
        " 'bank-notes': 1,\n",
        " 'bank-notes--may': 1,\n",
        " 'bank?': 2,\n",
        " 'banker': 3,\n",
        " 'banker?': 1,\n",
        " 'bankers': 1,\n",
        " 'banking': 5,\n",
        " 'banking-house': 7,\n",
        " 'bankruptcy': 1,\n",
        " 'banks': 2,\n",
        " 'banquets': 1,\n",
        " 'bar': 26,\n",
        " 'bar?': 1,\n",
        " 'barbarian': 1,\n",
        " 'barbarous': 4,\n",
        " 'barber': 5,\n",
        " 'bare': 9,\n",
        " 'bare-armed': 1,\n",
        " 'bare-breasted': 1,\n",
        " 'bare-foot': 1,\n",
        " 'bare-legged': 1,\n",
        " 'bared': 1,\n",
        " 'barefoot': 1,\n",
        " 'bareheaded': 1,\n",
        " 'barely': 1,\n",
        " 'bargain': 3,\n",
        " 'barges': 1,\n",
        " 'bark': 1,\n",
        " 'barked': 1,\n",
        " 'barmecide': 1,\n",
        " 'barred': 5,\n",
        " 'barrel': 1,\n",
        " 'barrels': 2,\n",
        " 'barren': 2,\n",
        " 'barricades': 1,\n",
        " 'barrier': 16,\n",
        " 'barrier--i': 1,\n",
        " 'barriers': 1,\n",
        " 'barrister': 2,\n",
        " 'bars': 10,\n",
        " 'barsad': 39,\n",
        " \"barsad's\": 1,\n",
        " 'barsad?': 5,\n",
        " 'base': 2,\n",
        " 'based': 2,\n",
        " 'basement': 1,\n",
        " 'baseness': 1,\n",
        " 'basin': 7,\n",
        " 'basket': 4,\n",
        " 'baskets': 2,\n",
        " 'bastille': 22,\n",
        " 'batch': 2,\n",
        " 'bathed': 1,\n",
        " 'battered': 1,\n",
        " 'battles': 1,\n",
        " 'bawled': 1,\n",
        " 'bawling': 1,\n",
        " 'bay': 2,\n",
        " 'bayonets': 3,\n",
        " 'be': 775,\n",
        " 'be--he': 1,\n",
        " 'be--perhaps': 1,\n",
        " 'be--unless': 1,\n",
        " 'be?': 5,\n",
        " 'beach': 5,\n",
        " 'beacon': 1,\n",
        " 'beaming': 1,\n",
        " 'beamingly': 1,\n",
        " 'beams': 2,\n",
        " 'beans': 1,\n",
        " 'bear': 32,\n",
        " 'bear-leader': 1,\n",
        " 'beard': 4,\n",
        " 'bearded': 1,\n",
        " 'bearer': 2,\n",
        " 'bearers': 1,\n",
        " 'bearing': 8,\n",
        " 'bearings': 1,\n",
        " 'bears': 2,\n",
        " 'beast': 1,\n",
        " 'beastly': 1,\n",
        " 'beasts': 5,\n",
        " 'beat': 9,\n",
        " 'beaten': 5,\n",
        " 'beating': 9,\n",
        " 'beats': 1,\n",
        " 'beauties': 1,\n",
        " 'beautified': 1,\n",
        " 'beautiful': 14,\n",
        " 'beautifully': 1,\n",
        " 'beautifying': 1,\n",
        " 'beauty': 8,\n",
        " 'beauty?': 1,\n",
        " 'beauvais': 10,\n",
        " 'beauvais--which': 1,\n",
        " 'beauvais?': 1,\n",
        " 'became': 30,\n",
        " 'because': 42,\n",
        " 'beckoned': 5,\n",
        " 'beckoning': 1,\n",
        " 'become': 23,\n",
        " 'becomes': 2,\n",
        " 'becoming': 3,\n",
        " 'becomingly': 1,\n",
        " 'bed': 41,\n",
        " 'bed-chamber': 5,\n",
        " 'bed-gown': 1,\n",
        " 'bed-winches': 1,\n",
        " 'bed?': 1,\n",
        " 'bedlam--only': 1,\n",
        " 'bedroom': 7,\n",
        " 'beds': 2,\n",
        " 'bedside': 2,\n",
        " 'been': 435,\n",
        " 'been--been': 1,\n",
        " 'been--like': 1,\n",
        " 'been--nay': 1,\n",
        " 'been--oh': 1,\n",
        " 'beer': 3,\n",
        " 'beer-drinking': 1,\n",
        " 'beery': 1,\n",
        " 'befall': 1,\n",
        " 'befitting': 1,\n",
        " 'before': 228,\n",
        " 'before?': 4,\n",
        " 'beforehand': 4,\n",
        " 'befriend': 1,\n",
        " 'beg': 8,\n",
        " 'began': 48,\n",
        " 'beggars': 1,\n",
        " 'begged': 2,\n",
        " 'begin': 11,\n",
        " 'beginning': 12,\n",
        " 'begirt': 1,\n",
        " 'begrimed': 1,\n",
        " 'beguile': 1,\n",
        " 'beguiled': 2,\n",
        " 'begun': 8,\n",
        " 'behalf': 2,\n",
        " 'beheaded': 2,\n",
        " 'beheld': 4,\n",
        " 'behind': 54,\n",
        " 'behold': 4,\n",
        " 'beholder': 1,\n",
        " 'beholders': 2,\n",
        " 'behoved': 1,\n",
        " 'being': 134,\n",
        " 'beings--taxed': 1,\n",
        " 'belated': 1,\n",
        " 'belief': 6,\n",
        " 'believe': 46,\n",
        " 'believe--but': 1,\n",
        " 'believed': 6,\n",
        " 'believeth': 6,\n",
        " 'believing': 1,\n",
        " 'bell': 18,\n",
        " 'bell-ringing': 1,\n",
        " 'belligerent': 1,\n",
        " 'bells': 4,\n",
        " 'belong': 6,\n",
        " 'belonged': 3,\n",
        " 'belonging': 4,\n",
        " 'beloved': 5,\n",
        " 'below': 15,\n",
        " 'belt': 1,\n",
        " 'bench': 25,\n",
        " 'bench-walk': 1,\n",
        " 'bench?': 1,\n",
        " 'bending': 6,\n",
        " 'beneath': 5,\n",
        " 'benefactor': 1,\n",
        " 'benefactors': 1,\n",
        " 'beneficial': 2,\n",
        " 'benefit': 1,\n",
        " 'benevolence': 1,\n",
        " 'benevolent': 1,\n",
        " 'benighted': 1,\n",
        " 'bent': 26,\n",
        " 'benumbed': 1,\n",
        " 'bereft': 2,\n",
        " 'beseeching': 1,\n",
        " 'beset': 1,\n",
        " 'besetting': 1,\n",
        " 'beside': 21,\n",
        " 'besides': 18,\n",
        " 'besieged': 1,\n",
        " 'besmeared': 1,\n",
        " 'besmirched': 1,\n",
        " 'besought': 4,\n",
        " 'bespattered': 1,\n",
        " 'best': 39,\n",
        " 'best?': 1,\n",
        " 'bestow': 2,\n",
        " 'bestowal': 1,\n",
        " 'bestowed': 7,\n",
        " 'bestowing': 1,\n",
        " ...}"
       ]
      }
     ],
     "prompt_number": 31
    },
    {
     "cell_type": "markdown",
     "metadata": {
      "slideshow": {
       "slide_type": "subslide"
      }
     },
     "source": [
      "## More Wordcounting \n",
      "\n",
      "Or in a more Pythonic way"
     ]
    },
    {
     "cell_type": "code",
     "collapsed": false,
     "input": [
      "with open('data/tale-of-two-cities.txt') as f:\n",
      "    lines = (line.strip().split() for line in f)\n",
      "    words = (stem(word) for line in lines\n",
      "                        for word in line)\n",
      "    result = frequencies(words)"
     ],
     "language": "python",
     "metadata": {},
     "outputs": [],
     "prompt_number": 32
    },
    {
     "cell_type": "markdown",
     "metadata": {
      "slideshow": {
       "slide_type": "slide"
      }
     },
     "source": [
      "## Genomics and Markov Chains\n",
      "\n",
      "*Inspired/stolen from work by John Jacobsen: http://eigenhombre.com/2013/11/03/nucleotide-repetition-lengths/*\n",
      "\n",
      "An exercise in laziness and counting."
     ]
    },
    {
     "cell_type": "code",
     "collapsed": false,
     "input": [
      "from toolz.curried import *"
     ],
     "language": "python",
     "metadata": {
      "slideshow": {
       "slide_type": "skip"
      }
     },
     "outputs": [],
     "prompt_number": 33
    },
    {
     "cell_type": "code",
     "collapsed": false,
     "input": [
      "with open('data/yeast-genome/chrI.fa') as f:\n",
      "    for line in take(5, f):\n",
      "        print line,"
     ],
     "language": "python",
     "metadata": {},
     "outputs": [
      {
       "output_type": "stream",
       "stream": "stdout",
       "text": [
        ">chrI\n",
        "CCACACCACACCCACACACCCACACACCACACCACACACCACACCACACC\n",
        "CACACACACACATCCTAACACTACCCTAACACAGCCCTAATCTAACCCTG\n",
        "GCCAACCTGTCTCTCAACTTACCCTCCATTACCCTGCCTCCACTCGTTAC\n",
        "CCTGTCCCATTCAACCATACCACTCCGAACCACCATCCATCCCTCTACTT\n"
       ]
      }
     ],
     "prompt_number": 34
    },
    {
     "cell_type": "code",
     "collapsed": false,
     "input": [
      "with open('data/yeast-genome/chrII.fa') as f:\n",
      "    for line in take(5, f):\n",
      "        print line,"
     ],
     "language": "python",
     "metadata": {},
     "outputs": [
      {
       "output_type": "stream",
       "stream": "stdout",
       "text": [
        ">chrII\n",
        "AAATAGCCCTCATGTACGTCTCCTCCAAGCCCTGTTGTCTCTTACCCGGA\n",
        "TGTTCAACCAAAAGCTACTTACTACCTTTATTTTATGTTTACTTTTTATA\n",
        "GGTTGTCTTTTTATCCCACTTCTTCGCACTTGTCTCTCGCTACTGCCGTG\n",
        "CAACAAACACTAAATCAAAACAATGAAATACTACTACATCAAAACGCATT\n"
       ]
      }
     ],
     "prompt_number": 35
    },
    {
     "cell_type": "markdown",
     "metadata": {
      "slideshow": {
       "slide_type": "subslide"
      }
     },
     "source": [
      "## A Lazily Evaluated Genome Sequence"
     ]
    },
    {
     "cell_type": "code",
     "collapsed": false,
     "input": [
      "from glob import glob"
     ],
     "language": "python",
     "metadata": {
      "slideshow": {
       "slide_type": "skip"
      }
     },
     "outputs": [],
     "prompt_number": 36
    },
    {
     "cell_type": "code",
     "collapsed": false,
     "input": [
      "def genome(file_pattern):\n",
      "    return pipe(file_pattern, glob, sorted,        # Filenames\n",
      "                                 map(open),        # Open each file\n",
      "                                 map(drop(1)),     # Drop header from each file\n",
      "                                 concat,           # Concatenate all lines from all files together\n",
      "                                 map(str.upper),   # Upper case each line\n",
      "                                 map(str.strip),   # Strip off \\n from each line\n",
      "                                 concat)           # Concatenate all lines into one giant string sequence\n",
      "\n",
      "list(take(10, genome('data/yeast-genome/chr*.fa')))"
     ],
     "language": "python",
     "metadata": {},
     "outputs": [
      {
       "metadata": {},
       "output_type": "pyout",
       "prompt_number": 37,
       "text": [
        "['C', 'C', 'A', 'C', 'A', 'C', 'C', 'A', 'C', 'A']"
       ]
      }
     ],
     "prompt_number": 37
    },
    {
     "cell_type": "code",
     "collapsed": false,
     "input": [
      "%timeit list(take(10, genome('data/yeast-genome/chr*.fa')))"
     ],
     "language": "python",
     "metadata": {
      "slideshow": {
       "slide_type": "fragment"
      }
     },
     "outputs": [
      {
       "output_type": "stream",
       "stream": "stdout",
       "text": [
        "10000 loops, best of 3: 152 \u00b5s per loop\n"
       ]
      }
     ],
     "prompt_number": 38
    },
    {
     "cell_type": "code",
     "collapsed": false,
     "input": [
      "%timeit list(take(1000000, genome('data/yeast-genome/chr*.fa')))"
     ],
     "language": "python",
     "metadata": {
      "slideshow": {
       "slide_type": "fragment"
      }
     },
     "outputs": [
      {
       "output_type": "stream",
       "stream": "stdout",
       "text": [
        "10 loops, best of 3: 31.6 ms per loop\n"
       ]
      }
     ],
     "prompt_number": 39
    },
    {
     "cell_type": "markdown",
     "metadata": {
      "slideshow": {
       "slide_type": "subslide"
      }
     },
     "source": [
      "## Markov Chain\n",
      "\n"
     ]
    },
    {
     "cell_type": "code",
     "collapsed": false,
     "input": [
      "def markov(seq):\n",
      "    return pipe(seq, sliding_window(3),          # Each successive triple{(A, A): {T: 10}}\n",
      "                     frequencies,                # Count occurrences of each triple\n",
      "                     dict.items, map(reshape),   # Reshape counts so {(A, A, T): 10} -> {(A, A): {T: 10}}\n",
      "                     merge_with(merge))          # Merge dicts from different pairs\n",
      "\n",
      "def reshape(item):\n",
      "    ((a, b, c), count) = item\n",
      "    return {(a, b): {c: count}}"
     ],
     "language": "python",
     "metadata": {},
     "outputs": [],
     "prompt_number": 40
    },
    {
     "cell_type": "code",
     "collapsed": false,
     "input": [
      "%time pipe('data/yeast-genome/chr*.fa', genome, markov)"
     ],
     "language": "python",
     "metadata": {},
     "outputs": [
      {
       "output_type": "stream",
       "stream": "stdout",
       "text": [
        "CPU times: user 7.61 s, sys: 19.2 ms, total: 7.63 s\n",
        "Wall time: 7.63 s\n"
       ]
      },
      {
       "metadata": {},
       "output_type": "pyout",
       "prompt_number": 41,
       "text": [
        "{('A', 'A'): {'A': 478747, 'C': 219308, 'G': 263444, 'T': 359452},\n",
        " ('A', 'C'): {'A': 208983, 'C': 141082, 'G': 106036, 'T': 183345},\n",
        " ('A', 'G'): {'A': 246433, 'C': 139290, 'G': 138993, 'T': 184122},\n",
        " ('A', 'T'): {'A': 302855, 'C': 214238, 'G': 221920, 'T': 358099},\n",
        " ('C', 'A'): {'A': 281323, 'C': 129592, 'G': 152623, 'T': 222844},\n",
        " ('C', 'C'): {'A': 181418, 'C': 82889, 'G': 71014, 'T': 138311},\n",
        " ('C', 'G'): {'A': 110595, 'C': 68478, 'G': 70371, 'T': 105855},\n",
        " ('C', 'T'): {'A': 155722, 'C': 135853, 'G': 152176, 'T': 261512},\n",
        " ('G', 'A'): {'A': 288841, 'C': 118101, 'G': 136078, 'T': 213021},\n",
        " ('G', 'C'): {'A': 150908, 'C': 95511, 'G': 67889, 'T': 139078},\n",
        " ('G', 'G'): {'A': 154367, 'C': 95169, 'G': 81305, 'T': 139700},\n",
        " ('G', 'T'): {'A': 172631, 'C': 117326, 'G': 128935, 'T': 218240},\n",
        " ('T', 'A'): {'A': 272041, 'C': 172445, 'G': 156693, 'T': 301795},\n",
        " ('T', 'C'): {'A': 245073, 'C': 154149, 'G': 110360, 'T': 244529},\n",
        " ('T', 'G'): {'A': 244646, 'C': 150449, 'G': 179872, 'T': 207455},\n",
        " ('T', 'T'): {'A': 271766, 'C': 286694, 'G': 279391, 'T': 475722}}"
       ]
      }
     ],
     "prompt_number": 41
    },
    {
     "cell_type": "markdown",
     "metadata": {
      "slideshow": {
       "slide_type": "subslide"
      }
     },
     "source": [
      "## Note that `markov` has nothing to do with `genome`"
     ]
    },
    {
     "cell_type": "code",
     "collapsed": false,
     "input": [
      "def markov(seq):\n",
      "    return pipe(seq, sliding_window(3),          # Each successive triple{(A, A): {T: 10}}\n",
      "                     frequencies,                # Count occurrences of each triple\n",
      "                     dict.items, map(reshape),   # Reshape counts so {(A, A, T): 10} -> {(A, A): {T: 10}}\n",
      "                     merge_with(merge))          # Merge dicts from different pairs\n",
      "\n",
      "pipe('data/yeast-genome/chr*.fa', genome, markov)"
     ],
     "language": "python",
     "metadata": {},
     "outputs": []
    },
    {
     "cell_type": "markdown",
     "metadata": {
      "slideshow": {
       "slide_type": "slide"
      }
     },
     "source": [
      "# Introducing CyToolz"
     ]
    },
    {
     "cell_type": "markdown",
     "metadata": {},
     "source": [
      "By Erik N. Welch"
     ]
    },
    {
     "cell_type": "markdown",
     "metadata": {
      "slideshow": {
       "slide_type": "slide"
      }
     },
     "source": [
      "PyToolz provides utility functions for core Python data structures"
     ]
    },
    {
     "cell_type": "markdown",
     "metadata": {
      "slideshow": {
       "slide_type": "fragment"
      }
     },
     "source": [
      "They support streaming, composition, parallelism"
     ]
    },
    {
     "cell_type": "markdown",
     "metadata": {
      "slideshow": {
       "slide_type": "fragment"
      }
     },
     "source": [
      "...and are pretty fast"
     ]
    },
    {
     "cell_type": "markdown",
     "metadata": {
      "slideshow": {
       "slide_type": "slide"
      }
     },
     "source": [
      "CyToolz provides utility functions for core Python data structures"
     ]
    },
    {
     "cell_type": "markdown",
     "metadata": {},
     "source": [
      "They support streaming, composition, parallelism"
     ]
    },
    {
     "cell_type": "markdown",
     "metadata": {},
     "source": [
      "...and are *really* fast"
     ]
    },
    {
     "cell_type": "markdown",
     "metadata": {
      "slideshow": {
       "slide_type": "slide"
      }
     },
     "source": [
      "Cython completely reimplements `toolz` in Cython.  It is a drop in replacement"
     ]
    },
    {
     "cell_type": "code",
     "collapsed": false,
     "input": [
      "# from toolz import *\n",
      "from cytoolz import *"
     ],
     "language": "python",
     "metadata": {},
     "outputs": [],
     "prompt_number": 42
    },
    {
     "cell_type": "markdown",
     "metadata": {
      "slideshow": {
       "slide_type": "slide"
      }
     },
     "source": [
      "But it operates on plain Python data structures `(list, tuple, dict, set, ...)`"
     ]
    },
    {
     "cell_type": "markdown",
     "metadata": {
      "slideshow": {
       "slide_type": "slide"
      }
     },
     "source": [
      "## Comparing PyToolz and CyToolz"
     ]
    },
    {
     "cell_type": "code",
     "collapsed": false,
     "input": [
      "from toolz.curried import *\n",
      "\n",
      "def markov(seq):\n",
      "    return pipe(seq, sliding_window(3),          # Each successive triple{(A, A): {T: 10}}\n",
      "                     frequencies,                # Count occurrences of each triple\n",
      "                     dict.items, map(reshape),   # Reshape counts so {(A, A, T): 10} -> {(A, A): {T: 10}}\n",
      "                     merge_with(merge))          # Merge dicts from different pairs\n",
      "\n",
      "%time pipe('data/yeast-genome/chr*.fa', genome, markov)"
     ],
     "language": "python",
     "metadata": {
      "slideshow": {
       "slide_type": "-"
      }
     },
     "outputs": [
      {
       "output_type": "stream",
       "stream": "stdout",
       "text": [
        "CPU times: user 7.74 s, sys: 21.6 ms, total: 7.76 s\n",
        "Wall time: 7.75 s\n"
       ]
      },
      {
       "metadata": {},
       "output_type": "pyout",
       "prompt_number": 43,
       "text": [
        "{('A', 'A'): {'A': 478747, 'C': 219308, 'G': 263444, 'T': 359452},\n",
        " ('A', 'C'): {'A': 208983, 'C': 141082, 'G': 106036, 'T': 183345},\n",
        " ('A', 'G'): {'A': 246433, 'C': 139290, 'G': 138993, 'T': 184122},\n",
        " ('A', 'T'): {'A': 302855, 'C': 214238, 'G': 221920, 'T': 358099},\n",
        " ('C', 'A'): {'A': 281323, 'C': 129592, 'G': 152623, 'T': 222844},\n",
        " ('C', 'C'): {'A': 181418, 'C': 82889, 'G': 71014, 'T': 138311},\n",
        " ('C', 'G'): {'A': 110595, 'C': 68478, 'G': 70371, 'T': 105855},\n",
        " ('C', 'T'): {'A': 155722, 'C': 135853, 'G': 152176, 'T': 261512},\n",
        " ('G', 'A'): {'A': 288841, 'C': 118101, 'G': 136078, 'T': 213021},\n",
        " ('G', 'C'): {'A': 150908, 'C': 95511, 'G': 67889, 'T': 139078},\n",
        " ('G', 'G'): {'A': 154367, 'C': 95169, 'G': 81305, 'T': 139700},\n",
        " ('G', 'T'): {'A': 172631, 'C': 117326, 'G': 128935, 'T': 218240},\n",
        " ('T', 'A'): {'A': 272041, 'C': 172445, 'G': 156693, 'T': 301795},\n",
        " ('T', 'C'): {'A': 245073, 'C': 154149, 'G': 110360, 'T': 244529},\n",
        " ('T', 'G'): {'A': 244646, 'C': 150449, 'G': 179872, 'T': 207455},\n",
        " ('T', 'T'): {'A': 271766, 'C': 286694, 'G': 279391, 'T': 475722}}"
       ]
      }
     ],
     "prompt_number": 43
    },
    {
     "cell_type": "markdown",
     "metadata": {
      "slideshow": {
       "slide_type": "subslide"
      }
     },
     "source": [
      "## Comparing PyToolz and CyToolz"
     ]
    },
    {
     "cell_type": "code",
     "collapsed": false,
     "input": [
      "from cytoolz.curried import *\n",
      "\n",
      "def markov(seq):\n",
      "    return pipe(seq, sliding_window(3),          # Each successive triple{(A, A): {T: 10}}\n",
      "                     frequencies,                # Count occurrences of each triple\n",
      "                     dict.items, map(reshape),   # Reshape counts so {(A, A, T): 10} -> {(A, A): {T: 10}}\n",
      "                     merge_with(merge))          # Merge dicts from different pairs\n",
      "\n",
      "%time pipe('data/yeast-genome/chr*.fa', genome, markov)"
     ],
     "language": "python",
     "metadata": {},
     "outputs": [
      {
       "output_type": "stream",
       "stream": "stdout",
       "text": [
        "CPU times: user 2.39 s, sys: 8.07 ms, total: 2.4 s\n",
        "Wall time: 2.4 s\n"
       ]
      },
      {
       "metadata": {},
       "output_type": "pyout",
       "prompt_number": 44,
       "text": [
        "{('A', 'A'): {'A': 478747, 'C': 219308, 'G': 263444, 'T': 359452},\n",
        " ('A', 'C'): {'A': 208983, 'C': 141082, 'G': 106036, 'T': 183345},\n",
        " ('A', 'G'): {'A': 246433, 'C': 139290, 'G': 138993, 'T': 184122},\n",
        " ('A', 'T'): {'A': 302855, 'C': 214238, 'G': 221920, 'T': 358099},\n",
        " ('C', 'A'): {'A': 281323, 'C': 129592, 'G': 152623, 'T': 222844},\n",
        " ('C', 'C'): {'A': 181418, 'C': 82889, 'G': 71014, 'T': 138311},\n",
        " ('C', 'G'): {'A': 110595, 'C': 68478, 'G': 70371, 'T': 105855},\n",
        " ('C', 'T'): {'A': 155722, 'C': 135853, 'G': 152176, 'T': 261512},\n",
        " ('G', 'A'): {'A': 288841, 'C': 118101, 'G': 136078, 'T': 213021},\n",
        " ('G', 'C'): {'A': 150908, 'C': 95511, 'G': 67889, 'T': 139078},\n",
        " ('G', 'G'): {'A': 154367, 'C': 95169, 'G': 81305, 'T': 139700},\n",
        " ('G', 'T'): {'A': 172631, 'C': 117326, 'G': 128935, 'T': 218240},\n",
        " ('T', 'A'): {'A': 272041, 'C': 172445, 'G': 156693, 'T': 301795},\n",
        " ('T', 'C'): {'A': 245073, 'C': 154149, 'G': 110360, 'T': 244529},\n",
        " ('T', 'G'): {'A': 244646, 'C': 150449, 'G': 179872, 'T': 207455},\n",
        " ('T', 'T'): {'A': 271766, 'C': 286694, 'G': 279391, 'T': 475722}}"
       ]
      }
     ],
     "prompt_number": 44
    },
    {
     "cell_type": "markdown",
     "metadata": {
      "slideshow": {
       "slide_type": "slide"
      }
     },
     "source": [
      "## Frequency Benchmark"
     ]
    },
    {
     "cell_type": "code",
     "collapsed": false,
     "input": [
      "data = ['Alice', 'Bob', 'Charlie', 'Dan', 'Edith', 'Frank'] * 1000000"
     ],
     "language": "python",
     "metadata": {},
     "outputs": [],
     "prompt_number": 45
    },
    {
     "cell_type": "code",
     "collapsed": false,
     "input": [
      "timeit collections.Counter(data)"
     ],
     "language": "python",
     "metadata": {},
     "outputs": [
      {
       "output_type": "stream",
       "stream": "stdout",
       "text": [
        "1 loops, best of 3: 1.63 s per loop\n"
       ]
      }
     ],
     "prompt_number": 46
    },
    {
     "cell_type": "code",
     "collapsed": false,
     "input": [
      "timeit toolz.frequencies(data)"
     ],
     "language": "python",
     "metadata": {},
     "outputs": [
      {
       "output_type": "stream",
       "stream": "stdout",
       "text": [
        "1 loops, best of 3: 527 ms per loop\n"
       ]
      }
     ],
     "prompt_number": 47
    },
    {
     "cell_type": "code",
     "collapsed": false,
     "input": [
      "series = Series(data)\n",
      "%timeit series.value_counts()"
     ],
     "language": "python",
     "metadata": {},
     "outputs": [
      {
       "output_type": "stream",
       "stream": "stdout",
       "text": [
        "1 loops, best of 3: 300 ms per loop\n"
       ]
      }
     ],
     "prompt_number": 48
    },
    {
     "cell_type": "code",
     "collapsed": false,
     "input": [
      "!java Frequencies"
     ],
     "language": "python",
     "metadata": {},
     "outputs": [
      {
       "output_type": "stream",
       "stream": "stdout",
       "text": [
        "Time elapsed: 239.027696 ms\r\n"
       ]
      }
     ],
     "prompt_number": 49
    },
    {
     "cell_type": "code",
     "collapsed": false,
     "input": [
      "timeit cytoolz.frequencies(data)"
     ],
     "language": "python",
     "metadata": {
      "slideshow": {
       "slide_type": "fragment"
      }
     },
     "outputs": [
      {
       "output_type": "stream",
       "stream": "stdout",
       "text": [
        "1 loops, best of 3: 227 ms per loop\n"
       ]
      }
     ],
     "prompt_number": 50
    },
    {
     "cell_type": "markdown",
     "metadata": {},
     "source": [
      "## CyToolz uses C code on standard Python data structures"
     ]
    },
    {
     "cell_type": "markdown",
     "metadata": {},
     "source": [
      "\n",
      "| Project               | Computation           |   Data Structures        |\n",
      "| --------------------- | --------------------- | ------------------------ |\n",
      "| PyToolz               | Python                | Python                   |\n",
      "| CyToolz               | C                     | Python                   |\n",
      "| Pandas/NumPy          | C                     | C                        |\n"
     ]
    },
    {
     "cell_type": "markdown",
     "metadata": {},
     "source": [
      "## Functional Programming in Imperative-by-Design Languages"
     ]
    },
    {
     "cell_type": "markdown",
     "metadata": {},
     "source": [
      "Functional Standard Library: `map, filter, reduce, groupby, memoize, compose, merge, take, ...`"
     ]
    },
    {
     "cell_type": "markdown",
     "metadata": {},
     "source": [
      "## Present in lots of functional languages:\n",
      "\n",
      "* Clojure\n",
      "* Scala\n",
      "* Haskell"
     ]
    },
    {
     "cell_type": "markdown",
     "metadata": {},
     "source": [
      "Only needs functions as first class objects and lazy iterators"
     ]
    },
    {
     "cell_type": "markdown",
     "metadata": {},
     "source": [
      "## Present in lots of imperative languages too\n",
      "\n",
      "* **Python**: `fn.py, fun.cy, more_itertools, toolz`, ...\n",
      "* JavaScript: Underscore.js\n",
      "* Ruby: Enumerable.rb\n",
      "* .NET: LINQ\n",
      "* Julia: ??\n",
      "* Java-8: ??"
     ]
    },
    {
     "cell_type": "markdown",
     "metadata": {},
     "source": [
      "## Functional Programming is becoming more relevant\n",
      "\n",
      "* Good software practices\n",
      "* Promotes testing\n",
      "* Support for parallel or concurrent processing\n",
      "* Composable programming model\n",
      "* Streaming programming model\n",
      "\n",
      "\n",
      "See PyData 2013-NYC Tutorial *Functional Data Analysis*"
     ]
    },
    {
     "cell_type": "markdown",
     "metadata": {
      "slideshow": {
       "slide_type": "slide"
      }
     },
     "source": [
      "# History of PyToolz"
     ]
    },
    {
     "cell_type": "markdown",
     "metadata": {
      "slideshow": {
       "slide_type": "fragment"
      }
     },
     "source": [
      "Was programming in Clojure (great language, awesome community)"
     ]
    },
    {
     "cell_type": "markdown",
     "metadata": {
      "slideshow": {
       "slide_type": "fragment"
      }
     },
     "source": [
      "... needed to interact with native code (C/Fortran libraries)"
     ]
    },
    {
     "cell_type": "markdown",
     "metadata": {
      "slideshow": {
       "slide_type": "fragment"
      }
     },
     "source": [
      "... also my colleagues weren't as excited about \"Lisp on the JVM\""
     ]
    },
    {
     "cell_type": "markdown",
     "metadata": {
      "slideshow": {
       "slide_type": "slide"
      }
     },
     "source": [
      "```Python\n",
      "# toolz.py\n",
      "\n",
      "from itertoolz import *\n",
      "from functoolz import *\n",
      "from dicttoolz import *\n",
      "```"
     ]
    },
    {
     "cell_type": "markdown",
     "metadata": {},
     "source": [
      "~~JavaScript, the Good Parts~~\n",
      "\n",
      "# Python, the Good Parts\n",
      "\n"
     ]
    },
    {
     "cell_type": "markdown",
     "metadata": {},
     "source": []
    }
   ],
   "metadata": {}
  }
 ]
}
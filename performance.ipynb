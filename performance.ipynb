{
 "metadata": {
  "celltoolbar": "Slideshow",
  "name": "",
  "signature": "sha256:cc0139bbacb846b2703ba60ee5075e3c79a819023e8a0a944448ea45f7db419e"
 },
 "nbformat": 3,
 "nbformat_minor": 0,
 "worksheets": [
  {
   "cells": [
    {
     "cell_type": "markdown",
     "metadata": {
      "slideshow": {
       "slide_type": "slide"
      }
     },
     "source": [
      "# Functional Performance with Core Data Structures"
     ]
    },
    {
     "cell_type": "markdown",
     "metadata": {},
     "source": [
      "By Matthew Rocklin"
     ]
    },
    {
     "cell_type": "markdown",
     "metadata": {
      "slideshow": {
       "slide_type": "slide"
      }
     },
     "source": [
      "## TL; DR\n",
      "\n",
      "Pure Python is not always slow"
     ]
    },
    {
     "cell_type": "markdown",
     "metadata": {
      "slideshow": {
       "slide_type": "slide"
      }
     },
     "source": [
      "# You think that Python is Slow"
     ]
    },
    {
     "cell_type": "code",
     "collapsed": false,
     "input": [
      "def matmul(X, Y):\n",
      "    \"\"\" Python Matrix Multiplication\n",
      "\n",
      "    >>> X = [[1, 0], \n",
      "    ...      [0, 1]]\n",
      "    >>> Y = [[1, 2],\n",
      "    ...      [3, 4]]\n",
      "    >>> matmul(X, Y)\n",
      "    [[1, 2], [3, 4]]\n",
      "    \n",
      "    >>> matmul(Y, Y)\n",
      "    [[7, 10], [15, 22]]\n",
      "    \"\"\"\n",
      "    Z = []\n",
      "    for i in xrange(len(X)):\n",
      "        row = []\n",
      "        for j in xrange(len(X[0])):\n",
      "            total = 0\n",
      "            for k in xrange(len(Y[0])):\n",
      "                total += X[i][k] * Y[k][j]\n",
      "            row.append(total)\n",
      "        Z.append(row)\n",
      "    return Z"
     ],
     "language": "python",
     "metadata": {},
     "outputs": [],
     "prompt_number": 1
    },
    {
     "cell_type": "markdown",
     "metadata": {
      "slideshow": {
       "slide_type": "subslide"
      }
     },
     "source": [
      "## Sometimes it is"
     ]
    },
    {
     "cell_type": "code",
     "collapsed": false,
     "input": [
      "n = 400\n",
      "X = [[i + j for i in range(n)] \n",
      "            for j in range(n)]"
     ],
     "language": "python",
     "metadata": {},
     "outputs": [],
     "prompt_number": 2
    },
    {
     "cell_type": "code",
     "collapsed": false,
     "input": [
      "%timeit matmul(X, X)"
     ],
     "language": "python",
     "metadata": {
      "slideshow": {
       "slide_type": "-"
      }
     },
     "outputs": [
      {
       "output_type": "stream",
       "stream": "stdout",
       "text": [
        "1 loops, best of 3: 9.79 s per loop\n"
       ]
      }
     ],
     "prompt_number": 3
    },
    {
     "cell_type": "code",
     "collapsed": false,
     "input": [
      "import numpy as np\n",
      "nX = np.array(X)\n",
      "\n",
      "% timeit nX.dot(nX)"
     ],
     "language": "python",
     "metadata": {},
     "outputs": [
      {
       "output_type": "stream",
       "stream": "stdout",
       "text": [
        "10 loops, best of 3: 78.3 ms per loop\n"
       ]
      }
     ],
     "prompt_number": 4
    },
    {
     "cell_type": "markdown",
     "metadata": {
      "slideshow": {
       "slide_type": "subslide"
      }
     },
     "source": [
      "Pure Python is 10x to 100x slower than C"
     ]
    },
    {
     "cell_type": "markdown",
     "metadata": {
      "slideshow": {
       "slide_type": "fragment"
      }
     },
     "source": [
      "... for numeric computation."
     ]
    },
    {
     "cell_type": "markdown",
     "metadata": {
      "slideshow": {
       "slide_type": "fragment"
      }
     },
     "source": [
      "But what about everything else?"
     ]
    },
    {
     "cell_type": "markdown",
     "metadata": {
      "slideshow": {
       "slide_type": "subslide"
      }
     },
     "source": [
      "# Disclaimer\n",
      "\n",
      "*   Microbenchmarks are hard to do well\n",
      "*   My benchmarks aren't comprehensive\n",
      "*   Performance depends on your class of problem\n",
      "*   For best performance, understand your problem"
     ]
    },
    {
     "cell_type": "markdown",
     "metadata": {
      "slideshow": {
       "slide_type": "slide"
      }
     },
     "source": [
      "# Python core data structures are fast"
     ]
    },
    {
     "cell_type": "markdown",
     "metadata": {
      "slideshow": {
       "slide_type": "subslide"
      }
     },
     "source": [
      "## Frequency Counting"
     ]
    },
    {
     "cell_type": "code",
     "collapsed": false,
     "input": [
      "def frequencies(seq):\n",
      "    \"\"\" Count the number of occurences of each element in seq \n",
      "    \n",
      "    >>> frequencies('Hello')\n",
      "    {'H': 1, 'e': 1, 'l': 2, 'o': 1}\n",
      "    \"\"\"\n",
      "    d = dict()\n",
      "    for item in seq:\n",
      "        if item not in d:\n",
      "            d[item] = 1\n",
      "        else:\n",
      "            d[item] = d[item] + 1\n",
      "    return d\n",
      "\n",
      "data = ['Alice', 'Bob', 'Charlie', 'Dan', 'Edith', 'Frank'] * 1000000\n",
      "\n",
      "frequencies(data)"
     ],
     "language": "python",
     "metadata": {},
     "outputs": [
      {
       "metadata": {},
       "output_type": "pyout",
       "prompt_number": 1,
       "text": [
        "{'Alice': 1000000,\n",
        " 'Bob': 1000000,\n",
        " 'Charlie': 1000000,\n",
        " 'Dan': 1000000,\n",
        " 'Edith': 1000000,\n",
        " 'Frank': 1000000}"
       ]
      }
     ],
     "prompt_number": 1
    },
    {
     "cell_type": "markdown",
     "metadata": {
      "slideshow": {
       "slide_type": "subslide"
      }
     },
     "source": [
      "## Micro-Benchmark: Frequency Counting"
     ]
    },
    {
     "cell_type": "code",
     "collapsed": false,
     "input": [
      "%timeit frequencies(data)"
     ],
     "language": "python",
     "metadata": {},
     "outputs": [
      {
       "output_type": "stream",
       "stream": "stdout",
       "text": [
        "1 loops, best of 3: 794 ms per loop\n"
       ]
      }
     ],
     "prompt_number": 6
    },
    {
     "cell_type": "code",
     "collapsed": false,
     "input": [
      "import collections\n",
      "%timeit collections.Counter(data)      # More sophisticated data structure"
     ],
     "language": "python",
     "metadata": {
      "slideshow": {
       "slide_type": "fragment"
      }
     },
     "outputs": [
      {
       "output_type": "stream",
       "stream": "stdout",
       "text": [
        "1 loops, best of 3: 1.59 s per loop\n"
       ]
      }
     ],
     "prompt_number": 7
    },
    {
     "cell_type": "code",
     "collapsed": false,
     "input": [
      "import toolz\n",
      "%timeit toolz.frequencies(data)        # Tuned implementation"
     ],
     "language": "python",
     "metadata": {
      "slideshow": {
       "slide_type": "fragment"
      }
     },
     "outputs": [
      {
       "output_type": "stream",
       "stream": "stdout",
       "text": [
        "1 loops, best of 3: 520 ms per loop\n"
       ]
      }
     ],
     "prompt_number": 8
    },
    {
     "cell_type": "code",
     "collapsed": true,
     "input": [
      "from pandas import Series\n",
      "series = Series(data)\n",
      "%timeit series.value_counts()"
     ],
     "language": "python",
     "metadata": {
      "slideshow": {
       "slide_type": "fragment"
      }
     },
     "outputs": [
      {
       "output_type": "stream",
       "stream": "stdout",
       "text": [
        "1 loops, best of 3: 285 ms per loop\n"
       ]
      }
     ],
     "prompt_number": 9
    },
    {
     "cell_type": "markdown",
     "metadata": {
      "slideshow": {
       "slide_type": "subslide"
      }
     },
     "source": [
      "## How does this compare with Java?"
     ]
    },
    {
     "cell_type": "markdown",
     "metadata": {
      "slideshow": {
       "slide_type": "-"
      }
     },
     "source": [
      "```\n",
      "import java.io.*;\n",
      "import java.util.*;\n",
      "\n",
      "public class Frequencies{\n",
      "\n",
      "    public static void main(String[] args) throws IOException{\n",
      "        // Open file for reading\n",
      "        List<String> data = new ArrayList<String>();\n",
      "        for(int i = 0; i < 1000000; i++)\n",
      "        {\n",
      "            data.add(\"Alice\");\n",
      "            data.add(\"Bob\");\n",
      "            data.add(\"Charlie\");\n",
      "            data.add(\"Dan\");\n",
      "            data.add(\"Edith\");\n",
      "            data.add(\"Frank\");\n",
      "        }\n",
      "\n",
      "        Map<String, Integer> result = new HashMap<String, Integer>();\n",
      "\n",
      "        // Start timer\n",
      "        final long startTime = System.nanoTime();\n",
      "\n",
      "        for(String item: data){\n",
      "            if (!result.containsKey(item))\n",
      "                result.put(item, 1);\n",
      "            else\n",
      "                result.put(item, result.get(item) + 1);\n",
      "        }\n",
      "        // End timer\n",
      "        final long endTime = System.nanoTime();\n",
      "\n",
      "        System.out.printf(\"Time elapsed: %f ms\\n\",\n",
      "                          (float)(endTime - startTime) / 1e6);\n",
      "    }\n",
      "}\n",
      "```"
     ]
    },
    {
     "cell_type": "code",
     "collapsed": false,
     "input": [
      " timeit frequencies(data)"
     ],
     "language": "python",
     "metadata": {
      "slideshow": {
       "slide_type": "subslide"
      }
     },
     "outputs": [
      {
       "output_type": "stream",
       "stream": "stdout",
       "text": [
        "1 loops, best of 3: 797 ms per loop\n"
       ]
      }
     ],
     "prompt_number": 10
    },
    {
     "cell_type": "code",
     "collapsed": false,
     "input": [
      "%timeit toolz.frequencies(data)"
     ],
     "language": "python",
     "metadata": {},
     "outputs": [
      {
       "output_type": "stream",
       "stream": "stdout",
       "text": [
        "1 loops, best of 3: 522 ms per loop\n"
       ]
      }
     ],
     "prompt_number": 11
    },
    {
     "cell_type": "code",
     "collapsed": true,
     "input": [
      "%timeit series.value_counts()"
     ],
     "language": "python",
     "metadata": {},
     "outputs": [
      {
       "output_type": "stream",
       "stream": "stdout",
       "text": [
        "1 loops, best of 3: 285 ms per loop\n"
       ]
      }
     ],
     "prompt_number": 12
    },
    {
     "cell_type": "code",
     "collapsed": false,
     "input": [
      "!java Frequencies"
     ],
     "language": "python",
     "metadata": {},
     "outputs": [
      {
       "output_type": "stream",
       "stream": "stdout",
       "text": [
        "Time elapsed: 196.823072 ms\r\n"
       ]
      }
     ],
     "prompt_number": 13
    },
    {
     "cell_type": "markdown",
     "metadata": {
      "slideshow": {
       "slide_type": "slide"
      }
     },
     "source": [
      "Yes, Python is slower, but not *that* much slower\n",
      "\n",
      "It's more like 2x-5x slower"
     ]
    },
    {
     "cell_type": "markdown",
     "metadata": {
      "slideshow": {
       "slide_type": "slide"
      }
     },
     "source": [
      "## Consider staying in Pure Python\n",
      "\n",
      "*   Simple accessible data structures\n",
      "*   Portability\n",
      "*   Library support\n",
      "*   Streaming data structures\n",
      "*   Easy parallelism"
     ]
    },
    {
     "cell_type": "markdown",
     "metadata": {
      "slideshow": {
       "slide_type": "fragment"
      }
     },
     "source": [
      "*   A great standard library for streaming analytics"
     ]
    },
    {
     "cell_type": "markdown",
     "metadata": {
      "slideshow": {
       "slide_type": "slide"
      }
     },
     "source": [
      "# Introducing CyToolz"
     ]
    },
    {
     "cell_type": "markdown",
     "metadata": {},
     "source": [
      "By Erik N. Welch"
     ]
    },
    {
     "cell_type": "markdown",
     "metadata": {
      "slideshow": {
       "slide_type": "slide"
      }
     },
     "source": [
      "PyToolz provides utility functions for core Python data structures"
     ]
    },
    {
     "cell_type": "markdown",
     "metadata": {
      "slideshow": {
       "slide_type": "fragment"
      }
     },
     "source": [
      "They support streaming, composition, parallelism"
     ]
    },
    {
     "cell_type": "markdown",
     "metadata": {
      "slideshow": {
       "slide_type": "fragment"
      }
     },
     "source": [
      "...and are pretty fast"
     ]
    },
    {
     "cell_type": "markdown",
     "metadata": {
      "slideshow": {
       "slide_type": "slide"
      }
     },
     "source": [
      "CyToolz provides utility functions for core Python data structures"
     ]
    },
    {
     "cell_type": "markdown",
     "metadata": {},
     "source": [
      "They support streaming, composition, parallelism"
     ]
    },
    {
     "cell_type": "markdown",
     "metadata": {},
     "source": [
      "...and are *really* fast"
     ]
    },
    {
     "cell_type": "markdown",
     "metadata": {
      "slideshow": {
       "slide_type": "slide"
      }
     },
     "source": [
      "Cytoolz completely reimplements `toolz` in Cython.  It is a drop in replacement"
     ]
    },
    {
     "cell_type": "code",
     "collapsed": false,
     "input": [
      "# from toolz import *\n",
      "from cytoolz import *"
     ],
     "language": "python",
     "metadata": {},
     "outputs": [],
     "prompt_number": 1
    },
    {
     "cell_type": "markdown",
     "metadata": {
      "slideshow": {
       "slide_type": "slide"
      }
     },
     "source": [
      "CyToolz operates on plain Python data structures `(list, tuple, dict, set, ...)`"
     ]
    },
    {
     "cell_type": "markdown",
     "metadata": {
      "slideshow": {
       "slide_type": "slide"
      }
     },
     "source": [
      "## Micro-Benchmark "
     ]
    },
    {
     "cell_type": "code",
     "collapsed": false,
     "input": [
      "from toolz import groupby\n",
      "names = ['Alice', 'Bob', 'Charlie', 'Dan', 'Edith', 'Frank']\n",
      "%timeit groupby(len, names)"
     ],
     "language": "python",
     "metadata": {
      "slideshow": {
       "slide_type": "-"
      }
     },
     "outputs": [
      {
       "output_type": "stream",
       "stream": "stdout",
       "text": [
        "100000 loops, best of 3: 3.66 \u00b5s per loop\n"
       ]
      }
     ],
     "prompt_number": 9
    },
    {
     "cell_type": "code",
     "collapsed": false,
     "input": [
      "from cytoolz import groupby\n",
      "names = ['Alice', 'Bob', 'Charlie', 'Dan', 'Edith', 'Frank']\n",
      "%timeit groupby(len, names)"
     ],
     "language": "python",
     "metadata": {
      "slideshow": {
       "slide_type": "fragment"
      }
     },
     "outputs": [
      {
       "output_type": "stream",
       "stream": "stdout",
       "text": [
        "1000000 loops, best of 3: 816 ns per loop\n"
       ]
      }
     ],
     "prompt_number": 10
    },
    {
     "cell_type": "markdown",
     "metadata": {
      "slideshow": {
       "slide_type": "slide"
      }
     },
     "source": [
      "## Frequencies Benchmark"
     ]
    },
    {
     "cell_type": "code",
     "collapsed": false,
     "input": [
      "data = ['Alice', 'Bob', 'Charlie', 'Dan', 'Edith', 'Frank'] * 1000000"
     ],
     "language": "python",
     "metadata": {},
     "outputs": [],
     "prompt_number": 46
    },
    {
     "cell_type": "code",
     "collapsed": false,
     "input": [
      "timeit collections.Counter(data)"
     ],
     "language": "python",
     "metadata": {},
     "outputs": [
      {
       "output_type": "stream",
       "stream": "stdout",
       "text": [
        "1 loops, best of 3: 1.58 s per loop\n"
       ]
      }
     ],
     "prompt_number": 47
    },
    {
     "cell_type": "code",
     "collapsed": false,
     "input": [
      "timeit toolz.frequencies(data)"
     ],
     "language": "python",
     "metadata": {},
     "outputs": [
      {
       "output_type": "stream",
       "stream": "stdout",
       "text": [
        "1 loops, best of 3: 522 ms per loop\n"
       ]
      }
     ],
     "prompt_number": 48
    },
    {
     "cell_type": "code",
     "collapsed": false,
     "input": [
      "series = Series(data)\n",
      "%timeit series.value_counts()"
     ],
     "language": "python",
     "metadata": {},
     "outputs": [
      {
       "output_type": "stream",
       "stream": "stdout",
       "text": [
        "1 loops, best of 3: 284 ms per loop\n"
       ]
      }
     ],
     "prompt_number": 49
    },
    {
     "cell_type": "code",
     "collapsed": false,
     "input": [
      "!java Frequencies"
     ],
     "language": "python",
     "metadata": {},
     "outputs": [
      {
       "output_type": "stream",
       "stream": "stdout",
       "text": [
        "Time elapsed: 201.190272 ms\r\n"
       ]
      }
     ],
     "prompt_number": 50
    },
    {
     "cell_type": "code",
     "collapsed": false,
     "input": [
      "timeit cytoolz.frequencies(data)"
     ],
     "language": "python",
     "metadata": {
      "slideshow": {
       "slide_type": "fragment"
      }
     },
     "outputs": [
      {
       "output_type": "stream",
       "stream": "stdout",
       "text": [
        "1 loops, best of 3: 209 ms per loop\n"
       ]
      }
     ],
     "prompt_number": 51
    },
    {
     "cell_type": "markdown",
     "metadata": {
      "slideshow": {
       "slide_type": "slide"
      }
     },
     "source": [
      "## CyToolz: C on Python data structures"
     ]
    },
    {
     "cell_type": "markdown",
     "metadata": {},
     "source": [
      "\n",
      "| Project               | Computation           |   Data Structures        |\n",
      "| --------------------- | --------------------- | ------------------------ |\n",
      "| PyToolz               | Python                | Python                   |\n",
      "| CyToolz               | C                     | Python                   |\n",
      "| Pandas/NumPy          | C                     | C                        |\n"
     ]
    },
    {
     "cell_type": "markdown",
     "metadata": {
      "slideshow": {
       "slide_type": "slide"
      }
     },
     "source": [
      "\n",
      "\n",
      "*Python can be only 2x-5x slower for data structure bound computations*\n",
      "\n",
      "*CyToolz implements `toolz` in Cython to achieve Java-like speeds (in some cases)*\n",
      "\n",
      "```bash\n",
      "~/cytoolz$ git shortlog -ns\n",
      "     107  Erik Welch\n",
      "     8  Matthew Rocklin\n",
      "     4  Lars Buitinck\n",
      "     3  Stefan Behnel\n",
      "     1  Thouis (Ray) Jones\n",
      "     1  scoder\n",
      "\n",
      "```"
     ]
    }
   ],
   "metadata": {}
  }
 ]
}
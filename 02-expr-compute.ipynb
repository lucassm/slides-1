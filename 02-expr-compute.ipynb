{
 "metadata": {
  "name": "",
  "signature": "sha256:6ee71d0e97991b721c91b51f0a6a73bb83ef3e007d768f157cdb480d45d13d14"
 },
 "nbformat": 3,
 "nbformat_minor": 0,
 "worksheets": [
  {
   "cells": [
    {
     "cell_type": "markdown",
     "metadata": {},
     "source": [
      "# `blaze.expr` and `blaze.compute`"
     ]
    },
    {
     "cell_type": "code",
     "collapsed": false,
     "input": [
      "L = [(1, 'Alice', 100),\n",
      "     (2, 'Bob', -200),\n",
      "     (3, 'Charlie', 300),\n",
      "     (4, 'Denis', 400),\n",
      "     (5, 'Edith', -500)]"
     ],
     "language": "python",
     "metadata": {},
     "outputs": [],
     "prompt_number": 4
    },
    {
     "cell_type": "code",
     "collapsed": false,
     "input": [
      "from blaze import *\n",
      "\n",
      "schema = '{id: int, name: string, balance: float64}'\n",
      "\n",
      "accounts = TableSymbol('accounts', schema)"
     ],
     "language": "python",
     "metadata": {},
     "outputs": [],
     "prompt_number": 5
    },
    {
     "cell_type": "code",
     "collapsed": false,
     "input": [
      "accounts.columns"
     ],
     "language": "python",
     "metadata": {},
     "outputs": [
      {
       "metadata": {},
       "output_type": "pyout",
       "prompt_number": 6,
       "text": [
        "['id', 'name', 'balance']"
       ]
      }
     ],
     "prompt_number": 6
    },
    {
     "cell_type": "code",
     "collapsed": false,
     "input": [
      "# Make a symbolic expression\n",
      "\n",
      "deadbeats = accounts[accounts['balance'] < 0]['name']"
     ],
     "language": "python",
     "metadata": {},
     "outputs": [],
     "prompt_number": 7
    },
    {
     "cell_type": "code",
     "collapsed": false,
     "input": [
      "deadbeats"
     ],
     "language": "python",
     "metadata": {},
     "outputs": [
      {
       "metadata": {},
       "output_type": "pyout",
       "prompt_number": 8,
       "text": [
        "accounts[accounts['balance'] < 0]['name']"
       ]
      }
     ],
     "prompt_number": 8
    },
    {
     "cell_type": "code",
     "collapsed": false,
     "input": [
      "# What kind of thing is `deadbeats`?\n",
      "\n",
      "from blaze.expr.core import Expr\n",
      "\n",
      "def tuplify(expr):\n",
      "    if not isinstance(expr, Expr):\n",
      "        return expr\n",
      "    else:\n",
      "        return (type(expr).__name__,) + tuple(map(tuplify, expr.args))\n",
      "\n",
      "tuplify(deadbeats)"
     ],
     "language": "python",
     "metadata": {},
     "outputs": [
      {
       "metadata": {},
       "output_type": "pyout",
       "prompt_number": 9,
       "text": [
        "('Column',\n",
        " ('Selection',\n",
        "  ('TableSymbol',\n",
        "   'accounts',\n",
        "   dshape(\"{ id : int32, name : string, balance : float64 }\"),\n",
        "   False),\n",
        "  ('ColumnWise',\n",
        "   ('TableSymbol',\n",
        "    'accounts',\n",
        "    dshape(\"{ id : int32, name : string, balance : float64 }\"),\n",
        "    False),\n",
        "   ('LT', ('ScalarSymbol', 'balance', dshape(\"float64\")), 0))),\n",
        " 'name')"
       ]
      }
     ],
     "prompt_number": 9
    },
    {
     "cell_type": "markdown",
     "metadata": {},
     "source": [
      "## Compute against Python"
     ]
    },
    {
     "cell_type": "code",
     "collapsed": false,
     "input": [
      "# Compute deadbeats against L\n",
      "list(compute(deadbeats, L))"
     ],
     "language": "python",
     "metadata": {},
     "outputs": [
      {
       "metadata": {},
       "output_type": "pyout",
       "prompt_number": 10,
       "text": [
        "['Bob', 'Edith']"
       ]
      }
     ],
     "prompt_number": 10
    },
    {
     "cell_type": "code",
     "collapsed": false,
     "input": [
      "L"
     ],
     "language": "python",
     "metadata": {},
     "outputs": [
      {
       "metadata": {},
       "output_type": "pyout",
       "prompt_number": 11,
       "text": [
        "[(1, 'Alice', 100),\n",
        " (2, 'Bob', -200),\n",
        " (3, 'Charlie', 300),\n",
        " (4, 'Denis', 400),\n",
        " (5, 'Edith', -500)]"
       ]
      }
     ],
     "prompt_number": 11
    },
    {
     "cell_type": "markdown",
     "metadata": {},
     "source": [
      "## Compute against Pandas"
     ]
    },
    {
     "cell_type": "code",
     "collapsed": false,
     "input": [
      "from pandas import DataFrame\n",
      "df = DataFrame(L, columns=['id', 'name', 'balance'])\n",
      "df"
     ],
     "language": "python",
     "metadata": {},
     "outputs": [
      {
       "html": [
        "<div style=\"max-height:1000px;max-width:1500px;overflow:auto;\">\n",
        "<table border=\"1\" class=\"dataframe\">\n",
        "  <thead>\n",
        "    <tr style=\"text-align: right;\">\n",
        "      <th></th>\n",
        "      <th>id</th>\n",
        "      <th>name</th>\n",
        "      <th>balance</th>\n",
        "    </tr>\n",
        "  </thead>\n",
        "  <tbody>\n",
        "    <tr>\n",
        "      <th>0</th>\n",
        "      <td> 1</td>\n",
        "      <td>   Alice</td>\n",
        "      <td> 100</td>\n",
        "    </tr>\n",
        "    <tr>\n",
        "      <th>1</th>\n",
        "      <td> 2</td>\n",
        "      <td>     Bob</td>\n",
        "      <td>-200</td>\n",
        "    </tr>\n",
        "    <tr>\n",
        "      <th>2</th>\n",
        "      <td> 3</td>\n",
        "      <td> Charlie</td>\n",
        "      <td> 300</td>\n",
        "    </tr>\n",
        "    <tr>\n",
        "      <th>3</th>\n",
        "      <td> 4</td>\n",
        "      <td>   Denis</td>\n",
        "      <td> 400</td>\n",
        "    </tr>\n",
        "    <tr>\n",
        "      <th>4</th>\n",
        "      <td> 5</td>\n",
        "      <td>   Edith</td>\n",
        "      <td>-500</td>\n",
        "    </tr>\n",
        "  </tbody>\n",
        "</table>\n",
        "</div>"
       ],
       "metadata": {},
       "output_type": "pyout",
       "prompt_number": 12,
       "text": [
        "   id     name  balance\n",
        "0   1    Alice      100\n",
        "1   2      Bob     -200\n",
        "2   3  Charlie      300\n",
        "3   4    Denis      400\n",
        "4   5    Edith     -500"
       ]
      }
     ],
     "prompt_number": 12
    },
    {
     "cell_type": "code",
     "collapsed": false,
     "input": [
      "compute(deadbeats, df)"
     ],
     "language": "python",
     "metadata": {},
     "outputs": [
      {
       "metadata": {},
       "output_type": "pyout",
       "prompt_number": 13,
       "text": [
        "1      Bob\n",
        "4    Edith\n",
        "Name: name, dtype: object"
       ]
      }
     ],
     "prompt_number": 13
    },
    {
     "cell_type": "markdown",
     "metadata": {},
     "source": [
      "### Spark"
     ]
    },
    {
     "cell_type": "code",
     "collapsed": false,
     "input": [
      "from blaze.spark import *"
     ],
     "language": "python",
     "metadata": {},
     "outputs": [],
     "prompt_number": 14
    },
    {
     "cell_type": "code",
     "collapsed": false,
     "input": [
      "import pyspark\n",
      "sc = pyspark.SparkContext('local', 'Spark-app')\n",
      "rdd = sc.parallelize(L)"
     ],
     "language": "python",
     "metadata": {},
     "outputs": [
      {
       "output_type": "stream",
       "stream": "stdout",
       "text": [
        "34179\n",
        "\n"
       ]
      }
     ],
     "prompt_number": 15
    },
    {
     "cell_type": "code",
     "collapsed": false,
     "input": [
      "compute(deadbeats, rdd).collect()"
     ],
     "language": "python",
     "metadata": {},
     "outputs": [
      {
       "metadata": {},
       "output_type": "pyout",
       "prompt_number": 16,
       "text": [
        "['Bob', 'Edith']"
       ]
      }
     ],
     "prompt_number": 16
    },
    {
     "cell_type": "markdown",
     "metadata": {},
     "source": [
      "### SQLAlchemy"
     ]
    },
    {
     "cell_type": "code",
     "collapsed": false,
     "input": [
      "from blaze.sql import *\n",
      "sql = SQL('sqlite:///accounts.db', 'accounts')\n",
      "sql.engine"
     ],
     "language": "python",
     "metadata": {},
     "outputs": [
      {
       "metadata": {},
       "output_type": "pyout",
       "prompt_number": 22,
       "text": [
        "Engine(sqlite:///accounts.db)"
       ]
      }
     ],
     "prompt_number": 22
    },
    {
     "cell_type": "code",
     "collapsed": false,
     "input": [
      "# Compute deadbeats against sql \n",
      "from blaze.compute.sql import select\n",
      "print select(compute(deadbeats, sql.table))"
     ],
     "language": "python",
     "metadata": {},
     "outputs": [
      {
       "output_type": "stream",
       "stream": "stdout",
       "text": [
        "SELECT name \n",
        "FROM (SELECT accounts.id AS id, accounts.name AS name, accounts.balance AS balance \n",
        "FROM accounts \n",
        "WHERE accounts.balance < :balance_1)\n"
       ]
      }
     ],
     "prompt_number": 26
    },
    {
     "cell_type": "code",
     "collapsed": false,
     "input": [
      "compute(deadbeats, sql)"
     ],
     "language": "python",
     "metadata": {},
     "outputs": [
      {
       "metadata": {},
       "output_type": "pyout",
       "prompt_number": 24,
       "text": [
        "[u'Bob', u'Edith']"
       ]
      }
     ],
     "prompt_number": 24
    },
    {
     "cell_type": "markdown",
     "metadata": {},
     "source": [
      "## Demonstrate complexity"
     ]
    },
    {
     "cell_type": "code",
     "collapsed": false,
     "input": [
      "cities_list = [(1, 'NYC'),\n",
      "               (1, 'Boston'),\n",
      "               (2, 'LA'),\n",
      "               (3, 'Beijing'),\n",
      "               (3, 'Shanghai'),\n",
      "               (4, 'Moscow'),\n",
      "               (5, 'Paris'),\n",
      "               (5, 'Berlin')]\n",
      "\n",
      "schema = '{id: int, city: string}'"
     ],
     "language": "python",
     "metadata": {},
     "outputs": [],
     "prompt_number": 27
    },
    {
     "cell_type": "code",
     "collapsed": false,
     "input": [
      "cities_sql = into(SQL('sqlite:///accounts.db', 'cities', schema=schema),\n",
      "                  cities_list)"
     ],
     "language": "python",
     "metadata": {},
     "outputs": [],
     "prompt_number": 28
    },
    {
     "cell_type": "code",
     "collapsed": false,
     "input": [
      "cities_df = into(DataFrame(columns=['id', 'city']), \n",
      "                 cities_list)\n",
      "cities_df"
     ],
     "language": "python",
     "metadata": {},
     "outputs": [
      {
       "html": [
        "<div style=\"max-height:1000px;max-width:1500px;overflow:auto;\">\n",
        "<table border=\"1\" class=\"dataframe\">\n",
        "  <thead>\n",
        "    <tr style=\"text-align: right;\">\n",
        "      <th></th>\n",
        "      <th>id</th>\n",
        "      <th>city</th>\n",
        "    </tr>\n",
        "  </thead>\n",
        "  <tbody>\n",
        "    <tr>\n",
        "      <th>0</th>\n",
        "      <td> 1</td>\n",
        "      <td>      NYC</td>\n",
        "    </tr>\n",
        "    <tr>\n",
        "      <th>1</th>\n",
        "      <td> 1</td>\n",
        "      <td>   Boston</td>\n",
        "    </tr>\n",
        "    <tr>\n",
        "      <th>2</th>\n",
        "      <td> 2</td>\n",
        "      <td>       LA</td>\n",
        "    </tr>\n",
        "    <tr>\n",
        "      <th>3</th>\n",
        "      <td> 3</td>\n",
        "      <td>  Beijing</td>\n",
        "    </tr>\n",
        "    <tr>\n",
        "      <th>4</th>\n",
        "      <td> 3</td>\n",
        "      <td> Shanghai</td>\n",
        "    </tr>\n",
        "    <tr>\n",
        "      <th>5</th>\n",
        "      <td> 4</td>\n",
        "      <td>   Moscow</td>\n",
        "    </tr>\n",
        "    <tr>\n",
        "      <th>6</th>\n",
        "      <td> 5</td>\n",
        "      <td>    Paris</td>\n",
        "    </tr>\n",
        "    <tr>\n",
        "      <th>7</th>\n",
        "      <td> 5</td>\n",
        "      <td>   Berlin</td>\n",
        "    </tr>\n",
        "  </tbody>\n",
        "</table>\n",
        "</div>"
       ],
       "metadata": {},
       "output_type": "pyout",
       "prompt_number": 29,
       "text": [
        "   id      city\n",
        "0   1       NYC\n",
        "1   1    Boston\n",
        "2   2        LA\n",
        "3   3   Beijing\n",
        "4   3  Shanghai\n",
        "5   4    Moscow\n",
        "6   5     Paris\n",
        "7   5    Berlin"
       ]
      }
     ],
     "prompt_number": 29
    },
    {
     "cell_type": "code",
     "collapsed": false,
     "input": [
      "cities_rdd = into(sc, cities_list)"
     ],
     "language": "python",
     "metadata": {},
     "outputs": [],
     "prompt_number": 30
    },
    {
     "cell_type": "code",
     "collapsed": false,
     "input": [
      "# Abstract bit\n",
      "\n",
      "cities = TableSymbol('cities', schema)\n",
      "deadbeat_cities = Join(accounts[accounts['balance'] < 0],\n",
      "                       cities, \n",
      "                       'id')[['name', 'city']]"
     ],
     "language": "python",
     "metadata": {},
     "outputs": [],
     "prompt_number": 31
    },
    {
     "cell_type": "code",
     "collapsed": false,
     "input": [
      "list(compute(deadbeat_cities, {cities: cities_list, \n",
      "                               accounts: L}))"
     ],
     "language": "python",
     "metadata": {},
     "outputs": [
      {
       "metadata": {},
       "output_type": "pyout",
       "prompt_number": 32,
       "text": [
        "[('Bob', 'LA'), ('Edith', 'Paris'), ('Edith', 'Berlin')]"
       ]
      }
     ],
     "prompt_number": 32
    },
    {
     "cell_type": "code",
     "collapsed": false,
     "input": [
      "compute(deadbeat_cities, {cities: cities_df, \n",
      "                          accounts: df})"
     ],
     "language": "python",
     "metadata": {},
     "outputs": [
      {
       "html": [
        "<div style=\"max-height:1000px;max-width:1500px;overflow:auto;\">\n",
        "<table border=\"1\" class=\"dataframe\">\n",
        "  <thead>\n",
        "    <tr style=\"text-align: right;\">\n",
        "      <th></th>\n",
        "      <th>name</th>\n",
        "      <th>city</th>\n",
        "    </tr>\n",
        "  </thead>\n",
        "  <tbody>\n",
        "    <tr>\n",
        "      <th>0</th>\n",
        "      <td>   Bob</td>\n",
        "      <td>     LA</td>\n",
        "    </tr>\n",
        "    <tr>\n",
        "      <th>1</th>\n",
        "      <td> Edith</td>\n",
        "      <td>  Paris</td>\n",
        "    </tr>\n",
        "    <tr>\n",
        "      <th>2</th>\n",
        "      <td> Edith</td>\n",
        "      <td> Berlin</td>\n",
        "    </tr>\n",
        "  </tbody>\n",
        "</table>\n",
        "</div>"
       ],
       "metadata": {},
       "output_type": "pyout",
       "prompt_number": 33,
       "text": [
        "    name    city\n",
        "0    Bob      LA\n",
        "1  Edith   Paris\n",
        "2  Edith  Berlin"
       ]
      }
     ],
     "prompt_number": 33
    },
    {
     "cell_type": "code",
     "collapsed": false,
     "input": [
      "print(compute(deadbeat_cities, {cities: cities_sql.table, \n",
      "                                accounts: sql.table}))"
     ],
     "language": "python",
     "metadata": {},
     "outputs": [
      {
       "output_type": "stream",
       "stream": "stdout",
       "text": [
        "SELECT name, city \n",
        "FROM (SELECT id, name, balance, cities.city AS city \n",
        "FROM (SELECT accounts.id AS id, accounts.name AS name, accounts.balance AS balance \n",
        "FROM accounts \n",
        "WHERE accounts.balance < :balance_1) JOIN cities ON id = cities.id)\n"
       ]
      }
     ],
     "prompt_number": 34
    },
    {
     "cell_type": "code",
     "collapsed": false,
     "input": [
      "compute(deadbeat_cities, {cities: cities_rdd, \n",
      "                          accounts: rdd}).collect()"
     ],
     "language": "python",
     "metadata": {},
     "outputs": [
      {
       "metadata": {},
       "output_type": "pyout",
       "prompt_number": 35,
       "text": [
        "[('Bob', 'LA'), ('Edith', 'Paris'), ('Edith', 'Berlin')]"
       ]
      }
     ],
     "prompt_number": 35
    },
    {
     "cell_type": "code",
     "collapsed": false,
     "input": [],
     "language": "python",
     "metadata": {},
     "outputs": []
    }
   ],
   "metadata": {}
  }
 ]
}
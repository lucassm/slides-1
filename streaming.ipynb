{
 "metadata": {
  "celltoolbar": "Slideshow",
  "name": "",
  "signature": "sha256:dd5e87ae80426f3d58c068a09cc6187e66d4e43aa93cacc2b3f76c5e03d1f143"
 },
 "nbformat": 3,
 "nbformat_minor": 0,
 "worksheets": [
  {
   "cells": [
    {
     "cell_type": "markdown",
     "metadata": {
      "slideshow": {
       "slide_type": "skip"
      }
     },
     "source": [
      "# Front Matter\n",
      "\n",
      "These slides accompany the talk TALKNAME at CONFERENCE, YEAR\n",
      "\n",
      "They live in the BRANCHNAME branch of my slides repository http://github.com/mrocklin/slides\n",
      "\n",
      "I convert this notebook to a reveal.js slideshow with the following commands\n",
      "\n",
      "```bash\n",
      "git clone  https://github.com/mrocklin/slides.git\n",
      "cd slides\n",
      "git checkout BRANCHNAME\n",
      "make slides\n",
      "ipython nbconvert --to slides --post serve slides.ipynb\n",
      "```"
     ]
    },
    {
     "cell_type": "markdown",
     "metadata": {
      "slideshow": {
       "slide_type": "slide"
      }
     },
     "source": [
      "# Streaming Analytics with `toolz`"
     ]
    },
    {
     "cell_type": "markdown",
     "metadata": {},
     "source": [
      "By Matthew Rocklin"
     ]
    },
    {
     "cell_type": "markdown",
     "metadata": {
      "slideshow": {
       "slide_type": "slide"
      }
     },
     "source": [
      "## tl;dr\n"
     ]
    },
    {
     "cell_type": "markdown",
     "metadata": {},
     "source": [
      "Streaming Python enables SQL/Pandas-like computations on out-of-core datasets"
     ]
    },
    {
     "cell_type": "markdown",
     "metadata": {
      "slideshow": {
       "slide_type": "slide"
      }
     },
     "source": [
      "## Problem: Some datasets are too big for memory\n"
     ]
    },
    {
     "cell_type": "code",
     "collapsed": false,
     "input": [
      "!head /home/mrocklin/data/bitcoin/data-code/user_edges.txt"
     ],
     "language": "python",
     "metadata": {},
     "outputs": [
      {
       "output_type": "stream",
       "stream": "stdout",
       "text": [
        "1,2,2,20130410142250,24.375\r\n",
        "1,2,782477,20130410142250,0.7709\r\n",
        "2,620423,4571210,20111227114312,614.17495129\r\n",
        "2,620423,3,20111227114312,128.0405196\r\n",
        "3,3,782479,20130410142250,47.1405196\r\n",
        "3,3,4,20130410142250,150.0\r\n",
        "4,39337,39337,20120617120202,0.31081764\r\n",
        "4,39337,3,20120617120202,69.1\r\n",
        "5,2071196,2070358,20130304143805,61.60235182\r\n",
        "5,2071196,5,20130304143805,100.0\r\n"
       ]
      }
     ],
     "prompt_number": 25
    },
    {
     "cell_type": "markdown",
     "metadata": {},
     "source": [
      "```\n",
      ">>> import pandas\n",
      ">>> df = pandas.read_csv('user_edges.txt')\n",
      "MemoryError(...)\n",
      "```"
     ]
    },
    {
     "cell_type": "markdown",
     "metadata": {
      "slideshow": {
       "slide_type": "subslide"
      }
     },
     "source": [
      "## Solution: Solve problems by streaming data through memory"
     ]
    },
    {
     "cell_type": "markdown",
     "metadata": {
      "slideshow": {
       "slide_type": "slide"
      }
     },
     "source": [
      "## Lazy Evaluation"
     ]
    },
    {
     "cell_type": "code",
     "collapsed": false,
     "input": [
      "from toolz import *\n",
      "\n",
      "book = open('tale-of-two-cities.txt')\n",
      "book = drop(112, book)  # drop header"
     ],
     "language": "python",
     "metadata": {},
     "outputs": [],
     "prompt_number": 1
    },
    {
     "cell_type": "code",
     "collapsed": false,
     "input": [
      "next(book)"
     ],
     "language": "python",
     "metadata": {
      "slideshow": {
       "slide_type": "fragment"
      }
     },
     "outputs": [
      {
       "metadata": {},
       "output_type": "pyout",
       "prompt_number": 2,
       "text": [
        "'It was the best of times,\\r\\n'"
       ]
      }
     ],
     "prompt_number": 2
    },
    {
     "cell_type": "code",
     "collapsed": false,
     "input": [
      "next(book)"
     ],
     "language": "python",
     "metadata": {
      "slideshow": {
       "slide_type": "fragment"
      }
     },
     "outputs": [
      {
       "metadata": {},
       "output_type": "pyout",
       "prompt_number": 3,
       "text": [
        "'it was the worst of times,\\r\\n'"
       ]
      }
     ],
     "prompt_number": 3
    },
    {
     "cell_type": "markdown",
     "metadata": {
      "slideshow": {
       "slide_type": "subslide"
      }
     },
     "source": [
      "## Lazy `map`"
     ]
    },
    {
     "cell_type": "code",
     "collapsed": false,
     "input": [
      "from toolz import map  # toolz' map is lazy by default\n",
      "\n",
      "loud_book = map(str.upper, book)\n",
      "next(loud_book)"
     ],
     "language": "python",
     "metadata": {},
     "outputs": [
      {
       "metadata": {},
       "output_type": "pyout",
       "prompt_number": 4,
       "text": [
        "'IT WAS THE AGE OF WISDOM,\\r\\n'"
       ]
      }
     ],
     "prompt_number": 4
    },
    {
     "cell_type": "code",
     "collapsed": false,
     "input": [
      "loud_book = map(str.strip, loud_book)\n",
      "next(loud_book)"
     ],
     "language": "python",
     "metadata": {
      "slideshow": {
       "slide_type": "fragment"
      }
     },
     "outputs": [
      {
       "metadata": {},
       "output_type": "pyout",
       "prompt_number": 5,
       "text": [
        "'IT WAS THE AGE OF FOOLISHNESS,'"
       ]
      }
     ],
     "prompt_number": 5
    },
    {
     "cell_type": "markdown",
     "metadata": {
      "slideshow": {
       "slide_type": "subslide"
      }
     },
     "source": [
      "## Finalize in Memory with Reductions "
     ]
    },
    {
     "cell_type": "code",
     "collapsed": false,
     "input": [
      "frequencies(concat(loud_book))  # Frequencies is not lazy"
     ],
     "language": "python",
     "metadata": {},
     "outputs": [
      {
       "metadata": {},
       "output_type": "pyout",
       "prompt_number": 6,
       "text": [
        "{' ': 126002,\n",
        " '!': 955,\n",
        " '\"': 5681,\n",
        " '$': 2,\n",
        " '%': 1,\n",
        " \"'\": 1268,\n",
        " '(': 151,\n",
        " ')': 151,\n",
        " '*': 84,\n",
        " ',': 13265,\n",
        " '-': 2419,\n",
        " '.': 6811,\n",
        " '/': 24,\n",
        " '0': 17,\n",
        " '1': 61,\n",
        " '2': 10,\n",
        " '3': 12,\n",
        " '4': 9,\n",
        " '5': 13,\n",
        " '6': 9,\n",
        " '7': 13,\n",
        " '8': 14,\n",
        " '9': 14,\n",
        " ':': 263,\n",
        " ';': 1108,\n",
        " '?': 913,\n",
        " '@': 2,\n",
        " 'A': 48036,\n",
        " 'B': 8402,\n",
        " 'C': 13812,\n",
        " 'D': 28000,\n",
        " 'E': 74624,\n",
        " 'F': 13527,\n",
        " 'G': 12517,\n",
        " 'H': 38856,\n",
        " 'I': 40866,\n",
        " 'J': 708,\n",
        " 'K': 4764,\n",
        " 'L': 22002,\n",
        " 'M': 15274,\n",
        " 'N': 42305,\n",
        " 'O': 46409,\n",
        " 'P': 9891,\n",
        " 'Q': 666,\n",
        " 'R': 37090,\n",
        " 'S': 37498,\n",
        " 'T': 53858,\n",
        " 'U': 16710,\n",
        " 'V': 5175,\n",
        " 'W': 14091,\n",
        " 'X': 694,\n",
        " 'Y': 12165,\n",
        " 'Z': 215,\n",
        " '_': 182,\n",
        " '\\xa9': 2,\n",
        " '\\xc3': 2}"
       ]
      }
     ],
     "prompt_number": 6
    },
    {
     "cell_type": "markdown",
     "metadata": {
      "slideshow": {
       "slide_type": "slide"
      }
     },
     "source": [
      "### Recall `groupby`"
     ]
    },
    {
     "cell_type": "code",
     "collapsed": false,
     "input": [
      "from toolz.curried import *\n",
      "\n",
      "names = ['Alice', 'Bob', 'Charlie', 'Dan', 'Edith', 'Frank']\n",
      "\n",
      "groupby(len, names)"
     ],
     "language": "python",
     "metadata": {},
     "outputs": [
      {
       "metadata": {},
       "output_type": "pyout",
       "prompt_number": 7,
       "text": [
        "{3: ['Bob', 'Dan'], 5: ['Alice', 'Edith', 'Frank'], 7: ['Charlie']}"
       ]
      }
     ],
     "prompt_number": 7
    },
    {
     "cell_type": "markdown",
     "metadata": {
      "slideshow": {
       "slide_type": "fragment"
      }
     },
     "source": [
      "Common Question: *I like groupby from SQL/Pandas, what else does `toolz` have that looks like SQL?*"
     ]
    },
    {
     "cell_type": "markdown",
     "metadata": {
      "slideshow": {
       "slide_type": "fragment"
      }
     },
     "source": [
      "Common Answer: *Probably your data fits in memory, so use Pandas*"
     ]
    },
    {
     "cell_type": "markdown",
     "metadata": {
      "slideshow": {
       "slide_type": "fragment"
      }
     },
     "source": [
      "If you insist: \n",
      "\n",
      "    toolz: map, filter, groupby, reduceby, join, take, unique\n",
      "    Python: sorted, max, min, sum, ..."
     ]
    },
    {
     "cell_type": "markdown",
     "metadata": {
      "slideshow": {
       "slide_type": "subslide"
      }
     },
     "source": [
      "### Some of these are streaming, some aren't"
     ]
    },
    {
     "cell_type": "code",
     "collapsed": false,
     "input": [
      "from toolz.curried import *\n",
      "\n",
      "names = ['Alice', 'Bob', 'Charlie', 'Dan', 'Edith', 'Frank']\n",
      "\n",
      "groupby(len, names)"
     ],
     "language": "python",
     "metadata": {},
     "outputs": [
      {
       "metadata": {},
       "output_type": "pyout",
       "prompt_number": 26,
       "text": [
        "{3: ['Bob', 'Dan'], 5: ['Alice', 'Edith', 'Frank'], 7: ['Charlie']}"
       ]
      }
     ],
     "prompt_number": 26
    },
    {
     "cell_type": "markdown",
     "metadata": {
      "slideshow": {
       "slide_type": "subslide"
      }
     },
     "source": [
      "## SQL-like Queries with `(cy)toolz`"
     ]
    },
    {
     "cell_type": "markdown",
     "metadata": {
      "slideshow": {
       "slide_type": "fragment"
      }
     },
     "source": [
      "### Dataset"
     ]
    },
    {
     "cell_type": "code",
     "collapsed": false,
     "input": [
      "accounts = [(1, 'Alice',   100, 'F'),  # id, name, balance, gender\n",
      "            (2, 'Bob',     200, 'M'),\n",
      "            (3, 'Charlie', 150, 'M'),\n",
      "            (4, 'Dennis',   50, 'M'),\n",
      "            (5, 'Edith',   300, 'F')]\n"
     ],
     "language": "python",
     "metadata": {
      "slideshow": {
       "slide_type": "fragment"
      }
     },
     "outputs": [],
     "prompt_number": 38
    },
    {
     "cell_type": "markdown",
     "metadata": {
      "slideshow": {
       "slide_type": "subslide"
      }
     },
     "source": [
      "### SELECT ... FROM ... WHERE"
     ]
    },
    {
     "cell_type": "markdown",
     "metadata": {
      "slideshow": {
       "slide_type": "-"
      }
     },
     "source": [
      "```\n",
      "SELECT name, balance\n",
      "FROM accounts\n",
      "WHERE balance > 150;\n",
      "```"
     ]
    },
    {
     "cell_type": "code",
     "collapsed": false,
     "input": [
      "from toolz.curried import pipe, map, filter, get\n",
      "pipe(accounts, filter(lambda (id, name, balance, gender): balance > 150),\n",
      "               pluck([1, 2]),\n",
      "               list)"
     ],
     "language": "python",
     "metadata": {},
     "outputs": [
      {
       "metadata": {},
       "output_type": "pyout",
       "prompt_number": 39,
       "text": [
        "[('Bob', 200), ('Edith', 300)]"
       ]
      }
     ],
     "prompt_number": 39
    },
    {
     "cell_type": "code",
     "collapsed": false,
     "input": [
      "[(name, balance) for (id, name, balance, gender) in accounts\n",
      "                 if balance > 150]\n"
     ],
     "language": "python",
     "metadata": {
      "slideshow": {
       "slide_type": "fragment"
      }
     },
     "outputs": [
      {
       "metadata": {},
       "output_type": "pyout",
       "prompt_number": 40,
       "text": [
        "[('Bob', 200), ('Edith', 300)]"
       ]
      }
     ],
     "prompt_number": 40
    },
    {
     "cell_type": "markdown",
     "metadata": {
      "slideshow": {
       "slide_type": "slide"
      }
     },
     "source": [
      "## In Memory Split-Apply-Combine\n",
      "\n"
     ]
    },
    {
     "cell_type": "markdown",
     "metadata": {},
     "source": [
      "```\n",
      "SELECT gender, SUM(balance)\n",
      "FROM accounts\n",
      "GROUP BY gender;\n",
      "```"
     ]
    },
    {
     "cell_type": "code",
     "collapsed": false,
     "input": [
      "groupby(get(3), accounts)"
     ],
     "language": "python",
     "metadata": {},
     "outputs": [
      {
       "metadata": {},
       "output_type": "pyout",
       "prompt_number": 41,
       "text": [
        "{'F': [(1, 'Alice', 100, 'F'), (5, 'Edith', 300, 'F')],\n",
        " 'M': [(2, 'Bob', 200, 'M'), (3, 'Charlie', 150, 'M'), (4, 'Dennis', 50, 'M')]}"
       ]
      }
     ],
     "prompt_number": 41
    },
    {
     "cell_type": "code",
     "collapsed": false,
     "input": [
      "valmap(pluck(2), _)"
     ],
     "language": "python",
     "metadata": {},
     "outputs": [
      {
       "metadata": {},
       "output_type": "pyout",
       "prompt_number": 42,
       "text": [
        "{'F': <itertools.imap at 0x7f97e938f410>,\n",
        " 'M': <itertools.imap at 0x7f97e938f590>}"
       ]
      }
     ],
     "prompt_number": 42
    },
    {
     "cell_type": "code",
     "collapsed": false,
     "input": [
      "valmap(sum, _)"
     ],
     "language": "python",
     "metadata": {},
     "outputs": [
      {
       "metadata": {},
       "output_type": "pyout",
       "prompt_number": 43,
       "text": [
        "{'F': 400, 'M': 400}"
       ]
      }
     ],
     "prompt_number": 43
    },
    {
     "cell_type": "code",
     "collapsed": false,
     "input": [
      "pipe(accounts, groupby(get(3)),\n",
      "               valmap(pluck(2)),\n",
      "               valmap(sum))\n",
      "               \n"
     ],
     "language": "python",
     "metadata": {
      "slideshow": {
       "slide_type": "fragment"
      }
     },
     "outputs": [
      {
       "metadata": {},
       "output_type": "pyout",
       "prompt_number": 30,
       "text": [
        "{'F': 400, 'M': 400}"
       ]
      }
     ],
     "prompt_number": 30
    },
    {
     "cell_type": "markdown",
     "metadata": {
      "slideshow": {
       "slide_type": "subslide"
      }
     },
     "source": [
      "## Streaming Split-Apply-Combine"
     ]
    },
    {
     "cell_type": "code",
     "collapsed": false,
     "input": [
      "def iseven(n):\n",
      "    return n % 2 == 0\n",
      "\n",
      "def add(x, y):\n",
      "    return x + y\n",
      "\n",
      "reduceby(iseven, add, [1, 2, 3, 4])"
     ],
     "language": "python",
     "metadata": {},
     "outputs": [
      {
       "metadata": {},
       "output_type": "pyout",
       "prompt_number": 31,
       "text": [
        "{False: 4, True: 6}"
       ]
      }
     ],
     "prompt_number": 31
    },
    {
     "cell_type": "code",
     "collapsed": false,
     "input": [
      "groups = groupby(iseven, [1, 2, 3, 4])\n",
      "groups"
     ],
     "language": "python",
     "metadata": {
      "slideshow": {
       "slide_type": "fragment"
      }
     },
     "outputs": [
      {
       "metadata": {},
       "output_type": "pyout",
       "prompt_number": 15,
       "text": [
        "{False: [1, 3], True: [2, 4]}"
       ]
      }
     ],
     "prompt_number": 15
    },
    {
     "cell_type": "code",
     "collapsed": false,
     "input": [
      "valmap(sum, groups)"
     ],
     "language": "python",
     "metadata": {
      "slideshow": {
       "slide_type": "fragment"
      }
     },
     "outputs": [
      {
       "metadata": {},
       "output_type": "pyout",
       "prompt_number": 32,
       "text": [
        "{False: 4, True: 6}"
       ]
      }
     ],
     "prompt_number": 32
    },
    {
     "cell_type": "markdown",
     "metadata": {
      "slideshow": {
       "slide_type": "subslide"
      }
     },
     "source": [
      "## Streaming Split-Apply-Combine"
     ]
    },
    {
     "cell_type": "code",
     "collapsed": false,
     "input": [
      "accounts = [(1, 'Alice',   100, 'F'),  # id, name, balance, gender\n",
      "            (2, 'Bob',     200, 'M'),\n",
      "            (3, 'Charlie', 150, 'M'),\n",
      "            (4, 'Dennis',   50, 'M'),\n",
      "            (5, 'Edith',   300, 'F')]\n"
     ],
     "language": "python",
     "metadata": {},
     "outputs": [],
     "prompt_number": 17
    },
    {
     "cell_type": "code",
     "collapsed": false,
     "input": [
      "key = lambda (id, name, balance, gender): gender\n",
      "binop = lambda total, (id, name, balance, gender): total + balance\n",
      "\n",
      "reduceby(key, binop, accounts, 0)"
     ],
     "language": "python",
     "metadata": {},
     "outputs": [
      {
       "metadata": {},
       "output_type": "pyout",
       "prompt_number": 18,
       "text": [
        "{'F': 400, 'M': 400}"
       ]
      }
     ],
     "prompt_number": 18
    },
    {
     "cell_type": "markdown",
     "metadata": {
      "slideshow": {
       "slide_type": "subslide"
      }
     },
     "source": [
      "### *confused?  it's ok.  I am too.*"
     ]
    },
    {
     "cell_type": "markdown",
     "metadata": {
      "slideshow": {
       "slide_type": "subslide"
      }
     },
     "source": [
      "### Bitcoin Again"
     ]
    },
    {
     "cell_type": "code",
     "collapsed": false,
     "input": [
      "import csv\n",
      "filename = '/home/mrocklin/data/bitcoin/data-code/user_edges.txt'\n",
      "\n",
      "key = get(1)\n",
      "binop = lambda total, (t, s, r, ts, value): total + float(value)\n",
      "\n",
      "pipe(filename, open, csv.reader,  # Open file\n",
      "                     reduceby(key, binop, init=0),  # do split-apply-combine\n",
      "                     dict.items, sorted(key=second, reverse=True), # sort by values\n",
      "                     take(10), list)  # take top ten as list"
     ],
     "language": "python",
     "metadata": {},
     "outputs": [
      {
       "metadata": {},
       "output_type": "pyout",
       "prompt_number": 35,
       "text": [
        "[('11', 52461821.94165766),\n",
        " ('1374', 23394277.034151807),\n",
        " ('25', 13178095.975724494),\n",
        " ('29', 5330179.983046564),\n",
        " ('12564', 3669712.399824968),\n",
        " ('782688', 2929023.064647781),\n",
        " ('74', 2122710.961163437),\n",
        " ('91638', 2094827.8251607446),\n",
        " ('27', 2058124.131470339),\n",
        " ('20', 1182868.148780274)]"
       ]
      }
     ],
     "prompt_number": 35
    },
    {
     "cell_type": "markdown",
     "metadata": {
      "slideshow": {
       "slide_type": "slide"
      }
     },
     "source": [
      "## Semi-Streaming Join"
     ]
    },
    {
     "cell_type": "code",
     "collapsed": false,
     "input": [
      "accounts = [(1, 'Alice',   100, 'F'),  # id, name, balance, gender\n",
      "            (2, 'Bob',     200, 'M'),\n",
      "            (3, 'Charlie', 150, 'M'),\n",
      "            (4, 'Dennis',   50, 'M'),\n",
      "            (5, 'Edith',   300, 'F')]\n",
      "\n",
      "addresses = [(1,  '123 Main Street'),  # id, address\n",
      "             (2,      '5 Adams Way'),\n",
      "             (5, '34 Rue St Michel')]"
     ],
     "language": "python",
     "metadata": {},
     "outputs": [],
     "prompt_number": 19
    },
    {
     "cell_type": "code",
     "collapsed": false,
     "input": [
      "list(join(first, addresses, first, accounts))"
     ],
     "language": "python",
     "metadata": {},
     "outputs": [
      {
       "metadata": {},
       "output_type": "pyout",
       "prompt_number": 20,
       "text": [
        "[((1, '123 Main Street'), (1, 'Alice', 100, 'F')),\n",
        " ((2, '5 Adams Way'), (2, 'Bob', 200, 'M')),\n",
        " ((5, '34 Rue St Michel'), (5, 'Edith', 300, 'F'))]"
       ]
      }
     ],
     "prompt_number": 20
    },
    {
     "cell_type": "code",
     "collapsed": false,
     "input": [
      "list(join(0, addresses, 0, accounts))"
     ],
     "language": "python",
     "metadata": {
      "slideshow": {
       "slide_type": "fragment"
      }
     },
     "outputs": [
      {
       "metadata": {},
       "output_type": "pyout",
       "prompt_number": 21,
       "text": [
        "[((1, '123 Main Street'), (1, 'Alice', 100, 'F')),\n",
        " ((2, '5 Adams Way'), (2, 'Bob', 200, 'M')),\n",
        " ((5, '34 Rue St Michel'), (5, 'Edith', 300, 'F'))]"
       ]
      }
     ],
     "prompt_number": 21
    },
    {
     "cell_type": "code",
     "collapsed": false,
     "input": [
      "for (id, address), (id, name, balance, gender) in join(0, addresses, 0, accounts):\n",
      "    print( address, name, balance)"
     ],
     "language": "python",
     "metadata": {
      "slideshow": {
       "slide_type": "fragment"
      }
     },
     "outputs": [
      {
       "output_type": "stream",
       "stream": "stdout",
       "text": [
        "('123 Main Street', 'Alice', 100)\n",
        "('5 Adams Way', 'Bob', 200)\n",
        "('34 Rue St Michel', 'Edith', 300)\n"
       ]
      }
     ],
     "prompt_number": 22
    },
    {
     "cell_type": "markdown",
     "metadata": {
      "slideshow": {
       "slide_type": "subslide"
      }
     },
     "source": [
      "## Another `join` example"
     ]
    },
    {
     "cell_type": "code",
     "collapsed": false,
     "input": [
      "friends = [('Alice', 'Edith'),\n",
      "           ('Alice', 'Zhao'),\n",
      "           ('Edith', 'Alice'),\n",
      "           ('Zhao', 'Alice'),\n",
      "           ('Zhao', 'Edith')]\n",
      "\n",
      "cities = [('Alice', 'NYC'),\n",
      "          ('Alice', 'Chicago'),\n",
      "          ('Dan', 'Syndey'),\n",
      "          ('Edith', 'Paris'),\n",
      "          ('Edith', 'Berlin'),\n",
      "          ('Zhao', 'Shanghai')]"
     ],
     "language": "python",
     "metadata": {},
     "outputs": [],
     "prompt_number": 23
    },
    {
     "cell_type": "markdown",
     "metadata": {},
     "source": [
      "Vacation opportunities\n",
      "\n",
      "In what cities do people have friends?"
     ]
    },
    {
     "cell_type": "code",
     "collapsed": false,
     "input": [
      "result = join(second, friends,\n",
      "              first, cities)\n",
      "\n",
      "for ((name, friend), (friend, city)) in sorted(unique(result)):\n",
      "    print((name, city))"
     ],
     "language": "python",
     "metadata": {},
     "outputs": [
      {
       "output_type": "stream",
       "stream": "stdout",
       "text": [
        "('Alice', 'Berlin')\n",
        "('Alice', 'Paris')\n",
        "('Alice', 'Shanghai')\n",
        "('Edith', 'Chicago')\n",
        "('Edith', 'NYC')\n",
        "('Zhao', 'Chicago')\n",
        "('Zhao', 'NYC')\n",
        "('Zhao', 'Berlin')\n",
        "('Zhao', 'Paris')\n"
       ]
      }
     ],
     "prompt_number": 24
    },
    {
     "cell_type": "markdown",
     "metadata": {
      "slideshow": {
       "slide_type": "subslide"
      }
     },
     "source": [
      "## Join Performance"
     ]
    },
    {
     "cell_type": "markdown",
     "metadata": {},
     "source": [
      "**Left** sequence must fit in memory, **right** sequence can stream"
     ]
    },
    {
     "cell_type": "markdown",
     "metadata": {},
     "source": [
      "`cytoolz.join` is fast.  It easily competes with `pandas.join`."
     ]
    },
    {
     "cell_type": "markdown",
     "metadata": {},
     "source": [
      "Like `groupby`, `join` is a powerful abstraction.  Often when you write code, you're actually just writing `join`."
     ]
    },
    {
     "cell_type": "markdown",
     "metadata": {},
     "source": [
      "# Recap\n",
      "\n",
      "*   Appeal to use core data structures\n",
      "*   Don't use `map`, `filter`, `reduce`, but do think about them\n",
      "*   They have friends like `groupby` in `toolz`\n",
      "*   Python data structures are surprisingly fast, particularly with `cytoolz`\n",
      "*   How to handle datasets that don't fit in memory with streaming computation"
     ]
    }
   ],
   "metadata": {}
  }
 ]
}
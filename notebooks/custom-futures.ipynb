{
 "cells": [
  {
   "cell_type": "markdown",
   "metadata": {},
   "source": [
    "### Connect to local cluster"
   ]
  },
  {
   "cell_type": "code",
   "execution_count": 1,
   "metadata": {
    "collapsed": false
   },
   "outputs": [
    {
     "data": {
      "text/plain": [
       "<Executor: scheduler=localhost:8786 workers=1 threads=4>"
      ]
     },
     "execution_count": 1,
     "metadata": {},
     "output_type": "execute_result"
    }
   ],
   "source": [
    "from dask.distributed import Executor\n",
    "e = Executor('localhost:8786')\n",
    "e"
   ]
  },
  {
   "cell_type": "markdown",
   "metadata": {},
   "source": [
    "### Functions for computation\n",
    "\n",
    "These are simple toy functions that take a non-trivial amount of time."
   ]
  },
  {
   "cell_type": "code",
   "execution_count": 2,
   "metadata": {
    "collapsed": true
   },
   "outputs": [],
   "source": [
    "from time import sleep\n",
    "\n",
    "def slowinc(x):\n",
    "    from random import random\n",
    "    sleep(random())\n",
    "    return x + 1\n",
    "\n",
    "def slowdouble(x):\n",
    "    from random import random\n",
    "    sleep(random())\n",
    "    return 2 * x\n",
    "    \n",
    "def slowadd(x, y):\n",
    "    from random import random\n",
    "    sleep(random())\n",
    "    return x + y "
   ]
  },
  {
   "cell_type": "markdown",
   "metadata": {},
   "source": [
    "### Submit function to run on cluster"
   ]
  },
  {
   "cell_type": "code",
   "execution_count": 3,
   "metadata": {
    "collapsed": false,
    "scrolled": true
   },
   "outputs": [
    {
     "name": "stdout",
     "output_type": "stream",
     "text": [
      "CPU times: user 0 ns, sys: 4 ms, total: 4 ms\n",
      "Wall time: 1 s\n"
     ]
    },
    {
     "data": {
      "text/plain": [
       "11"
      ]
     },
     "execution_count": 3,
     "metadata": {},
     "output_type": "execute_result"
    }
   ],
   "source": [
    "%time slowinc(10)"
   ]
  },
  {
   "cell_type": "code",
   "execution_count": 4,
   "metadata": {
    "collapsed": false
   },
   "outputs": [
    {
     "data": {
      "text/plain": [
       "<Future: status: pending, key: slowinc-ad2dbadd22c92605400404687c25b93f>"
      ]
     },
     "execution_count": 4,
     "metadata": {},
     "output_type": "execute_result"
    }
   ],
   "source": [
    "future = e.submit(slowinc, 10)  # runs slowinc(10) on cluster\n",
    "future"
   ]
  },
  {
   "cell_type": "code",
   "execution_count": 5,
   "metadata": {
    "collapsed": false
   },
   "outputs": [
    {
     "data": {
      "text/plain": [
       "<Future: status: finished, type: int, key: slowinc-ad2dbadd22c92605400404687c25b93f>"
      ]
     },
     "execution_count": 5,
     "metadata": {},
     "output_type": "execute_result"
    }
   ],
   "source": [
    "future"
   ]
  },
  {
   "cell_type": "code",
   "execution_count": 6,
   "metadata": {
    "collapsed": false,
    "scrolled": true
   },
   "outputs": [
    {
     "data": {
      "text/plain": [
       "11"
      ]
     },
     "execution_count": 6,
     "metadata": {},
     "output_type": "execute_result"
    }
   ],
   "source": [
    "future.result()"
   ]
  },
  {
   "cell_type": "markdown",
   "metadata": {},
   "source": [
    "### Submit many tasks"
   ]
  },
  {
   "cell_type": "code",
   "execution_count": 7,
   "metadata": {
    "collapsed": false
   },
   "outputs": [
    {
     "data": {
      "text/plain": [
       "[<Future: status: pending, key: slowadd-3fc22ac2fded07b05486cbfee1e5ecd6>,\n",
       " <Future: status: pending, key: slowadd-87c458dfdfd4063148842840c42dfb7b>,\n",
       " <Future: status: pending, key: slowadd-08a01c67216caec44342f0508a8e3b20>,\n",
       " <Future: status: pending, key: slowadd-23a96221d2244a804e2da893412635df>,\n",
       " <Future: status: pending, key: slowadd-0fc30a053ba9e7ae2bec6e78f66417dc>,\n",
       " <Future: status: pending, key: slowadd-b90c8faa07899ef3f3a842f238ae7da3>,\n",
       " <Future: status: pending, key: slowadd-311fcf77b4fb1c8f1bcc70d3d0bbc541>,\n",
       " <Future: status: pending, key: slowadd-a4deb15159cd062091e807d39188cc49>,\n",
       " <Future: status: pending, key: slowadd-0c6c771986cfadb0508cda49412ec08d>,\n",
       " <Future: status: pending, key: slowadd-cf11b3538b16315fb1268c2168bc5a5f>,\n",
       " <Future: status: pending, key: slowadd-6441aa0bfd8db7c9057b97af3e5ef08c>,\n",
       " <Future: status: pending, key: slowadd-eea234a6ab042ed30cdd230c4675c5df>,\n",
       " <Future: status: pending, key: slowadd-bd0765c93402db71078c92c2f483f219>,\n",
       " <Future: status: pending, key: slowadd-a5bdf93ac6068f178c05271d08d0a385>,\n",
       " <Future: status: pending, key: slowadd-eab32f4d4a659be7a1e03ca8028e9c69>,\n",
       " <Future: status: pending, key: slowadd-7507102db3f2be28e636a08f743b3b12>]"
      ]
     },
     "execution_count": 7,
     "metadata": {},
     "output_type": "execute_result"
    }
   ],
   "source": [
    "xs = [e.submit(slowinc, i) for i in range(16)]\n",
    "ys = [e.submit(slowdouble, x) for x in xs]\n",
    "zs = [e.submit(slowadd, x, y) for x, y in zip(xs, ys)]\n",
    "zs"
   ]
  },
  {
   "cell_type": "code",
   "execution_count": 8,
   "metadata": {
    "collapsed": false
   },
   "outputs": [
    {
     "data": {
      "text/plain": [
       "[<Future: status: finished, type: int, key: slowadd-3fc22ac2fded07b05486cbfee1e5ecd6>,\n",
       " <Future: status: finished, type: int, key: slowadd-87c458dfdfd4063148842840c42dfb7b>,\n",
       " <Future: status: finished, type: int, key: slowadd-08a01c67216caec44342f0508a8e3b20>,\n",
       " <Future: status: finished, type: int, key: slowadd-23a96221d2244a804e2da893412635df>,\n",
       " <Future: status: finished, type: int, key: slowadd-0fc30a053ba9e7ae2bec6e78f66417dc>,\n",
       " <Future: status: finished, type: int, key: slowadd-b90c8faa07899ef3f3a842f238ae7da3>,\n",
       " <Future: status: finished, type: int, key: slowadd-311fcf77b4fb1c8f1bcc70d3d0bbc541>,\n",
       " <Future: status: finished, type: int, key: slowadd-a4deb15159cd062091e807d39188cc49>,\n",
       " <Future: status: finished, type: int, key: slowadd-0c6c771986cfadb0508cda49412ec08d>,\n",
       " <Future: status: finished, type: int, key: slowadd-cf11b3538b16315fb1268c2168bc5a5f>,\n",
       " <Future: status: finished, type: int, key: slowadd-6441aa0bfd8db7c9057b97af3e5ef08c>,\n",
       " <Future: status: finished, type: int, key: slowadd-eea234a6ab042ed30cdd230c4675c5df>,\n",
       " <Future: status: finished, type: int, key: slowadd-bd0765c93402db71078c92c2f483f219>,\n",
       " <Future: status: finished, type: int, key: slowadd-a5bdf93ac6068f178c05271d08d0a385>,\n",
       " <Future: status: finished, type: int, key: slowadd-eab32f4d4a659be7a1e03ca8028e9c69>,\n",
       " <Future: status: finished, type: int, key: slowadd-7507102db3f2be28e636a08f743b3b12>]"
      ]
     },
     "execution_count": 8,
     "metadata": {},
     "output_type": "execute_result"
    }
   ],
   "source": [
    "zs"
   ]
  },
  {
   "cell_type": "code",
   "execution_count": 9,
   "metadata": {
    "collapsed": false
   },
   "outputs": [
    {
     "data": {
      "text/plain": [
       "[3, 6, 9, 12, 15, 18, 21, 24, 27, 30, 33, 36, 39, 42, 45, 48]"
      ]
     },
     "execution_count": 9,
     "metadata": {},
     "output_type": "execute_result"
    }
   ],
   "source": [
    "e.gather(zs)"
   ]
  },
  {
   "cell_type": "markdown",
   "metadata": {},
   "source": [
    "### Measure latency"
   ]
  },
  {
   "cell_type": "code",
   "execution_count": 10,
   "metadata": {
    "collapsed": false
   },
   "outputs": [
    {
     "name": "stdout",
     "output_type": "stream",
     "text": [
      "408\n",
      "CPU times: user 8 ms, sys: 0 ns, total: 8 ms\n",
      "Wall time: 20.1 ms\n"
     ]
    }
   ],
   "source": [
    "%%time\n",
    "future = e.submit(sum, zs)\n",
    "print(future.result())"
   ]
  },
  {
   "cell_type": "markdown",
   "metadata": {},
   "source": [
    "### Custom computation\n",
    "\n",
    "```\n",
    "finish           total             single output\n",
    "    ^          /        \\\n",
    "    |        z1          z2        neighbors merge\n",
    "    |       /  \\        /  \\\n",
    "    |     y1    y2    y3    y4     neighbors merge\n",
    "    ^    / \\   / \\   / \\   / \\\n",
    "start   x1 x2 x3 x4 x5 x6 x7 x8    many inputs\n",
    "```"
   ]
  },
  {
   "cell_type": "code",
   "execution_count": 11,
   "metadata": {
    "collapsed": false
   },
   "outputs": [],
   "source": [
    "L = zs\n",
    "while len(L) > 1:\n",
    "    new_L = []\n",
    "    for i in range(0, len(L), 2):\n",
    "        future = e.submit(slowadd, L[i], L[i + 1])  # add neighbors\n",
    "        new_L.append(future)\n",
    "    L = new_L                                       # swap old list for new"
   ]
  },
  {
   "cell_type": "code",
   "execution_count": 12,
   "metadata": {
    "collapsed": false
   },
   "outputs": [
    {
     "data": {
      "text/plain": [
       "[<Future: status: pending, key: slowadd-89dce7c80b084c9abcddbb8a6b14ce6a>]"
      ]
     },
     "execution_count": 12,
     "metadata": {},
     "output_type": "execute_result"
    }
   ],
   "source": [
    "L"
   ]
  },
  {
   "cell_type": "code",
   "execution_count": 13,
   "metadata": {
    "collapsed": false
   },
   "outputs": [
    {
     "data": {
      "text/plain": [
       "[408]"
      ]
     },
     "execution_count": 13,
     "metadata": {},
     "output_type": "execute_result"
    }
   ],
   "source": [
    "e.gather(L)"
   ]
  }
 ],
 "metadata": {
  "kernelspec": {
   "display_name": "Python 3",
   "language": "python",
   "name": "python3"
  },
  "language_info": {
   "codemirror_mode": {
    "name": "ipython",
    "version": 3
   },
   "file_extension": ".py",
   "mimetype": "text/x-python",
   "name": "python",
   "nbconvert_exporter": "python",
   "pygments_lexer": "ipython3",
   "version": "3.4.4"
  }
 },
 "nbformat": 4,
 "nbformat_minor": 0
}

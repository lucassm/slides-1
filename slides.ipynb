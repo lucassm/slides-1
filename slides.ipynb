{
 "metadata": {
  "celltoolbar": "Slideshow",
  "name": "",
  "signature": "sha256:524dd887c8c0919a6cba2bc0719f34c6c0d7e2288486f77a0bb4eaf5a9b6002b"
 },
 "nbformat": 3,
 "nbformat_minor": 0,
 "worksheets": [
  {
   "cells": [
    {
     "cell_type": "markdown",
     "metadata": {
      "slideshow": {
       "slide_type": "skip"
      }
     },
     "source": [
      "# Front Matter\n",
      "\n",
      "These slides accompany the talk TALKNAME at CONFERENCE, YEAR\n",
      "\n",
      "They live in the BRANCHNAME branch of my slides repository http://github.com/mrocklin/slides\n",
      "\n",
      "I convert this notebook to a reveal.js slideshow with the following commands\n",
      "\n",
      "```bash\n",
      "git clone  https://github.com/mrocklin/slides.git\n",
      "cd slides\n",
      "git checkout BRANCHNAME\n",
      "make slides\n",
      "ipython nbconvert --to slides --post serve slides.ipynb\n",
      "```"
     ]
    },
    {
     "cell_type": "markdown",
     "metadata": {
      "slideshow": {
       "slide_type": "slide"
      }
     },
     "source": [
      "# Title"
     ]
    },
    {
     "cell_type": "markdown",
     "metadata": {},
     "source": [
      "By Matthew Rocklin"
     ]
    },
    {
     "cell_type": "markdown",
     "metadata": {
      "slideshow": {
       "slide_type": "slide"
      }
     },
     "source": [
      "## tl;dr\n"
     ]
    }
   ],
   "metadata": {}
  }
 ]
}
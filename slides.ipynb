{
 "metadata": {
  "celltoolbar": "Slideshow",
  "name": "",
  "signature": "sha256:18d5c2673f33aa0a506151af9801e473826bfeec659fded77d0f0cd941395152"
 },
 "nbformat": 3,
 "nbformat_minor": 0,
 "worksheets": [
  {
   "cells": [
    {
     "cell_type": "code",
     "collapsed": false,
     "input": [
      "import numpy as np"
     ],
     "language": "python",
     "metadata": {
      "slideshow": {
       "slide_type": "skip"
      }
     },
     "outputs": [],
     "prompt_number": 1
    },
    {
     "cell_type": "markdown",
     "metadata": {
      "slideshow": {
       "slide_type": "skip"
      }
     },
     "source": [
      "# Front Matter\n",
      "\n",
      "These slides accompany the talk TALKNAME at LOCATION\n",
      "\n",
      "They live in the BRANCHNAME branch of my slides repository http://github.com/mrocklin/slides\n",
      "\n",
      "I convert this notebook to a reveal.js slideshow with the following commands\n",
      "\n",
      "```bash\n",
      "git clone  https://github.com/mrocklin/slides.git\n",
      "cd slides\n",
      "git checkout BRANCHNAME\n",
      "ipython nbconvert --to slides --post serve slides.ipynb\n",
      "```"
     ]
    },
    {
     "cell_type": "markdown",
     "metadata": {
      "slideshow": {
       "slide_type": "slide"
      }
     },
     "source": [
      "# Taking Control\n",
      "\n",
      "by Matthew Rocklin"
     ]
    },
    {
     "cell_type": "markdown",
     "metadata": {
      "slideshow": {
       "slide_type": "slide"
      }
     },
     "source": [
      "### What is control flow?\n",
      "\n",
      "Code is either\n",
      "\n",
      "*   A variable or value literal\n",
      "\n",
      "    `x`, `total`, or `5`\n",
      "\n",
      "*   A function or computation\n",
      "\n",
      "    `+`, `fib`, `str.split`\n",
      "        \n",
      "*   Control flow\n",
      "\n",
      "    `if`, `while`, `for`, `def`, or class method dispatch\n",
      "\n",
      "Control flow determines which blocks of code execute"
     ]
    },
    {
     "cell_type": "markdown",
     "metadata": {
      "slideshow": {
       "slide_type": "fragment"
      }
     },
     "source": [
      "High-level control flow is hard for non-expert computer scientists\n",
      "\n",
      "High-level control flow is essential for solid consistent software\n",
      "\n",
      "*Control flow mechanisms enable non-computer scientists to more effectively integrate into larger projects*"
     ]
    },
    {
     "cell_type": "markdown",
     "metadata": {
      "slideshow": {
       "slide_type": "slide"
      }
     },
     "source": [
      "## Outline\n",
      "\n",
      "*   SymPy/open source as educational institution\n",
      "    \n",
      "    *   Supporting/leveraging diverse developer communities is hard\n",
      "    \n",
      "    *   Programmer demographics are changing\n",
      "    \n",
      "*   Dedicated systems for control allow expert programmers to enable non-expert programmers\n",
      "\n",
      "    *   Multiple dispatch\n",
      "    \n",
      "    *   Strategies\n",
      "    \n",
      "    *   Unification"
     ]
    },
    {
     "cell_type": "markdown",
     "metadata": {
      "slideshow": {
       "slide_type": "slide"
      }
     },
     "source": [
      "## What is SymPy?"
     ]
    },
    {
     "cell_type": "markdown",
     "metadata": {
      "slideshow": {
       "slide_type": "slide"
      }
     },
     "source": [
      "## What is SymPy?"
     ]
    },
    {
     "cell_type": "code",
     "collapsed": false,
     "input": [
      "from sympy import *\n",
      "init_printing(use_latex='mathjax')\n",
      "x, r = symbols('x,r')"
     ],
     "language": "python",
     "metadata": {
      "slideshow": {
       "slide_type": "skip"
      }
     },
     "outputs": [],
     "prompt_number": 2
    },
    {
     "cell_type": "code",
     "collapsed": false,
     "input": [
      "sin(1 / x) "
     ],
     "language": "python",
     "metadata": {
      "slideshow": {
       "slide_type": "-"
      }
     },
     "outputs": [
      {
       "latex": [
        "$$\\sin{\\left (\\frac{1}{x} \\right )}$$"
       ],
       "metadata": {},
       "output_type": "pyout",
       "prompt_number": 3,
       "text": [
        "   \u239b1\u239e\n",
        "sin\u239c\u2500\u239f\n",
        "   \u239dx\u23a0"
       ]
      }
     ],
     "prompt_number": 3
    },
    {
     "cell_type": "code",
     "collapsed": false,
     "input": [
      "from sympy.physics.hydrogen import R_nl\n",
      "\n",
      "R_nl(3, 1, x, 6)"
     ],
     "language": "python",
     "metadata": {
      "slideshow": {
       "slide_type": "fragment"
      }
     },
     "outputs": [
      {
       "latex": [
        "$$\\frac{8 x}{3} \\left(- 4 x + 4\\right) e^{- 2 x}$$"
       ],
       "metadata": {},
       "output_type": "pyout",
       "prompt_number": 4,
       "text": [
        "                -2\u22c5x\n",
        "8\u22c5x\u22c5(-4\u22c5x + 4)\u22c5\u212f    \n",
        "\u2500\u2500\u2500\u2500\u2500\u2500\u2500\u2500\u2500\u2500\u2500\u2500\u2500\u2500\u2500\u2500\u2500\u2500\u2500\u2500\n",
        "         3          "
       ]
      }
     ],
     "prompt_number": 4
    },
    {
     "cell_type": "code",
     "collapsed": false,
     "input": [
      "R_nl(3, 1, x, 6).diff(x)"
     ],
     "language": "python",
     "metadata": {
      "slideshow": {
       "slide_type": "fragment"
      }
     },
     "outputs": [
      {
       "latex": [
        "$$- \\frac{16 x}{3} \\left(- 4 x + 4\\right) e^{- 2 x} - \\frac{32 x}{3} e^{- 2 x} + \\frac{8}{3} \\left(- 4 x + 4\\right) e^{- 2 x}$$"
       ],
       "metadata": {},
       "output_type": "pyout",
       "prompt_number": 5,
       "text": [
        "                   -2\u22c5x         -2\u22c5x                 -2\u22c5x\n",
        "  16\u22c5x\u22c5(-4\u22c5x + 4)\u22c5\u212f       32\u22c5x\u22c5\u212f       8\u22c5(-4\u22c5x + 4)\u22c5\u212f    \n",
        "- \u2500\u2500\u2500\u2500\u2500\u2500\u2500\u2500\u2500\u2500\u2500\u2500\u2500\u2500\u2500\u2500\u2500\u2500\u2500\u2500\u2500 - \u2500\u2500\u2500\u2500\u2500\u2500\u2500\u2500\u2500\u2500 + \u2500\u2500\u2500\u2500\u2500\u2500\u2500\u2500\u2500\u2500\u2500\u2500\u2500\u2500\u2500\u2500\u2500\u2500\n",
        "            3                 3                3         "
       ]
      }
     ],
     "prompt_number": 5
    },
    {
     "cell_type": "code",
     "collapsed": false,
     "input": [
      "simplify(R_nl(3, 1, x, 6).diff(x))"
     ],
     "language": "python",
     "metadata": {
      "slideshow": {
       "slide_type": "fragment"
      }
     },
     "outputs": [
      {
       "latex": [
        "$$\\frac{1}{3} \\left(64 x^{2} - 128 x + 32\\right) e^{- 2 x}$$"
       ],
       "metadata": {},
       "output_type": "pyout",
       "prompt_number": 6,
       "text": [
        "\u239b    2             \u239e  -2\u22c5x\n",
        "\u239d64\u22c5x  - 128\u22c5x + 32\u23a0\u22c5\u212f    \n",
        "\u2500\u2500\u2500\u2500\u2500\u2500\u2500\u2500\u2500\u2500\u2500\u2500\u2500\u2500\u2500\u2500\u2500\u2500\u2500\u2500\u2500\u2500\u2500\u2500\u2500\u2500\n",
        "            3             "
       ]
      }
     ],
     "prompt_number": 6
    },
    {
     "cell_type": "code",
     "collapsed": false,
     "input": [
      "from IPython.display import Image\n",
      "import os"
     ],
     "language": "python",
     "metadata": {
      "slideshow": {
       "slide_type": "skip"
      }
     },
     "outputs": [],
     "prompt_number": 7
    },
    {
     "cell_type": "code",
     "collapsed": false,
     "input": [
      "R_nl(3, 1, x, 6).diff(x)"
     ],
     "language": "python",
     "metadata": {
      "slideshow": {
       "slide_type": "slide"
      }
     },
     "outputs": [
      {
       "latex": [
        "$$- \\frac{16 x}{3} \\left(- 4 x + 4\\right) e^{- 2 x} - \\frac{32 x}{3} e^{- 2 x} + \\frac{8}{3} \\left(- 4 x + 4\\right) e^{- 2 x}$$"
       ],
       "metadata": {},
       "output_type": "pyout",
       "prompt_number": 8,
       "text": [
        "                   -2\u22c5x         -2\u22c5x                 -2\u22c5x\n",
        "  16\u22c5x\u22c5(-4\u22c5x + 4)\u22c5\u212f       32\u22c5x\u22c5\u212f       8\u22c5(-4\u22c5x + 4)\u22c5\u212f    \n",
        "- \u2500\u2500\u2500\u2500\u2500\u2500\u2500\u2500\u2500\u2500\u2500\u2500\u2500\u2500\u2500\u2500\u2500\u2500\u2500\u2500\u2500 - \u2500\u2500\u2500\u2500\u2500\u2500\u2500\u2500\u2500\u2500 + \u2500\u2500\u2500\u2500\u2500\u2500\u2500\u2500\u2500\u2500\u2500\u2500\u2500\u2500\u2500\u2500\u2500\u2500\n",
        "            3                 3                3         "
       ]
      }
     ],
     "prompt_number": 8
    },
    {
     "cell_type": "code",
     "collapsed": false,
     "input": [
      "from sympy.printing.dot import dotprint\n",
      "with open('rnl.dot', 'w') as f:\n",
      "    f.write(dotprint(R_nl(3, 1, x, 6).diff(x), repeat=False))"
     ],
     "language": "python",
     "metadata": {
      "slideshow": {
       "slide_type": "skip"
      }
     },
     "outputs": [],
     "prompt_number": 9
    },
    {
     "cell_type": "code",
     "collapsed": false,
     "input": [
      "!dot -Tpng rnl.dot -o rnl.png"
     ],
     "language": "python",
     "metadata": {
      "slideshow": {
       "slide_type": "skip"
      }
     },
     "outputs": [],
     "prompt_number": 10
    },
    {
     "cell_type": "code",
     "collapsed": false,
     "input": [
      "Image('rnl.png')"
     ],
     "language": "python",
     "metadata": {},
     "outputs": [
      {
       "metadata": {},
       "output_type": "pyout",
       "png": "[encoded data removed]",
       "prompt_number": 11,
       "text": [
        "<IPython.core.display.Image at 0x7f2dab4ede90>"
       ]
      }
     ],
     "prompt_number": 11
    },
    {
     "cell_type": "code",
     "collapsed": false,
     "input": [
      "simplify(R_nl(3, 1, x, 6).diff(x))"
     ],
     "language": "python",
     "metadata": {
      "slideshow": {
       "slide_type": "slide"
      }
     },
     "outputs": [
      {
       "latex": [
        "$$\\frac{1}{3} \\left(64 x^{2} - 128 x + 32\\right) e^{- 2 x}$$"
       ],
       "metadata": {},
       "output_type": "pyout",
       "prompt_number": 12,
       "text": [
        "\u239b    2             \u239e  -2\u22c5x\n",
        "\u239d64\u22c5x  - 128\u22c5x + 32\u23a0\u22c5\u212f    \n",
        "\u2500\u2500\u2500\u2500\u2500\u2500\u2500\u2500\u2500\u2500\u2500\u2500\u2500\u2500\u2500\u2500\u2500\u2500\u2500\u2500\u2500\u2500\u2500\u2500\u2500\u2500\n",
        "            3             "
       ]
      }
     ],
     "prompt_number": 12
    },
    {
     "cell_type": "code",
     "collapsed": false,
     "input": [
      "from sympy.printing.dot import dotprint\n",
      "with open('rnl.dot', 'w') as f:\n",
      "    f.write(dotprint(simplify(R_nl(3, 1, x, 6).diff(x)), repeat=False))"
     ],
     "language": "python",
     "metadata": {
      "slideshow": {
       "slide_type": "skip"
      }
     },
     "outputs": [],
     "prompt_number": 13
    },
    {
     "cell_type": "code",
     "collapsed": false,
     "input": [
      "!dot -Tpng rnl.dot -o rnl.png"
     ],
     "language": "python",
     "metadata": {
      "slideshow": {
       "slide_type": "skip"
      }
     },
     "outputs": [],
     "prompt_number": 14
    },
    {
     "cell_type": "code",
     "collapsed": false,
     "input": [
      "Image('rnl.png')"
     ],
     "language": "python",
     "metadata": {},
     "outputs": [
      {
       "metadata": {},
       "output_type": "pyout",
       "png": "[encoded data removed]",
       "prompt_number": 15,
       "text": [
        "<IPython.core.display.Image at 0x7f2da9d6ffd0>"
       ]
      }
     ],
     "prompt_number": 15
    },
    {
     "cell_type": "markdown",
     "metadata": {
      "slideshow": {
       "slide_type": "slide"
      }
     },
     "source": [
      "### So who contributes?"
     ]
    },
    {
     "cell_type": "markdown",
     "metadata": {
      "slideshow": {
       "slide_type": "fragment"
      }
     },
     "source": [
      "*I'd like to contribute some work on Quantum Field Theory but I only started programming a few weeks ago.*\n",
      "\n",
      "*Can I help?*\n",
      "\n",
      "-GSoC Applicant (who was actually very good)"
     ]
    },
    {
     "cell_type": "markdown",
     "metadata": {
      "slideshow": {
       "slide_type": "slide"
      }
     },
     "source": [
      "## SymPy has a broad community, mostly of students\n",
      "\n",
      "Many were funded through Google Summer of Code\n",
      "\n",
      "```\n",
      "  3067  Chris Smith\n",
      "  2066  Aaron Meurer          GSoC NMT (undergrad), NMSU (grad)\n",
      "  1448  Mateusz Paprocki      GSoC\n",
      "  1329  Ond\u0159ej \u010cert\u00edk         UNevada\n",
      "  1042  Matthew Rocklin       GSoC UChicago\n",
      "   677  Julien Rioux          \n",
      "   663  Sergey B Kirpichev    \n",
      "   519  Raoul Bourquin\n",
      "   464  Ronan Lamy\n",
      "   374  Kirill Smelkov\n",
      "   351  \u00d8yvind Jensen          GSoC\n",
      "   313  Tom Bachmann           GSoC Oxford\n",
      "   266  Mario Pernici         \n",
      "   260  Sergiu Ivanov          GSoC\n",
      "   190  Saptarshi Mandal       GSoC\n",
      "   173  Stefan Krastanov       GSoC Yale\n",
      "   166  David Li               GCI High School\n",
      "   166  Sean Vig               GSoC UIUC\n",
      "   163  Thilina Rathnayake     GSoC\n",
      "   158  Brian E. Granger       (Faculty) Cal Poly San Luis Obispo\n",
      "   158  Rick Muller\n",
      "   138  Vinzent Steinberg      GSoC\n",
      "   134  Gilbert Gede           UC Davis grad student\n",
      "```"
     ]
    },
    {
     "cell_type": "markdown",
     "metadata": {
      "slideshow": {
       "slide_type": "slide"
      }
     },
     "source": [
      "## Google Summer of Code\n",
      "\n",
      "*   Funds 5-10 SymPy students per year with $5000 for ten weeks in the Summer\n",
      "*   Students from all over\n",
      "    *   Undergraduates to graduates, (high school through GCI)\n",
      "    *   All latitudes and longitudes\n",
      "    *   From the science, math, and computer science backgrounds\n",
      "*   Students have a good time, learn git, github, programming, documentation, community interaction"
     ]
    },
    {
     "cell_type": "markdown",
     "metadata": {
      "slideshow": {
       "slide_type": "fragment"
      }
     },
     "source": [
      "*   They do real work\n",
      "*   We keep about one a year"
     ]
    },
    {
     "cell_type": "markdown",
     "metadata": {
      "slideshow": {
       "slide_type": "fragment"
      }
     },
     "source": [
      "*   10th Anniversary this year\n",
      "*   Lots of other projects have been helped by GSoC"
     ]
    },
    {
     "cell_type": "code",
     "collapsed": false,
     "input": [
      "%matplotlib inline"
     ],
     "language": "python",
     "metadata": {
      "slideshow": {
       "slide_type": "skip"
      }
     },
     "outputs": [],
     "prompt_number": 16
    },
    {
     "cell_type": "code",
     "collapsed": false,
     "input": [
      "from matplotlib import pyplot as plt\n",
      "plt.rcParams['font.size'] = 14"
     ],
     "language": "python",
     "metadata": {
      "slideshow": {
       "slide_type": "skip"
      }
     },
     "outputs": [],
     "prompt_number": 17
    },
    {
     "cell_type": "code",
     "collapsed": false,
     "input": [
      "from matplotlib.pyplot import plot, figure, semilogy, legend, xlabel, ylabel, grid, xlim, ylim, ion, ioff, show, title\n",
      "from numpy import array\n",
      "ioff()\n",
      "projects = [\"sympy\", \"ipython\", \"numpy\", \"matplotlib\", \"django\", \"pandas\"]\n",
      "def get_data(filename):\n",
      "    data = array([int(l.split()[0]) for l in open(filename).readlines()])\n",
      "    return data\n",
      "fig = figure(figsize=(10, 7))\n",
      "for project in projects:\n",
      "    data = get_data(\"data/%s-year.txt\" % project)\n",
      "    semilogy(data, lw=2, label=\"%s\" % project)\n",
      "legend()\n",
      "grid()\n",
      "title(\"Commits per author - Last year\")\n",
      "xlabel(\"individual people\")\n",
      "ylabel(\"total number of patches\")\n",
      "xlim([0, 130])\n",
      "ylim([1, 1000])"
     ],
     "language": "python",
     "metadata": {
      "slideshow": {
       "slide_type": "skip"
      }
     },
     "outputs": [
      {
       "latex": [
        "$$\\begin{pmatrix}1, & 1000\\end{pmatrix}$$"
       ],
       "metadata": {},
       "output_type": "pyout",
       "prompt_number": 18,
       "text": [
        "(1, 1000)"
       ]
      }
     ],
     "prompt_number": 18
    },
    {
     "cell_type": "markdown",
     "metadata": {
      "slideshow": {
       "slide_type": "slide"
      }
     },
     "source": [
      "### Commit History"
     ]
    },
    {
     "cell_type": "code",
     "collapsed": false,
     "input": [
      "fig"
     ],
     "language": "python",
     "metadata": {},
     "outputs": [
      {
       "metadata": {},
       "output_type": "pyout",
       "png": "[encoded data removed]",
       "prompt_number": 19,
       "text": [
        "<matplotlib.figure.Figure at 0x7f2da742b790>"
       ]
      }
     ],
     "prompt_number": 19
    },
    {
     "cell_type": "code",
     "collapsed": false,
     "input": [
      "fig = figure(figsize=(10, 7))\n",
      "for project in projects:\n",
      "    data = get_data(\"data/%s-all.txt\" % project)\n",
      "    semilogy(data, lw=2, label=\"%s\" % project)\n",
      "legend()\n",
      "grid()\n",
      "title(\"Commits per author - All time\")\n",
      "xlabel(\"individual people\")\n",
      "ylabel(\"total number of patches\")\n",
      "xlim([0, 300])\n",
      "ylim([1, 2000])"
     ],
     "language": "python",
     "metadata": {
      "slideshow": {
       "slide_type": "skip"
      }
     },
     "outputs": [
      {
       "latex": [
        "$$\\begin{pmatrix}1, & 2000\\end{pmatrix}$$"
       ],
       "metadata": {},
       "output_type": "pyout",
       "prompt_number": 20,
       "text": [
        "(1, 2000)"
       ]
      }
     ],
     "prompt_number": 20
    },
    {
     "cell_type": "markdown",
     "metadata": {
      "slideshow": {
       "slide_type": "slide"
      }
     },
     "source": [
      "### Commit History"
     ]
    },
    {
     "cell_type": "code",
     "collapsed": false,
     "input": [
      "fig"
     ],
     "language": "python",
     "metadata": {},
     "outputs": [
      {
       "metadata": {},
       "output_type": "pyout",
       "png": "[encoded data removed]",
       "prompt_number": 21,
       "text": [
        "<matplotlib.figure.Figure at 0x7f2da53bcb10>"
       ]
      }
     ],
     "prompt_number": 21
    },
    {
     "cell_type": "markdown",
     "metadata": {
      "slideshow": {
       "slide_type": "slide"
      }
     },
     "source": [
      "# Enabling Diverse Developers\n",
      "\n",
      "Control mechanisms increase access, extensibility"
     ]
    },
    {
     "cell_type": "markdown",
     "metadata": {
      "slideshow": {
       "slide_type": "slide"
      }
     },
     "source": [
      "# `<wacky programming>`\n",
      "\n",
      "Helping developers to write small functions"
     ]
    },
    {
     "cell_type": "markdown",
     "metadata": {
      "slideshow": {
       "slide_type": "slide"
      }
     },
     "source": [
      "## Multiple Dispatch"
     ]
    },
    {
     "cell_type": "markdown",
     "metadata": {
      "slideshow": {
       "slide_type": "slide"
      }
     },
     "source": [
      "### Polymorphism\n",
      "\n",
      "Functions act differently on different types"
     ]
    },
    {
     "cell_type": "code",
     "collapsed": false,
     "input": [
      "str(1.0)"
     ],
     "language": "python",
     "metadata": {},
     "outputs": [
      {
       "metadata": {},
       "output_type": "pyout",
       "prompt_number": 22,
       "text": [
        "'1.0'"
       ]
      }
     ],
     "prompt_number": 22
    },
    {
     "cell_type": "code",
     "collapsed": false,
     "input": [
      "str(np.arange(100000))"
     ],
     "language": "python",
     "metadata": {},
     "outputs": [
      {
       "metadata": {},
       "output_type": "pyout",
       "prompt_number": 23,
       "text": [
        "'[    0     1     2 ..., 99997 99998 99999]'"
       ]
      }
     ],
     "prompt_number": 23
    },
    {
     "cell_type": "markdown",
     "metadata": {
      "slideshow": {
       "slide_type": "slide"
      }
     },
     "source": [
      "### Polymorphism\n",
      "\n",
      "Object oriented languages support polymorphism through methods\n",
      "\n",
      "Dispatch on the first input, `self`"
     ]
    },
    {
     "cell_type": "code",
     "collapsed": false,
     "input": [
      "class ndarray(object):\n",
      "    ...\n",
      "    def __str__(self):\n",
      "        ...\n"
     ],
     "language": "python",
     "metadata": {},
     "outputs": []
    },
    {
     "cell_type": "code",
     "collapsed": false,
     "input": [
      "class Foo(object):\n",
      "    ...\n",
      "    def __str__(self):\n",
      "        ...\n",
      "        "
     ],
     "language": "python",
     "metadata": {},
     "outputs": []
    },
    {
     "cell_type": "markdown",
     "metadata": {
      "slideshow": {
       "slide_type": "slide"
      }
     },
     "source": [
      "### Polymorphism on multiple inputs\n",
      "\n",
      "But dispatching on multi-input functions is a pain"
     ]
    },
    {
     "cell_type": "code",
     "collapsed": false,
     "input": [
      "class Foo(object):\n",
      "    def __add__(self, other):\n",
      "        if isinstance(other, Bar):\n",
      "            return ...\n",
      "        elif isinstance(other, Baz):\n",
      "            return ...\n",
      "        else:\n",
      "            raise NotImplementedError"
     ],
     "language": "python",
     "metadata": {},
     "outputs": []
    },
    {
     "cell_type": "code",
     "collapsed": false,
     "input": [
      "from sympy import Mul, source"
     ],
     "language": "python",
     "metadata": {
      "slideshow": {
       "slide_type": "skip"
      }
     },
     "outputs": [],
     "prompt_number": 24
    },
    {
     "cell_type": "code",
     "collapsed": false,
     "input": [
      "source(Add.flatten)"
     ],
     "language": "python",
     "metadata": {
      "slideshow": {
       "slide_type": "slide"
      }
     },
     "outputs": [
      {
       "output_type": "stream",
       "stream": "stdout",
       "text": [
        "In file: /home/mrocklin/workspace/sympy/sympy/core/add.py\n",
        "    @classmethod\n",
        "    def flatten(cls, seq):\n",
        "        \"\"\"\n",
        "        Takes the sequence \"seq\" of nested Adds and returns a flatten list.\n",
        "\n",
        "        Returns: (commutative_part, noncommutative_part, order_symbols)\n",
        "\n",
        "        Applies associativity, all terms are commutable with respect to\n",
        "        addition.\n",
        "\n",
        "        NB: the removal of 0 is already handled by AssocOp.__new__\n",
        "\n",
        "        See also\n",
        "        ========\n",
        "\n",
        "        sympy.core.mul.Mul.flatten\n",
        "\n",
        "        \"\"\"\n",
        "        rv = None\n",
        "        if len(seq) == 2:\n",
        "            a, b = seq\n",
        "            if b.is_Rational:\n",
        "                a, b = b, a\n",
        "            if a.is_Rational:\n",
        "                if b.is_Mul:\n",
        "                    rv = [a, b], [], None\n",
        "            if rv:\n",
        "                if all(s.is_commutative for s in rv[0]):\n",
        "                    return rv\n",
        "                return [], rv[0], None\n",
        "\n",
        "        terms = {}      # term -> coeff\n",
        "                        # e.g. x**2 -> 5   for ... + 5*x**2 + ...\n",
        "\n",
        "        coeff = S.Zero  # coefficient (Number or zoo) to always be in slot 0\n",
        "                        # e.g. 3 + ...\n",
        "        order_factors = []\n",
        "\n",
        "        for o in seq:\n",
        "\n",
        "            # O(x)\n",
        "            if o.is_Order:\n",
        "                for o1 in order_factors:\n",
        "                    if o1.contains(o):\n",
        "                        o = None\n",
        "                        break\n",
        "                if o is None:\n",
        "                    continue\n",
        "                order_factors = [o] + [\n",
        "                    o1 for o1 in order_factors if not o.contains(o1)]\n",
        "                continue\n",
        "\n",
        "            # 3 or NaN\n",
        "            elif o.is_Number:\n",
        "                if (o is S.NaN or coeff is S.ComplexInfinity and\n",
        "                        o.is_bounded is False):\n",
        "                    # we know for sure the result will be nan\n",
        "                    return [S.NaN], [], None\n",
        "                if coeff.is_Number:\n",
        "                    coeff += o\n",
        "                    if coeff is S.NaN:\n",
        "                        # we know for sure the result will be nan\n",
        "                        return [S.NaN], [], None\n",
        "                continue\n",
        "\n",
        "            elif o is S.ComplexInfinity:\n",
        "                if coeff.is_bounded is False:\n",
        "                    # we know for sure the result will be nan\n",
        "                    return [S.NaN], [], None\n",
        "                coeff = S.ComplexInfinity\n",
        "                continue\n",
        "\n",
        "            # Add([...])\n",
        "            elif o.is_Add:\n",
        "                # NB: here we assume Add is always commutative\n",
        "                seq.extend(o.args)  # TODO zerocopy?\n",
        "                continue\n",
        "\n",
        "            # Mul([...])\n",
        "            elif o.is_Mul:\n",
        "                c, s = o.as_coeff_Mul()\n",
        "\n",
        "            # check for unevaluated Pow, e.g. 2**3 or 2**(-1/2)\n",
        "            elif o.is_Pow:\n",
        "                b, e = o.as_base_exp()\n",
        "                if b.is_Number and (e.is_Integer or\n",
        "                                   (e.is_Rational and e.is_negative)):\n",
        "                    seq.append(b**e)\n",
        "                    continue\n",
        "                c, s = S.One, o\n",
        "\n",
        "            else:\n",
        "                # everything else\n",
        "                c = S.One\n",
        "                s = o\n",
        "\n",
        "            # now we have:\n",
        "            # o = c*s, where\n",
        "            #\n",
        "            # c is a Number\n",
        "            # s is an expression with number factor extracted\n",
        "            # let's collect terms with the same s, so e.g.\n",
        "            # 2*x**2 + 3*x**2  ->  5*x**2\n",
        "            if s in terms:\n",
        "                terms[s] += c\n",
        "                if terms[s] is S.NaN:\n",
        "                    # we know for sure the result will be nan\n",
        "                    return [S.NaN], [], None\n",
        "            else:\n",
        "                terms[s] = c\n",
        "\n",
        "        # now let's construct new args:\n",
        "        # [2*x**2, x**3, 7*x**4, pi, ...]\n",
        "        newseq = []\n",
        "        noncommutative = False\n",
        "        for s, c in terms.items():\n",
        "            # 0*s\n",
        "            if c is S.Zero:\n",
        "                continue\n",
        "            # 1*s\n",
        "            elif c is S.One:\n",
        "                newseq.append(s)\n",
        "            # c*s\n",
        "            else:\n",
        "                if s.is_Mul:\n",
        "                    # Mul, already keeps its arguments in perfect order.\n",
        "                    # so we can simply put c in slot0 and go the fast way.\n",
        "                    cs = s._new_rawargs(*((c,) + s.args))\n",
        "                    newseq.append(cs)\n",
        "                elif s.is_Add:\n",
        "                    # we just re-create the unevaluated Mul\n",
        "                    newseq.append(Mul(c, s, evaluate=False))\n",
        "                else:\n",
        "                    # alternatively we have to call all Mul's machinery (slow)\n",
        "                    newseq.append(Mul(c, s))\n",
        "\n",
        "            noncommutative = noncommutative or not s.is_commutative\n",
        "\n",
        "        # oo, -oo\n",
        "        if coeff is S.Infinity:\n",
        "            newseq = [f for f in newseq if not\n",
        "                      (f.is_nonnegative or f.is_real and\n",
        "                       (f.is_bounded or f.is_infinitesimal))]\n",
        "\n",
        "        elif coeff is S.NegativeInfinity:\n",
        "            newseq = [f for f in newseq if not\n",
        "                      (f.is_nonpositive or f.is_real and\n",
        "                       (f.is_bounded or f.is_infinitesimal))]\n",
        "\n",
        "        if coeff is S.ComplexInfinity:\n",
        "            # zoo might be\n",
        "            #   unbounded_real + bounded_im\n",
        "            #   bounded_real + unbounded_im\n",
        "            #   unbounded_real + unbounded_im\n",
        "            # addition of a bounded real or imaginary number won't be able to\n",
        "            # change the zoo nature; if unbounded a NaN condition could result\n",
        "            # if the unbounded symbol had sign opposite of the unbounded\n",
        "            # portion of zoo, e.g., unbounded_real - unbounded_real.\n",
        "            newseq = [c for c in newseq if not (c.is_bounded and\n",
        "                                                c.is_real is not None)]\n",
        "\n",
        "        # process O(x)\n",
        "        if order_factors:\n",
        "            newseq2 = []\n",
        "            for t in newseq:\n",
        "                for o in order_factors:\n",
        "                    # x + O(x) -> O(x)\n",
        "                    if o.contains(t):\n",
        "                        t = None\n",
        "                        break\n",
        "                # x + O(x**2) -> x + O(x**2)\n",
        "                if t is not None:\n",
        "                    newseq2.append(t)\n",
        "            newseq = newseq2 + order_factors\n",
        "            # 1 + O(1) -> O(1)\n",
        "            for o in order_factors:\n",
        "                if o.contains(coeff):\n",
        "                    coeff = S.Zero\n",
        "                    break\n",
        "\n",
        "        # order args canonically\n",
        "        _addsort(newseq)\n",
        "\n",
        "        # current code expects coeff to be first\n",
        "        if coeff is not S.Zero:\n",
        "            newseq.insert(0, coeff)\n",
        "\n",
        "        # we are done\n",
        "        if noncommutative:\n",
        "            return [], newseq, None\n",
        "        else:\n",
        "            return newseq, [], None\n",
        "\n"
       ]
      }
     ],
     "prompt_number": 25
    },
    {
     "cell_type": "markdown",
     "metadata": {
      "slideshow": {
       "slide_type": "slide"
      }
     },
     "source": [
      "## Multiple Dispatch\n",
      "\n",
      "Stolen recently from Julia\n",
      "\n",
      "Also familiar to C++, Java developers"
     ]
    },
    {
     "cell_type": "markdown",
     "metadata": {
      "slideshow": {
       "slide_type": "slide"
      }
     },
     "source": [
      "## Multiple Dispatch"
     ]
    },
    {
     "cell_type": "code",
     "collapsed": false,
     "input": [
      "from multipledispatch import dispatch\n",
      "\n",
      "@dispatch(int, int)\n",
      "def add(a, b):\n",
      "    return a + b\n",
      "\n",
      "@dispatch(object, object)\n",
      "def add(a, b):\n",
      "    return str(a) + str(b)"
     ],
     "language": "python",
     "metadata": {},
     "outputs": [],
     "prompt_number": 26
    },
    {
     "cell_type": "code",
     "collapsed": false,
     "input": [
      "add(1, 2)"
     ],
     "language": "python",
     "metadata": {},
     "outputs": [
      {
       "latex": [
        "$$3$$"
       ],
       "metadata": {},
       "output_type": "pyout",
       "prompt_number": 27,
       "text": [
        "3"
       ]
      }
     ],
     "prompt_number": 27
    },
    {
     "cell_type": "code",
     "collapsed": false,
     "input": [
      "add('Hello', 100)"
     ],
     "language": "python",
     "metadata": {},
     "outputs": [
      {
       "metadata": {},
       "output_type": "pyout",
       "prompt_number": 28,
       "text": [
        "'Hello100'"
       ]
      }
     ],
     "prompt_number": 28
    },
    {
     "cell_type": "markdown",
     "metadata": {
      "slideshow": {
       "slide_type": "slide"
      }
     },
     "source": [
      "### Or in Python 3"
     ]
    },
    {
     "cell_type": "code",
     "collapsed": false,
     "input": [
      "from multipledispatch import dispatch\n",
      "\n",
      "@dispatch\n",
      "def add(a: int, b: int):\n",
      "    return a + b\n",
      "\n",
      "@dispatch\n",
      "def add(a: object, b: object):\n",
      "    return str(a) + str(b)"
     ],
     "language": "python",
     "metadata": {},
     "outputs": []
    },
    {
     "cell_type": "markdown",
     "metadata": {},
     "source": [
      "*work by Jeremiah Lowin*"
     ]
    },
    {
     "cell_type": "code",
     "collapsed": false,
     "input": [
      "from multipledispatch import *\n",
      "from sympy import S, oo, Add\n",
      "from sympy.core.numbers import Zero\n",
      "from sympy.abc import x, y, z, a, b, c\n",
      "Infinity = type(oo)"
     ],
     "language": "python",
     "metadata": {
      "slideshow": {
       "slide_type": "skip"
      }
     },
     "outputs": [],
     "prompt_number": 29
    },
    {
     "cell_type": "code",
     "collapsed": false,
     "input": [
      "@dispatch(Zero, object)\n",
      "def add(a, b):\n",
      "    return b\n",
      "\n",
      "@dispatch(Infinity, object)\n",
      "def add(a, b):\n",
      "    return a\n",
      "\n",
      "@dispatch(int, int)\n",
      "def add(a, b):\n",
      "    return a + b\n",
      "\n",
      "@dispatch(Add, Add)\n",
      "def add(a, b):\n",
      "    return Add(*(a.args + b.args))"
     ],
     "language": "python",
     "metadata": {
      "slideshow": {
       "slide_type": "skip"
      }
     },
     "outputs": [],
     "prompt_number": 30
    },
    {
     "cell_type": "code",
     "collapsed": false,
     "input": [
      "add(oo, 1)"
     ],
     "language": "python",
     "metadata": {
      "slideshow": {
       "slide_type": "skip"
      }
     },
     "outputs": [
      {
       "latex": [
        "$$\\infty$$"
       ],
       "metadata": {},
       "output_type": "pyout",
       "prompt_number": 31,
       "text": [
        "\u221e"
       ]
      }
     ],
     "prompt_number": 31
    },
    {
     "cell_type": "code",
     "collapsed": false,
     "input": [
      "add(0, 1)"
     ],
     "language": "python",
     "metadata": {
      "slideshow": {
       "slide_type": "skip"
      }
     },
     "outputs": [
      {
       "latex": [
        "$$1$$"
       ],
       "metadata": {},
       "output_type": "pyout",
       "prompt_number": 32,
       "text": [
        "1"
       ]
      }
     ],
     "prompt_number": 32
    },
    {
     "cell_type": "code",
     "collapsed": false,
     "input": [
      "add(Add(a, b), Add(x, y))"
     ],
     "language": "python",
     "metadata": {
      "slideshow": {
       "slide_type": "skip"
      }
     },
     "outputs": [
      {
       "latex": [
        "$$a + b + x + y$$"
       ],
       "metadata": {},
       "output_type": "pyout",
       "prompt_number": 33,
       "text": [
        "a + b + x + y"
       ]
      }
     ],
     "prompt_number": 33
    },
    {
     "cell_type": "code",
     "collapsed": false,
     "input": [
      "from pandas import DataFrame\n",
      "from scipy import sparse"
     ],
     "language": "python",
     "metadata": {
      "slideshow": {
       "slide_type": "skip"
      }
     },
     "outputs": [
      {
       "output_type": "stream",
       "stream": "stderr",
       "text": [
        "/home/mrocklin/Software/anaconda/lib/python2.7/site-packages/pandas/io/excel.py:626: UserWarning: Installed openpyxl is not supported at this time. Use >=1.6.1 and <2.0.0.\n",
        "  .format(openpyxl_compat.start_ver, openpyxl_compat.stop_ver))\n"
       ]
      }
     ],
     "prompt_number": 34
    },
    {
     "cell_type": "markdown",
     "metadata": {
      "slideshow": {
       "slide_type": "slide"
      }
     },
     "source": [
      "### `into` - converting between container types"
     ]
    },
    {
     "cell_type": "code",
     "collapsed": false,
     "input": [
      "@dispatch((tuple, list, set), (tuple, list, set))\n",
      "def into(a, b):\n",
      "    return type(a)(b)\n",
      "\n",
      "@dispatch(np.ndarray, (tuple, list, set))\n",
      "def into(a, b):\n",
      "    return np.asarray(b)\n",
      "\n",
      "@dispatch(list, np.ndarray)\n",
      "def into(a, b):\n",
      "    return b.tolist()\n",
      "\n",
      "@dispatch(np.ndarray, DataFrame)\n",
      "def into(x, df):\n",
      "    x = np.empty(len(df), dtype=list(zip(df.columns, df.dtypes)))\n",
      "    for col in df.columns:\n",
      "        x[col] = df[col]\n",
      "    return x\n",
      "\n",
      "@dispatch(sparse.dok_matrix, np.ndarray)\n",
      "def into(a, b):\n",
      "    a = sparse.dok_matrix(b.shape)\n",
      "    xs, ys = np.where(b != 0)\n",
      "    a[xs, ys] = b[b != 0]\n",
      "    return a"
     ],
     "language": "python",
     "metadata": {},
     "outputs": [],
     "prompt_number": 35
    },
    {
     "cell_type": "code",
     "collapsed": false,
     "input": [
      "into((), [1, 2, 3])"
     ],
     "language": "python",
     "metadata": {
      "slideshow": {
       "slide_type": "slide"
      }
     },
     "outputs": [
      {
       "latex": [
        "$$\\begin{pmatrix}1, & 2, & 3\\end{pmatrix}$$"
       ],
       "metadata": {},
       "output_type": "pyout",
       "prompt_number": 36,
       "text": [
        "(1, 2, 3)"
       ]
      }
     ],
     "prompt_number": 36
    },
    {
     "cell_type": "code",
     "collapsed": false,
     "input": [
      "into([], np.array([1, 2, 3]))"
     ],
     "language": "python",
     "metadata": {
      "slideshow": {
       "slide_type": "fragment"
      }
     },
     "outputs": [
      {
       "latex": [
        "$$\\begin{bmatrix}1, & 2, & 3\\end{bmatrix}$$"
       ],
       "metadata": {},
       "output_type": "pyout",
       "prompt_number": 37,
       "text": [
        "[1, 2, 3]"
       ]
      }
     ],
     "prompt_number": 37
    },
    {
     "cell_type": "code",
     "collapsed": false,
     "input": [
      "df = DataFrame([['Alice', 100], \n",
      "                ['Bob', 200]], columns=['name', 'amount'])\n",
      "\n",
      "into(np.array(0), df)"
     ],
     "language": "python",
     "metadata": {
      "slideshow": {
       "slide_type": "fragment"
      }
     },
     "outputs": [
      {
       "metadata": {},
       "output_type": "pyout",
       "prompt_number": 38,
       "text": [
        "array([('Alice', 100), ('Bob', 200)], \n",
        "      dtype=[('name', 'O'), ('amount', '<i8')])"
       ]
      }
     ],
     "prompt_number": 38
    },
    {
     "cell_type": "code",
     "collapsed": false,
     "input": [
      "print into(sparse.dok_matrix((1,1)), np.eye(3))"
     ],
     "language": "python",
     "metadata": {
      "slideshow": {
       "slide_type": "fragment"
      }
     },
     "outputs": [
      {
       "output_type": "stream",
       "stream": "stdout",
       "text": [
        "  (0, 0)\t1.0\n",
        "  (1, 1)\t1.0\n",
        "  (2, 2)\t1.0\n"
       ]
      }
     ],
     "prompt_number": 39
    },
    {
     "cell_type": "markdown",
     "metadata": {
      "slideshow": {
       "slide_type": "slide"
      }
     },
     "source": [
      "## Strategies\n",
      "\n",
      "Higher order functions for common operations"
     ]
    },
    {
     "cell_type": "code",
     "collapsed": false,
     "input": [
      "def fib(i):\n",
      "    if i in (0, 1):\n",
      "        return i\n",
      "    else:\n",
      "        return fib(i - 1) + fib(i - 2)"
     ],
     "language": "python",
     "metadata": {
      "slideshow": {
       "slide_type": "skip"
      }
     },
     "outputs": [],
     "prompt_number": 40
    },
    {
     "cell_type": "markdown",
     "metadata": {
      "slideshow": {
       "slide_type": "slide"
      }
     },
     "source": [
      "### Map"
     ]
    },
    {
     "cell_type": "code",
     "collapsed": false,
     "input": [
      "numbers = [1, 2, 3, 4, 5, 6, 7, 8]\n",
      "result = []\n",
      "for item in numbers:\n",
      "    result.append(fib(item))\n",
      "result"
     ],
     "language": "python",
     "metadata": {
      "slideshow": {
       "slide_type": "-"
      }
     },
     "outputs": [
      {
       "latex": [
        "$$\\begin{bmatrix}1, & 1, & 2, & 3, & 5, & 8, & 13, & 21\\end{bmatrix}$$"
       ],
       "metadata": {},
       "output_type": "pyout",
       "prompt_number": 41,
       "text": [
        "[1, 1, 2, 3, 5, 8, 13, 21]"
       ]
      }
     ],
     "prompt_number": 41
    },
    {
     "cell_type": "code",
     "collapsed": false,
     "input": [
      "map(fib, numbers)"
     ],
     "language": "python",
     "metadata": {
      "slideshow": {
       "slide_type": "fragment"
      }
     },
     "outputs": [
      {
       "latex": [
        "$$\\begin{bmatrix}1, & 1, & 2, & 3, & 5, & 8, & 13, & 21\\end{bmatrix}$$"
       ],
       "metadata": {},
       "output_type": "pyout",
       "prompt_number": 42,
       "text": [
        "[1, 1, 2, 3, 5, 8, 13, 21]"
       ]
      }
     ],
     "prompt_number": 42
    },
    {
     "cell_type": "markdown",
     "metadata": {
      "slideshow": {
       "slide_type": "slide"
      }
     },
     "source": [
      "### Minimize"
     ]
    },
    {
     "cell_type": "code",
     "collapsed": false,
     "input": [
      "from strategies import *\n",
      "\n",
      "double = lambda x: 2 * x\n",
      "square = lambda x: x**2\n",
      "\n",
      "f = minimize([double, square])"
     ],
     "language": "python",
     "metadata": {},
     "outputs": [],
     "prompt_number": 43
    },
    {
     "cell_type": "code",
     "collapsed": false,
     "input": [
      "%matplotlib inline"
     ],
     "language": "python",
     "metadata": {
      "slideshow": {
       "slide_type": "skip"
      }
     },
     "outputs": [],
     "prompt_number": 44
    },
    {
     "cell_type": "code",
     "collapsed": false,
     "input": [
      "fig=figure(figsize=(10, 5))\n",
      "x = np.linspace(0, 4, 100)\n",
      "y = map(f, x)\n",
      "plot(x, y)"
     ],
     "language": "python",
     "metadata": {},
     "outputs": [
      {
       "metadata": {},
       "output_type": "pyout",
       "prompt_number": 45,
       "text": [
        "[<matplotlib.lines.Line2D at 0x7f2d9d9db7d0>]"
       ]
      },
      {
       "metadata": {},
       "output_type": "display_data",
       "png": "[encoded data removed]",
       "text": [
        "<matplotlib.figure.Figure at 0x7f2da55127d0>"
       ]
      }
     ],
     "prompt_number": 45
    },
    {
     "cell_type": "markdown",
     "metadata": {
      "slideshow": {
       "slide_type": "slide"
      }
     },
     "source": [
      "### Do one"
     ]
    },
    {
     "cell_type": "code",
     "collapsed": false,
     "input": [
      "x, y = symbols('x,y')"
     ],
     "language": "python",
     "metadata": {
      "slideshow": {
       "slide_type": "skip"
      }
     },
     "outputs": [],
     "prompt_number": 46
    },
    {
     "cell_type": "code",
     "collapsed": false,
     "input": [
      "f = do_one([trigsimp, powsimp, ratsimp])\n",
      "\n",
      "f(sin(x)**2 + cos(x)**2)"
     ],
     "language": "python",
     "metadata": {},
     "outputs": [
      {
       "latex": [
        "$$1$$"
       ],
       "metadata": {},
       "output_type": "pyout",
       "prompt_number": 47,
       "text": [
        "1"
       ]
      }
     ],
     "prompt_number": 47
    },
    {
     "cell_type": "code",
     "collapsed": false,
     "input": [
      "f((x - 3)**2)"
     ],
     "language": "python",
     "metadata": {},
     "outputs": [
      {
       "latex": [
        "$$x^{2} - 6 x + 9$$"
       ],
       "metadata": {},
       "output_type": "pyout",
       "prompt_number": 48,
       "text": [
        " 2          \n",
        "x  - 6\u22c5x + 9"
       ]
      }
     ],
     "prompt_number": 48
    },
    {
     "cell_type": "code",
     "collapsed": false,
     "input": [
      "f((1/x + 1/y))"
     ],
     "language": "python",
     "metadata": {},
     "outputs": [
      {
       "latex": [
        "$$\\frac{x + y}{x y}$$"
       ],
       "metadata": {},
       "output_type": "pyout",
       "prompt_number": 49,
       "text": [
        "x + y\n",
        "\u2500\u2500\u2500\u2500\u2500\n",
        " x\u22c5y "
       ]
      }
     ],
     "prompt_number": 49
    },
    {
     "cell_type": "markdown",
     "metadata": {
      "slideshow": {
       "slide_type": "slide"
      }
     },
     "source": [
      "### Exhaust"
     ]
    },
    {
     "cell_type": "code",
     "collapsed": false,
     "input": [
      "once = f(1/sin(2*x) + 1/cos(2*x))\n",
      "once"
     ],
     "language": "python",
     "metadata": {},
     "outputs": [
      {
       "latex": [
        "$$\\frac{\\sin{\\left (2 x \\right )} + \\cos{\\left (2 x \\right )}}{\\sin{\\left (2 x \\right )} \\cos{\\left (2 x \\right )}}$$"
       ],
       "metadata": {},
       "output_type": "pyout",
       "prompt_number": 50,
       "text": [
        "sin(2\u22c5x) + cos(2\u22c5x)\n",
        "\u2500\u2500\u2500\u2500\u2500\u2500\u2500\u2500\u2500\u2500\u2500\u2500\u2500\u2500\u2500\u2500\u2500\u2500\u2500\n",
        " sin(2\u22c5x)\u22c5cos(2\u22c5x) "
       ]
      }
     ],
     "prompt_number": 50
    },
    {
     "cell_type": "code",
     "collapsed": false,
     "input": [
      "twice = f(once)\n",
      "twice"
     ],
     "language": "python",
     "metadata": {},
     "outputs": [
      {
       "latex": [
        "$$\\frac{2 \\sqrt{2} \\sin{\\left (2 x + \\frac{\\pi}{4} \\right )}}{\\sin{\\left (4 x \\right )}}$$"
       ],
       "metadata": {},
       "output_type": "pyout",
       "prompt_number": 51,
       "text": [
        "    ___    \u239b      \u03c0\u239e\n",
        "2\u22c5\u2572\u2571 2 \u22c5sin\u239c2\u22c5x + \u2500\u239f\n",
        "           \u239d      4\u23a0\n",
        "\u2500\u2500\u2500\u2500\u2500\u2500\u2500\u2500\u2500\u2500\u2500\u2500\u2500\u2500\u2500\u2500\u2500\u2500\u2500\u2500\n",
        "      sin(4\u22c5x)      "
       ]
      }
     ],
     "prompt_number": 51
    },
    {
     "cell_type": "code",
     "collapsed": false,
     "input": [
      "thrice = f(twice)  # Three times doesn't improve the situation\n",
      "thrice"
     ],
     "language": "python",
     "metadata": {},
     "outputs": [
      {
       "latex": [
        "$$\\frac{2 \\sqrt{2} \\sin{\\left (2 x + \\frac{\\pi}{4} \\right )}}{\\sin{\\left (4 x \\right )}}$$"
       ],
       "metadata": {},
       "output_type": "pyout",
       "prompt_number": 52,
       "text": [
        "    ___    \u239b      \u03c0\u239e\n",
        "2\u22c5\u2572\u2571 2 \u22c5sin\u239c2\u22c5x + \u2500\u239f\n",
        "           \u239d      4\u23a0\n",
        "\u2500\u2500\u2500\u2500\u2500\u2500\u2500\u2500\u2500\u2500\u2500\u2500\u2500\u2500\u2500\u2500\u2500\u2500\u2500\u2500\n",
        "      sin(4\u22c5x)      "
       ]
      }
     ],
     "prompt_number": 52
    },
    {
     "cell_type": "code",
     "collapsed": false,
     "input": [
      "g = exhaust(f)\n",
      "g(1/sin(2*x) + 1/cos(2*x))"
     ],
     "language": "python",
     "metadata": {},
     "outputs": [
      {
       "latex": [
        "$$\\frac{2 \\sqrt{2} \\sin{\\left (2 x + \\frac{\\pi}{4} \\right )}}{\\sin{\\left (4 x \\right )}}$$"
       ],
       "metadata": {},
       "output_type": "pyout",
       "prompt_number": 53,
       "text": [
        "    ___    \u239b      \u03c0\u239e\n",
        "2\u22c5\u2572\u2571 2 \u22c5sin\u239c2\u22c5x + \u2500\u239f\n",
        "           \u239d      4\u23a0\n",
        "\u2500\u2500\u2500\u2500\u2500\u2500\u2500\u2500\u2500\u2500\u2500\u2500\u2500\u2500\u2500\u2500\u2500\u2500\u2500\u2500\n",
        "      sin(4\u22c5x)      "
       ]
      }
     ],
     "prompt_number": 53
    },
    {
     "cell_type": "markdown",
     "metadata": {
      "slideshow": {
       "slide_type": "slide"
      }
     },
     "source": [
      "### Describe complex function applications as trees"
     ]
    },
    {
     "cell_type": "code",
     "collapsed": false,
     "input": [
      "from strategies.tree import greedy\n",
      "\n",
      "double = lambda x: 2*x\n",
      "square = lambda x: x**2\n",
      "\n",
      "# Either double or square, then call str\n",
      "tree = ([double, square], str)\n",
      "\n",
      "f = greedy(tree)  # Perform greedy search over tree"
     ],
     "language": "python",
     "metadata": {},
     "outputs": [],
     "prompt_number": 54
    },
    {
     "cell_type": "code",
     "collapsed": false,
     "input": [
      "f(0.5)"
     ],
     "language": "python",
     "metadata": {},
     "outputs": [
      {
       "metadata": {},
       "output_type": "pyout",
       "prompt_number": 55,
       "text": [
        "'0.25'"
       ]
      }
     ],
     "prompt_number": 55
    },
    {
     "cell_type": "code",
     "collapsed": false,
     "input": [
      "f(10)"
     ],
     "language": "python",
     "metadata": {},
     "outputs": [
      {
       "metadata": {},
       "output_type": "pyout",
       "prompt_number": 56,
       "text": [
        "'20'"
       ]
      }
     ],
     "prompt_number": 56
    },
    {
     "cell_type": "markdown",
     "metadata": {
      "slideshow": {
       "slide_type": "slide"
      }
     },
     "source": [
      "### Trigonometric simplification"
     ]
    },
    {
     "cell_type": "code",
     "collapsed": false,
     "input": [
      "trigsimp(sin(x)**2 + cos(x)**2)"
     ],
     "language": "python",
     "metadata": {},
     "outputs": [
      {
       "latex": [
        "$$1$$"
       ],
       "metadata": {},
       "output_type": "pyout",
       "prompt_number": 57,
       "text": [
        "1"
       ]
      }
     ],
     "prompt_number": 57
    },
    {
     "cell_type": "markdown",
     "metadata": {
      "slideshow": {
       "slide_type": "slide"
      }
     },
     "source": [
      "### Trigonometry functions\n",
      "\n",
      "Implementation separates trig knowledge from tree search knowledge"
     ]
    },
    {
     "cell_type": "code",
     "collapsed": false,
     "input": [
      "def TR1(rv):\n",
      "    \"\"\"Replace sec, csc with 1/cos, 1/sin\n",
      "\n",
      "    Examples\n",
      "    ========\n",
      "\n",
      "    >>> from sympy.simplify.fu import TR1, sec, csc\n",
      "    >>> from sympy.abc import x\n",
      "    >>> bottom_up(TR1, 2*csc(x) + sec(x))\n",
      "    1/cos(x) + 2/sin(x)\n",
      "    \"\"\"\n",
      "    if rv.func is sec:\n",
      "        a = rv.args[0]\n",
      "        return S.One/cos(a)\n",
      "    elif rv.func is csc:\n",
      "        a = rv.args[0]\n",
      "        return S.One/sin(a)\n",
      "    return rv"
     ],
     "language": "python",
     "metadata": {
      "slideshow": {
       "slide_type": "-"
      }
     },
     "outputs": [],
     "prompt_number": 58
    },
    {
     "cell_type": "markdown",
     "metadata": {
      "slideshow": {
       "slide_type": "slide"
      }
     },
     "source": [
      "### Trigonometry functions\n",
      "\n",
      "Implementation separates trig knowledge from tree search knowledge"
     ]
    },
    {
     "cell_type": "markdown",
     "metadata": {
      "slideshow": {
       "slide_type": "-"
      }
     },
     "source": [
      "```\n",
      "    TR0 - simplify expression\n",
      "    TR1 - sec-csc to cos-sin\n",
      "    TR2 - tan-cot to sin-cos ratio\n",
      "    TR2i - sin-cos ratio to tan\n",
      "    TR3 - angle canonicalization\n",
      "    TR4 - functions at special angles\n",
      "    TR5 - powers of sin to powers of cos\n",
      "    TR6 - powers of cos to powers of sin\n",
      "    TR7 - reduce cos power (increase angle)\n",
      "    TR8 - expand products of sin-cos to sums\n",
      "    TR9 - contract sums of sin-cos to products\n",
      "    TR10 - separate sin-cos arguments\n",
      "    TR10i - collect sin-cos arguments\n",
      "    TR11 - reduce double angles\n",
      "    TR12 - separate tan arguments\n",
      "    TR12i - collect tan arguments\n",
      "    TR13 - expand product of tan-cot\n",
      "    TRmorrie - prod(cos(x*2**i), (i, 0, k - 1)) -> sin(2**k*x)/(2**k*sin(x))\n",
      "    TR14 - factored powers of sin or cos to cos or sin power\n",
      "    TR15 - negative powers of sin to cot power\n",
      "    TR16 - negative powers of cos to tan power\n",
      "    TR22 - tan-cot powers to negative powers of sec-csc functions\n",
      "    TR111 - negative sin-cos-tan powers to csc-sec-cot\n",
      "```"
     ]
    },
    {
     "cell_type": "markdown",
     "metadata": {
      "slideshow": {
       "slide_type": "slide"
      }
     },
     "source": [
      "### Trigonometry functions\n",
      "\n",
      "Implementation separates trig knowledge from tree search knowledge\n",
      "\n",
      "```\n",
      "CTR1 = [(TR5, TR0), (TR6, TR0), identity]\n",
      "\n",
      "CTR2 = (TR11, [(TR5, TR0), (TR6, TR0), TR0])\n",
      "\n",
      "CTR3 = [(TRmorrie, TR8, TR0), (TRmorrie, TR8, TR10i, TR0), identity]\n",
      "\n",
      "CTR4 = [(TR4, TR10i), identity]\n",
      "\n",
      "RL1 = (TR4, TR3, TR4, TR12, TR4, TR13, TR4, TR0)\n",
      "\n",
      "RL2 = [\n",
      "    (TR4, TR3, TR10, TR4, TR3, TR11),\n",
      "    (TR5, TR7, TR11, TR4),\n",
      "    (CTR3, CTR1, TR9, CTR2, TR4, TR9, TR9, CTR4),\n",
      "    identity,\n",
      "    ]\n",
      "```"
     ]
    },
    {
     "cell_type": "markdown",
     "metadata": {
      "slideshow": {
       "slide_type": "fragment"
      }
     },
     "source": [
      "    trigsimp = greedy(RL2)"
     ]
    },
    {
     "cell_type": "code",
     "collapsed": false,
     "input": [
      "trigsimp = fu"
     ],
     "language": "python",
     "metadata": {
      "slideshow": {
       "slide_type": "skip"
      }
     },
     "outputs": [],
     "prompt_number": 59
    },
    {
     "cell_type": "markdown",
     "metadata": {
      "slideshow": {
       "slide_type": "slide"
      }
     },
     "source": [
      "### Trigonometry functions\n",
      "\n",
      "Implementation separates trig knowledge from tree search knowledge"
     ]
    },
    {
     "cell_type": "code",
     "collapsed": false,
     "input": [
      "from sympy import *\n",
      "x = Symbol('x')\n",
      "trigsimp = fu"
     ],
     "language": "python",
     "metadata": {
      "slideshow": {
       "slide_type": "skip"
      }
     },
     "outputs": [],
     "prompt_number": 60
    },
    {
     "cell_type": "code",
     "collapsed": false,
     "input": [
      "trigsimp(sin(x)**2 + cos(x)**2, \n",
      "         measure=lambda x: len(str(x)))"
     ],
     "language": "python",
     "metadata": {},
     "outputs": [
      {
       "latex": [
        "$$1$$"
       ],
       "metadata": {},
       "output_type": "pyout",
       "prompt_number": 61,
       "text": [
        "1"
       ]
      }
     ],
     "prompt_number": 61
    },
    {
     "cell_type": "code",
     "collapsed": false,
     "input": [
      "trigsimp(sin(x)**2 + cos(x)**2, \n",
      "         measure=lambda x: -len(str(x)))"
     ],
     "language": "python",
     "metadata": {
      "slideshow": {
       "slide_type": "fragment"
      }
     },
     "outputs": [
      {
       "latex": [
        "$$\\sin^{2}{\\left (x \\right )} + \\cos^{2}{\\left (x \\right )}$$"
       ],
       "metadata": {},
       "output_type": "pyout",
       "prompt_number": 62,
       "text": [
        "   2         2   \n",
        "sin (x) + cos (x)"
       ]
      }
     ],
     "prompt_number": 62
    },
    {
     "cell_type": "code",
     "collapsed": false,
     "input": [
      "trigsimp(tan(7*pi/18)+tan(5*pi/18)-sqrt(3)*tan(5*pi/18)*tan(7*pi/18))"
     ],
     "language": "python",
     "metadata": {
      "slideshow": {
       "slide_type": "fragment"
      }
     },
     "outputs": [
      {
       "latex": [
        "$$- \\sqrt{3}$$"
       ],
       "metadata": {},
       "output_type": "pyout",
       "prompt_number": 63,
       "text": [
        "   ___\n",
        "-\u2572\u2571 3 "
       ]
      }
     ],
     "prompt_number": 63
    },
    {
     "cell_type": "code",
     "collapsed": false,
     "input": [
      "trigsimp(tan(7*pi/18)+tan(5*pi/18)-sqrt(3)*tan(5*pi/18)*tan(7*pi/18), \n",
      "         measure=lambda x: -x.count(sin))\n"
     ],
     "language": "python",
     "metadata": {
      "slideshow": {
       "slide_type": "fragment"
      }
     },
     "outputs": [
      {
       "latex": [
        "$$- \\frac{\\sqrt{3}}{2 \\sin^{2}{\\left (\\frac{\\pi}{9} \\right )}} \\left(- \\sin^{2}{\\left (\\frac{\\pi}{9} \\right )} + \\cos^{2}{\\left (\\frac{\\pi}{9} \\right )}\\right) + \\frac{- \\sin^{2}{\\left (\\frac{\\pi}{9} \\right )} + \\cos^{2}{\\left (\\frac{\\pi}{9} \\right )}}{2 \\sin{\\left (\\frac{\\pi}{9} \\right )} \\cos{\\left (\\frac{\\pi}{9} \\right )}} + \\frac{\\cos{\\left (\\frac{\\pi}{9} \\right )}}{\\sin{\\left (\\frac{\\pi}{9} \\right )}}$$"
       ],
       "metadata": {},
       "output_type": "pyout",
       "prompt_number": 64,
       "text": [
        "    ___ \u239b     2\u239b\u03c0\u239e      2\u239b\u03c0\u239e\u239e        2\u239b\u03c0\u239e      2\u239b\u03c0\u239e      \u239b\u03c0\u239e\n",
        "  \u2572\u2571 3 \u22c5\u239c- sin \u239c\u2500\u239f + cos \u239c\u2500\u239f\u239f   - sin \u239c\u2500\u239f + cos \u239c\u2500\u239f   cos\u239c\u2500\u239f\n",
        "        \u239d      \u239d9\u23a0       \u239d9\u23a0\u23a0         \u239d9\u23a0       \u239d9\u23a0      \u239d9\u23a0\n",
        "- \u2500\u2500\u2500\u2500\u2500\u2500\u2500\u2500\u2500\u2500\u2500\u2500\u2500\u2500\u2500\u2500\u2500\u2500\u2500\u2500\u2500\u2500\u2500\u2500\u2500\u2500\u2500 + \u2500\u2500\u2500\u2500\u2500\u2500\u2500\u2500\u2500\u2500\u2500\u2500\u2500\u2500\u2500\u2500\u2500\u2500\u2500 + \u2500\u2500\u2500\u2500\u2500\u2500\n",
        "                2\u239b\u03c0\u239e                   \u239b\u03c0\u239e    \u239b\u03c0\u239e        \u239b\u03c0\u239e\n",
        "           2\u22c5sin \u239c\u2500\u239f              2\u22c5sin\u239c\u2500\u239f\u22c5cos\u239c\u2500\u239f     sin\u239c\u2500\u239f\n",
        "                 \u239d9\u23a0                   \u239d9\u23a0    \u239d9\u23a0        \u239d9\u23a0"
       ]
      }
     ],
     "prompt_number": 64
    },
    {
     "cell_type": "markdown",
     "metadata": {
      "slideshow": {
       "slide_type": "slide"
      }
     },
     "source": [
      "## Unification and Pattern Matching"
     ]
    },
    {
     "cell_type": "markdown",
     "metadata": {
      "slideshow": {
       "slide_type": "slide"
      }
     },
     "source": [
      "### Unification and Pattern Matching"
     ]
    },
    {
     "cell_type": "code",
     "collapsed": false,
     "input": [
      "from unification import *\n",
      "unify(1, 1)"
     ],
     "language": "python",
     "metadata": {},
     "outputs": [
      {
       "latex": [
        "$$\\begin{Bmatrix}\\end{Bmatrix}$$"
       ],
       "metadata": {},
       "output_type": "pyout",
       "prompt_number": 65,
       "text": [
        "{}"
       ]
      }
     ],
     "prompt_number": 65
    },
    {
     "cell_type": "code",
     "collapsed": false,
     "input": [
      "unify(1, 2)"
     ],
     "language": "python",
     "metadata": {},
     "outputs": [
      {
       "metadata": {},
       "output_type": "pyout",
       "prompt_number": 66,
       "text": [
        "False"
       ]
      }
     ],
     "prompt_number": 66
    },
    {
     "cell_type": "code",
     "collapsed": false,
     "input": [
      "x = var('x')\n",
      "y = var('y')\n",
      "unify(x, 1)"
     ],
     "language": "python",
     "metadata": {},
     "outputs": [
      {
       "metadata": {},
       "output_type": "pyout",
       "prompt_number": 67,
       "text": [
        "{~x: 1}"
       ]
      }
     ],
     "prompt_number": 67
    },
    {
     "cell_type": "code",
     "collapsed": false,
     "input": [
      "unify((1, x), (1, 2))"
     ],
     "language": "python",
     "metadata": {},
     "outputs": [
      {
       "metadata": {},
       "output_type": "pyout",
       "prompt_number": 68,
       "text": [
        "{~x: 2}"
       ]
      }
     ],
     "prompt_number": 68
    },
    {
     "cell_type": "code",
     "collapsed": false,
     "input": [
      "unify((x, x), (1, 1))"
     ],
     "language": "python",
     "metadata": {},
     "outputs": [
      {
       "metadata": {},
       "output_type": "pyout",
       "prompt_number": 69,
       "text": [
        "{~x: 1}"
       ]
      }
     ],
     "prompt_number": 69
    },
    {
     "cell_type": "code",
     "collapsed": false,
     "input": [
      "unify((x, x), (1, 2))"
     ],
     "language": "python",
     "metadata": {},
     "outputs": [
      {
       "metadata": {},
       "output_type": "pyout",
       "prompt_number": 70,
       "text": [
        "False"
       ]
      }
     ],
     "prompt_number": 70
    },
    {
     "cell_type": "code",
     "collapsed": false,
     "input": [
      "unify({'status': x, 'data': {'text': y}}, \n",
      "      {'status': 404, 'data': {'text': 'Page not found'}})"
     ],
     "language": "python",
     "metadata": {},
     "outputs": [
      {
       "metadata": {},
       "output_type": "pyout",
       "prompt_number": 71,
       "text": [
        "{~x: 404, ~y: 'Page not found'}"
       ]
      }
     ],
     "prompt_number": 71
    },
    {
     "cell_type": "markdown",
     "metadata": {
      "slideshow": {
       "slide_type": "slide"
      }
     },
     "source": [
      "## Unify against user classes"
     ]
    },
    {
     "cell_type": "code",
     "collapsed": false,
     "input": [
      "@unifiable\n",
      "class Account(object):\n",
      "    def __init__(self, id, name, balance):\n",
      "        self.id = id\n",
      "        self.name = name\n",
      "        self.balance = balance\n",
      "\n",
      "data = [Account(1, 'Alice', 100),\n",
      "        Account(2, 'Bob', 0),\n",
      "        Account(2, 'Charlie', 0),\n",
      "        Account(2, 'Denis', 400),\n",
      "        Account(2, 'Edith', 500)]\n",
      "\n",
      "id, name, balance = var('id'), var('name'), var('balance')\n",
      "\n",
      "[unify(Account(id, name, balance), acct) for acct in data]\n"
     ],
     "language": "python",
     "metadata": {},
     "outputs": [
      {
       "metadata": {},
       "output_type": "pyout",
       "prompt_number": 72,
       "text": [
        "[{~id: 1, ~name: 'Alice', ~balance: 100},\n",
        " {~id: 2, ~name: 'Bob', ~balance: 0},\n",
        " {~id: 2, ~name: 'Charlie', ~balance: 0},\n",
        " {~id: 2, ~name: 'Denis', ~balance: 400},\n",
        " {~id: 2, ~name: 'Edith', ~balance: 500}]"
       ]
      }
     ],
     "prompt_number": 72
    },
    {
     "cell_type": "code",
     "collapsed": false,
     "input": [
      "[unify(Account(id, name, 0), acct) for acct in data]"
     ],
     "language": "python",
     "metadata": {},
     "outputs": [
      {
       "metadata": {},
       "output_type": "pyout",
       "prompt_number": 73,
       "text": [
        "[False, {~id: 2, ~name: 'Bob'}, {~id: 2, ~name: 'Charlie'}, False, False]"
       ]
      }
     ],
     "prompt_number": 73
    },
    {
     "cell_type": "markdown",
     "metadata": {
      "slideshow": {
       "slide_type": "slide"
      }
     },
     "source": [
      "### Unifying against Blaze Expressions"
     ]
    },
    {
     "cell_type": "code",
     "collapsed": false,
     "input": [
      "from blaze import *\n",
      "unifiable(Expr)\n",
      "accounts = TableSymbol('accounts', '{name: string, balance: int}')\n",
      "cities = TableSymbol('cities', '{name: string, city: string}')\n",
      "\n",
      "expr = join(accounts[accounts['balance'] < 0], \n",
      "            cities, 'name')\n",
      "expr"
     ],
     "language": "python",
     "metadata": {},
     "outputs": [
      {
       "metadata": {},
       "output_type": "pyout",
       "prompt_number": 74,
       "text": [
        "Join(accounts[accounts['balance'] < 0], cities, 'name', 'name')"
       ]
      }
     ],
     "prompt_number": 74
    },
    {
     "cell_type": "code",
     "collapsed": false,
     "input": [
      "from blaze.sql import SQL\n",
      "accounts_sql = SQL('sqlite:///:memory:', 'accounts', schema=accounts.schema)\n",
      "cities_sql = SQL('sqlite:///:memory:', 'cities', schema=cities.schema)\n"
     ],
     "language": "python",
     "metadata": {
      "slideshow": {
       "slide_type": "skip"
      }
     },
     "outputs": [],
     "prompt_number": 75
    },
    {
     "cell_type": "code",
     "collapsed": false,
     "input": [
      "print(compute(expr, {accounts: accounts_sql.table, cities: cities_sql.table}).froms[0])"
     ],
     "language": "python",
     "metadata": {
      "slideshow": {
       "slide_type": "fragment"
      }
     },
     "outputs": [
      {
       "output_type": "stream",
       "stream": "stdout",
       "text": [
        "(SELECT accounts.name AS name, accounts.balance AS balance \n",
        "FROM accounts \n",
        "WHERE accounts.balance < :balance_1) JOIN cities ON name = cities.name\n"
       ]
      }
     ],
     "prompt_number": 76
    },
    {
     "cell_type": "code",
     "collapsed": false,
     "input": [
      "from unification import *\n",
      "a, b, c, d, predicate = var('a'), var('b'), var('c'), var('d'), var('predicate')\n",
      "\n",
      "pattern = Join(Selection(a, predicate), b, c, d)\n",
      "\n",
      "target = Selection(Join(a, b, c, d),\n",
      "                   predicate)\n",
      "\n",
      "s = unify(expr, pattern)\n",
      "s"
     ],
     "language": "python",
     "metadata": {
      "slideshow": {
       "slide_type": "slide"
      }
     },
     "outputs": [
      {
       "metadata": {},
       "output_type": "pyout",
       "prompt_number": 77,
       "text": [
        "{~c: 'name',\n",
        " ~d: 'name',\n",
        " ~predicate: accounts['balance'] < 0,\n",
        " ~b: cities,\n",
        " ~a: accounts}"
       ]
      }
     ],
     "prompt_number": 77
    },
    {
     "cell_type": "code",
     "collapsed": false,
     "input": [
      "expr"
     ],
     "language": "python",
     "metadata": {
      "slideshow": {
       "slide_type": "fragment"
      }
     },
     "outputs": [
      {
       "metadata": {},
       "output_type": "pyout",
       "prompt_number": 78,
       "text": [
        "Join(accounts[accounts['balance'] < 0], cities, 'name', 'name')"
       ]
      }
     ],
     "prompt_number": 78
    },
    {
     "cell_type": "code",
     "collapsed": false,
     "input": [
      "new_expr = reify(target, s)\n",
      "new_expr"
     ],
     "language": "python",
     "metadata": {
      "slideshow": {
       "slide_type": "fragment"
      }
     },
     "outputs": [
      {
       "metadata": {},
       "output_type": "pyout",
       "prompt_number": 79,
       "text": [
        "Join(accounts, cities, 'name', 'name')[accounts['balance'] < 0]"
       ]
      }
     ],
     "prompt_number": 79
    },
    {
     "cell_type": "markdown",
     "metadata": {
      "slideshow": {
       "slide_type": "slide"
      }
     },
     "source": [
      "### Dispatch against patterns"
     ]
    },
    {
     "cell_type": "code",
     "collapsed": false,
     "input": [
      "from unification.match import *\n",
      "\n",
      "n = var('n')\n",
      "\n",
      "@match(0)\n",
      "def fib(n):\n",
      "    return 0\n",
      "\n",
      "@match(1)\n",
      "def fib(n):\n",
      "    return 1\n",
      "\n",
      "@match(n)\n",
      "def fib(n):\n",
      "    return fib(n - 1) + fib(n - 2)\n",
      "\n",
      "[fib(i) for i in range(10)]"
     ],
     "language": "python",
     "metadata": {},
     "outputs": [
      {
       "latex": [
        "$$\\begin{bmatrix}0, & 1, & 1, & 2, & 3, & 5, & 8, & 13, & 21, & 34\\end{bmatrix}$$"
       ],
       "metadata": {},
       "output_type": "pyout",
       "prompt_number": 80,
       "text": [
        "[0, 1, 1, 2, 3, 5, 8, 13, 21, 34]"
       ]
      }
     ],
     "prompt_number": 80
    },
    {
     "cell_type": "code",
     "collapsed": false,
     "input": [
      "from functools import partial\n",
      "from collections import defaultdict\n",
      "from unification import *\n",
      "from unification.match import *\n",
      "\n",
      "balance = defaultdict(lambda: 0)\n",
      "\n",
      "ns = dict()\n",
      "match = partial(match, Dispatcher=VarDispatcher, namespace=ns)"
     ],
     "language": "python",
     "metadata": {
      "slideshow": {
       "slide_type": "skip"
      }
     },
     "outputs": [],
     "prompt_number": 81
    },
    {
     "cell_type": "markdown",
     "metadata": {
      "slideshow": {
       "slide_type": "slide"
      }
     },
     "source": [
      "### More complex example"
     ]
    },
    {
     "cell_type": "code",
     "collapsed": false,
     "input": [
      "name, amount = var('name'), var('amount')\n",
      "\n",
      "@match({'status': 200, 'data': {'name': name, 'credit': amount}})\n",
      "def respond(name, amount):\n",
      "    balance[name] +=  amount\n",
      "    print(\"Added %d to %s's account\" % (amount, name))\n",
      "\n",
      "\n",
      "@match({'status': 200, 'data': {'name': name, 'debit': amount}})\n",
      "def respond(name, amount):\n",
      "    balance[name] -= amount\n",
      "    print(\"Subtracted %d from %s's account\" % (amount, name))\n",
      "\n",
      "\n",
      "@match({'status': 404})\n",
      "def respond():\n",
      "    print(\"Bad Request\")\n",
      "    "
     ],
     "language": "python",
     "metadata": {
      "slideshow": {
       "slide_type": "-"
      }
     },
     "outputs": [],
     "prompt_number": 82
    },
    {
     "cell_type": "code",
     "collapsed": false,
     "input": [
      "respond({'status': 200, 'data': {'name': 'Alice', 'credit': 300}})\n",
      "respond({'status': 200, 'data': {'name': 'Bob', 'debit': 100}})\n",
      "respond({'status': 200, 'data': {'name': 'Bob', 'credit': 200}})\n",
      "respond({'status': 404})"
     ],
     "language": "python",
     "metadata": {
      "slideshow": {
       "slide_type": "fragment"
      }
     },
     "outputs": [
      {
       "output_type": "stream",
       "stream": "stdout",
       "text": [
        "Added 300 to Alice's account\n",
        "Subtracted 100 from Bob's account\n",
        "Added 200 to Bob's account\n",
        "Bad Request\n"
       ]
      }
     ],
     "prompt_number": 83
    },
    {
     "cell_type": "code",
     "collapsed": false,
     "input": [
      "print(dict(balance))"
     ],
     "language": "python",
     "metadata": {
      "slideshow": {
       "slide_type": "fragment"
      }
     },
     "outputs": [
      {
       "output_type": "stream",
       "stream": "stdout",
       "text": [
        "{'Bob': 100, 'Alice': 300}\n"
       ]
      }
     ],
     "prompt_number": 84
    },
    {
     "cell_type": "markdown",
     "metadata": {
      "slideshow": {
       "slide_type": "slide"
      }
     },
     "source": [
      "## `</wacky programming>`"
     ]
    },
    {
     "cell_type": "markdown",
     "metadata": {
      "slideshow": {
       "slide_type": "slide"
      }
     },
     "source": [
      "## Final Thoughts"
     ]
    },
    {
     "cell_type": "markdown",
     "metadata": {},
     "source": [
      "*   Remember the education that occurs in open source\n",
      "*   Influx of new non-expert programmers \n",
      "*   Leverage broad communities by planning central control mechanisms"
     ]
    }
   ],
   "metadata": {}
  }
 ]
}